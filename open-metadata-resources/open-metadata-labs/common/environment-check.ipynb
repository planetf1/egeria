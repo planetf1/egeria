{
 "cells": [
  {
   "cell_type": "code",
   "execution_count": null,
   "metadata": {},
   "outputs": [],
   "source": [
    "#\n",
    "# This file contains the common functions and definitions used in the Egeria Hands on\n",
    "# Lab Notebooks.\n",
    "#\n",
    "\n",
    "# These functions define the location of Coco Pharmaceutical's OMAG Server Platforms\n",
    "# where the metadata servers and governance servers run.  They test for the presence\n",
    "# of the environment variables that define the platform network addresses in the\n",
    "# Docker and Kubernetes runtime environments.  If the environment variables are not\n",
    "# present then the localhost defaults are used.\n",
    "\n",
    "import os\n",
    "\n",
    "corePlatformURL     = os.environ.get('corePlatformURL','http://localhost:8080') \n",
    "dataLakePlatformURL = os.environ.get('dataLakePlatformURL','http://localhost:8081') \n",
    "devPlatformURL      = os.environ.get('devPlatformURL','http://localhost:8082')\n",
    "\n",
    "# The OMAG Server Platforms host one to many OMAG Servers.  An OMAG Server could be\n",
    "# a metadata server or a specialized governance server.  Its behavior is determined\n",
    "# by a configuration document that defines which OMAG services are activated.\n",
    "# All OMAG Server Platforms support the administration commands to define a server's\n",
    "# configuration document.  It is also possible to create configuration documents\n",
    "# through admin calls to one OMAG Server Platform and then deploy them to the\n",
    "# OMAG Server Platform where they are to run.  In the Egeria hands on lab, the\n",
    "# OMAG Server configuration is created on the dev platform and deployed to the\n",
    "# production platforms as needed.\n",
    "\n",
    "adminPlatformURL = devPlatformURL\n",
    "\n",
    "# Gary Geeke is the IT Administration Lead at Coco Pharmaceuticals.\n",
    "# He does all of the configuration for the OMAG Servers.\n",
    "\n",
    "adminUserId = \"garygeeke\"\n",
    "\n",
    "# The OMAG Server Platform is a single executable (application) that can be started\n",
    "# from the command line or a script or as part of a pre-built container environment\n",
    "# such as docker-compose or kubernetes.  The function below checks that a specific\n",
    "# server platform is running.\n",
    "\n",
    "import requests\n",
    "import pprint\n",
    "import json\n",
    "\n",
    "def checkServerPlatform(testPlatformName, testPlatformURL):\n",
    "    isPlatformActiveURL = testPlatformURL + \"/open-metadata/platform-services/users/\" + adminUserId + \"/server-platform/origin/\"\n",
    "    response = requests.get(isPlatformActiveURL)\n",
    "    if response.status_code == 200:\n",
    "        print(\"   ...\", testPlatformName, \"at\", testPlatformURL, \"is active - ready to begin\")\n",
    "        return True\n",
    "    else:\n",
    "        print(\"   ...\", testPlatformName, \"at\", testPlatformURL, \"is down - start it before proceeding\")\n",
    "        return False\n",
    "\n",
    "        \n",
    "print(\"\\nChecking OMAG Server Platform availability...\")\n",
    "available = checkServerPlatform(\"Dev Platform\", devPlatformURL)\n",
    "checkServerPlatform(\"Core Platform\", corePlatformURL)\n",
    "checkServerPlatform(\"Data Lake Platform\", dataLakePlatformURL)\n",
    "print (\"Done.\")\n",
    "\n"
   ]
  },
  {
   "cell_type": "code",
   "execution_count": null,
   "metadata": {},
   "outputs": [],
   "source": []
  },
  {
   "cell_type": "code",
   "execution_count": null,
   "metadata": {},
   "outputs": [],
   "source": []
  }
 ],
 "metadata": {
  "kernelspec": {
   "display_name": "Python 3",
   "language": "python",
   "name": "python3"
  },
  "language_info": {
   "codemirror_mode": {
    "name": "ipython",
    "version": 3
   },
   "file_extension": ".py",
   "mimetype": "text/x-python",
   "name": "python",
   "nbconvert_exporter": "python",
   "pygments_lexer": "ipython3",
   "version": "3.7.4"
  }
 },
 "nbformat": 4,
 "nbformat_minor": 4
}
