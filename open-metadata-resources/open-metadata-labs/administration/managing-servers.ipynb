{
 "cells": [
  {
   "cell_type": "markdown",
   "metadata": {},
   "source": [
    "![Egeria Logo](https://raw.githubusercontent.com/odpi/egeria/master/assets/img/ODPi_Egeria_Logo_color.png)\n",
    "\n",
    "### ODPi Egeria Hands-On Lab\n",
    "# Welcome to the Managing Servers Lab"
   ]
  },
  {
   "cell_type": "markdown",
   "metadata": {},
   "source": [
    "## Introduction\n",
    "\n",
    "ODPi Egeria is an open source project that provides open standards and implementation libraries to connect tools,\n",
    "catalogues and platforms together so they can share information about data and technology (called metadata).\n",
    "\n",
    "The ODPi Egeria platform services provide APIs for starting and stopping servers on a specific OMAG Server Platform. \n",
    "This hands-on lab explains how this is done."
   ]
  },
  {
   "cell_type": "markdown",
   "metadata": {},
   "source": [
    "## The scenario\n",
    "\n",
    "Gary Geeke is the IT Infrastructure leader at Coco Pharmaceuticals.  He has set up a number of OMAG Server Platforms and\n",
    "is validating they are operating correctly.\n",
    "\n",
    "![Gary Geeke](https://raw.githubusercontent.com/odpi/data-governance/master/docs/coco-pharmaceuticals/personas/gary-geeke.png)\n",
    "\n",
    "In this hands-on lab Gary is starting and stopping servers on Coco Pharmaceutical's OMAG Server Platform.  Gary's userId is `garygeeke`."
   ]
  },
  {
   "cell_type": "code",
   "execution_count": 1,
   "metadata": {},
   "outputs": [],
   "source": [
    "import requests\n",
    "\n",
    "adminUserId     = \"garygeeke\""
   ]
  },
  {
   "cell_type": "markdown",
   "metadata": {},
   "source": [
    "In the **Metadata Server Configuration** lab, Gary configured servers for the OMAG Server Platforms shown in Figure 1:\n",
    "\n",
    "![Figure 1](../images/coco-pharmaceuticals-systems-omag-server-platforms.png)\n",
    "> **Figure 1:** Coco Pharmaceuticals' OMAG Server Platforms\n",
    "\n",
    "Below are the host name and port number where the core, data lake and development platforms will run. "
   ]
  },
  {
   "cell_type": "code",
   "execution_count": 2,
   "metadata": {},
   "outputs": [],
   "source": [
    "import os\n",
    "\n",
    "corePlatformURL     = os.environ.get('corePlatformURL','http://localhost:8080') \n",
    "dataLakePlatformURL = os.environ.get('dataLakePlatformURL','http://localhost:8081') \n",
    "devPlatformURL      = os.environ.get('devPlatformURL','http://localhost:8082')"
   ]
  },
  {
   "cell_type": "markdown",
   "metadata": {},
   "source": [
    "The commands to start and stop servers are part of the platform's Operational Services which is a sub-component of the Administration Services.\n",
    "\n",
    "The REST API calls all begin with the platform URL followed by the following URL fragment"
   ]
  },
  {
   "cell_type": "code",
   "execution_count": 3,
   "metadata": {},
   "outputs": [],
   "source": [
    "operationalServicesURLcore = \"/open-metadata/admin-services/users/\" + adminUserId"
   ]
  },
  {
   "cell_type": "markdown",
   "metadata": {},
   "source": [
    "## Exercise 1 - Starting a server on an OMAG Server Platform\n",
    "\n",
    "A server is started by creating an instance of the server on the platform.  The command below starts `cocoMDS1` on the Data Lake OMAG Server Platform."
   ]
  },
  {
   "cell_type": "code",
   "execution_count": 11,
   "metadata": {},
   "outputs": [
    {
     "name": "stdout",
     "output_type": "stream",
     "text": [
      " \n",
      "Starting server cocoMDS1 ...\n",
      "POST http://localhost:8081/open-metadata/admin-services/users/garygeeke/servers/cocoMDS1/instance\n",
      "Response: \n",
      "{\n",
      "    \"class\": \"SuccessMessageResponse\",\n",
      "    \"relatedHTTPCode\": 200,\n",
      "    \"successMessage\": \"Fri Aug 23 10:18:21 PDT 2019 cocoMDS1 is running the following services: [Open Metadata Repository Services (OMRS), Connected Asset Services, Asset Catalog OMAS, Asset Consumer OMAS, Asset Owner OMAS, Community Profile OMAS, Glossary View OMAS, Discovery Engine OMAS, Data Engine OMAS, Data Platform OMAS, Governance Engine OMAS, Information View OMAS]\"\n",
      "}\n",
      " \n"
     ]
    }
   ],
   "source": [
    "import pprint\n",
    "import json\n",
    "\n",
    "serverName = \"cocoMDS1\"\n",
    "platformURLroot = dataLakePlatformURL\n",
    "\n",
    "print (\" \")\n",
    "print (\"Starting server \" + serverName + \" ...\")\n",
    "url = platformURLroot + operationalServicesURLcore + '/servers/' + serverName + \"/instance\"\n",
    "print (\"POST \" + url)\n",
    "\n",
    "response = requests.post(url)\n",
    "\n",
    "prettyResponse = json.dumps(response.json(), indent=4)\n",
    "print (\"Response: \")\n",
    "print (prettyResponse)\n",
    "print (\" \")"
   ]
  },
  {
   "cell_type": "markdown",
   "metadata": {},
   "source": [
    "----\n",
    "If you check the command window where the OMAG server platform is running, you can see the console messages that record the initialization of the services requested in cocoMDS1’s configuration document.\n",
    "\n",
    "Running this command again will restart the server.\n",
    "\n",
    "----\n",
    "The next block of code starts all of the servers for the Core, Data Lake and Development OMAG Server Platforms."
   ]
  },
  {
   "cell_type": "code",
   "execution_count": 5,
   "metadata": {},
   "outputs": [
    {
     "name": "stdout",
     "output_type": "stream",
     "text": [
      "Starting servers for OMAG Server Platform http://localhost:8080 ...\n",
      " \n",
      "Starting server cocoMDS2 ...\n",
      "POST http://localhost:8080/open-metadata/admin-services/users/garygeeke/servers/cocoMDS2/instance\n",
      "Response: \n",
      "{\n",
      "    \"class\": \"SuccessMessageResponse\",\n",
      "    \"relatedHTTPCode\": 200,\n",
      "    \"successMessage\": \"Fri Aug 23 09:52:32 PDT 2019 cocoMDS2 is running the following services: [Open Metadata Repository Services (OMRS), Connected Asset Services, Asset Catalog OMAS, Asset Consumer OMAS, Community Profile OMAS, Glossary View OMAS, Subject Area OMAS, Governance Program OMAS, Security Officer OMAS, Asset Lineage OMAS]\"\n",
      "}\n",
      " \n",
      "Starting server cocoMDS3 ...\n",
      "POST http://localhost:8080/open-metadata/admin-services/users/garygeeke/servers/cocoMDS3/instance\n",
      "Response: \n",
      "{\n",
      "    \"class\": \"SuccessMessageResponse\",\n",
      "    \"relatedHTTPCode\": 200,\n",
      "    \"successMessage\": \"Fri Aug 23 09:52:32 PDT 2019 cocoMDS3 is running the following services: [Open Metadata Repository Services (OMRS), Connected Asset Services, Asset Catalog OMAS, Asset Consumer OMAS, Asset Owner OMAS, Community Profile OMAS, Glossary View OMAS, Subject Area OMAS, Discovery Engine OMAS]\"\n",
      "}\n",
      " \n",
      "Starting server cocoMDS5 ...\n",
      "POST http://localhost:8080/open-metadata/admin-services/users/garygeeke/servers/cocoMDS5/instance\n",
      "Response: \n",
      "{\n",
      "    \"class\": \"SuccessMessageResponse\",\n",
      "    \"relatedHTTPCode\": 400,\n",
      "    \"exceptionClassName\": \"org.odpi.openmetadata.adminservices.ffdc.exception.OMAGConfigurationErrorException\",\n",
      "    \"exceptionErrorMessage\": \"OMAG-ADMIN-400-018 OMAG server cocoMDS5 has been called with a configuration document that has no services configured\",\n",
      "    \"exceptionSystemAction\": \"The requested server provides no function.\",\n",
      "    \"exceptionUserAction\": \"Use the administration services to add configuration for OMAG services to the server's configuration document.\"\n",
      "}\n",
      " \n",
      "Starting server cocoMDS6 ...\n",
      "POST http://localhost:8080/open-metadata/admin-services/users/garygeeke/servers/cocoMDS6/instance\n",
      "Response: \n",
      "{\n",
      "    \"class\": \"SuccessMessageResponse\",\n",
      "    \"relatedHTTPCode\": 400,\n",
      "    \"exceptionClassName\": \"org.odpi.openmetadata.adminservices.ffdc.exception.OMAGConfigurationErrorException\",\n",
      "    \"exceptionErrorMessage\": \"OMAG-ADMIN-400-018 OMAG server cocoMDS6 has been called with a configuration document that has no services configured\",\n",
      "    \"exceptionSystemAction\": \"The requested server provides no function.\",\n",
      "    \"exceptionUserAction\": \"Use the administration services to add configuration for OMAG services to the server's configuration document.\"\n",
      "}\n",
      " \n",
      "--------------------\n",
      "Starting servers for OMAG Server Platform http://localhost:8081 ...\n",
      " \n",
      "Starting server cocoMDS1 ...\n",
      "POST http://localhost:8081/open-metadata/admin-services/users/garygeeke/servers/cocoMDS1/instance\n",
      "Response: \n",
      "{\n",
      "    \"class\": \"SuccessMessageResponse\",\n",
      "    \"relatedHTTPCode\": 200,\n",
      "    \"successMessage\": \"Fri Aug 23 09:52:33 PDT 2019 cocoMDS1 is running the following services: [Open Metadata Repository Services (OMRS), Connected Asset Services, Asset Catalog OMAS, Asset Consumer OMAS, Asset Owner OMAS, Community Profile OMAS, Glossary View OMAS, Discovery Engine OMAS, Data Engine OMAS, Data Platform OMAS, Governance Engine OMAS, Information View OMAS]\"\n",
      "}\n",
      " \n",
      " \n",
      "Starting server cocoMDS4 ...\n",
      "POST http://localhost:8081/open-metadata/admin-services/users/garygeeke/servers/cocoMDS4/instance\n",
      "Response: \n",
      "{\n",
      "    \"class\": \"SuccessMessageResponse\",\n",
      "    \"relatedHTTPCode\": 200,\n",
      "    \"successMessage\": \"Fri Aug 23 09:52:33 PDT 2019 cocoMDS4 is running the following services: [Open Metadata Repository Services (OMRS), Connected Asset Services, Asset Catalog OMAS, Asset Consumer OMAS, Asset Owner OMAS, Community Profile OMAS, Glossary View OMAS, Subject Area OMAS]\"\n",
      "}\n",
      " \n",
      "--------------------\n",
      "Starting servers for OMAG Server Platform http://localhost:8082 ...\n",
      " \n",
      "Starting server cocoMDSx ...\n",
      "POST http://localhost:8082/open-metadata/admin-services/users/garygeeke/servers/cocoMDSx/instance\n",
      "Response: \n",
      "{\n",
      "    \"class\": \"SuccessMessageResponse\",\n",
      "    \"relatedHTTPCode\": 400,\n",
      "    \"exceptionClassName\": \"org.odpi.openmetadata.adminservices.ffdc.exception.OMAGConfigurationErrorException\",\n",
      "    \"exceptionErrorMessage\": \"OMAG-ADMIN-400-018 OMAG server cocoMDSx has been called with a configuration document that has no services configured\",\n",
      "    \"exceptionSystemAction\": \"The requested server provides no function.\",\n",
      "    \"exceptionUserAction\": \"Use the administration services to add configuration for OMAG services to the server's configuration document.\"\n",
      "}\n",
      " \n"
     ]
    }
   ],
   "source": [
    "platformURLroot = corePlatformURL\n",
    "\n",
    "print (\"Starting servers for OMAG Server Platform \" + platformURLroot + \" ...\")\n",
    "\n",
    "serverName = \"cocoMDS2\"\n",
    "\n",
    "print (\" \")\n",
    "print (\"Starting server \" + serverName + \" ...\")\n",
    "url = platformURLroot + operationalServicesURLcore + '/servers/' + serverName + \"/instance\"\n",
    "print (\"POST \" + url)\n",
    "\n",
    "response = requests.post(url)\n",
    "\n",
    "prettyResponse = json.dumps(response.json(), indent=4)\n",
    "print (\"Response: \")\n",
    "print (prettyResponse)\n",
    "print (\" \")\n",
    "\n",
    "serverName = \"cocoMDS3\"\n",
    "\n",
    "print (\"Starting server \" + serverName + \" ...\")\n",
    "url = platformURLroot + operationalServicesURLcore + '/servers/' + serverName + \"/instance\"\n",
    "print (\"POST \" + url)\n",
    "\n",
    "response = requests.post(url)\n",
    "\n",
    "prettyResponse = json.dumps(response.json(), indent=4)\n",
    "print (\"Response: \")\n",
    "print (prettyResponse)\n",
    "print (\" \")\n",
    "\n",
    "serverName = \"cocoMDS5\"\n",
    "\n",
    "print (\"Starting server \" + serverName + \" ...\")\n",
    "url = platformURLroot + operationalServicesURLcore + '/servers/' + serverName + \"/instance\"\n",
    "print (\"POST \" + url)\n",
    "\n",
    "response = requests.post(url)\n",
    "\n",
    "prettyResponse = json.dumps(response.json(), indent=4)\n",
    "print (\"Response: \")\n",
    "print (prettyResponse)\n",
    "print (\" \")\n",
    "\n",
    "serverName = \"cocoMDS6\"\n",
    "\n",
    "print (\"Starting server \" + serverName + \" ...\")\n",
    "url = platformURLroot + operationalServicesURLcore + '/servers/' + serverName + \"/instance\"\n",
    "print (\"POST \" + url)\n",
    "\n",
    "response = requests.post(url)\n",
    "\n",
    "prettyResponse = json.dumps(response.json(), indent=4)\n",
    "print (\"Response: \")\n",
    "print (prettyResponse)\n",
    "print (\" \")\n",
    "\n",
    "print (\"--------------------\")\n",
    "\n",
    "platformURLroot = dataLakePlatformURL\n",
    "\n",
    "print (\"Starting servers for OMAG Server Platform \" + platformURLroot + \" ...\")\n",
    "\n",
    "serverName = \"cocoMDS1\"\n",
    "\n",
    "print (\" \")\n",
    "print (\"Starting server \" + serverName + \" ...\")\n",
    "url = platformURLroot + operationalServicesURLcore + '/servers/' + serverName + \"/instance\"\n",
    "print (\"POST \" + url)\n",
    "\n",
    "response = requests.post(url)\n",
    "\n",
    "prettyResponse = json.dumps(response.json(), indent=4)\n",
    "print (\"Response: \")\n",
    "print (prettyResponse)\n",
    "print (\" \")\n",
    "\n",
    "serverName = \"cocoMDS4\"\n",
    "\n",
    "print (\" \")\n",
    "print (\"Starting server \" + serverName + \" ...\")\n",
    "url = platformURLroot + operationalServicesURLcore + '/servers/' + serverName + \"/instance\"\n",
    "print (\"POST \" + url)\n",
    "\n",
    "response = requests.post(url)\n",
    "\n",
    "prettyResponse = json.dumps(response.json(), indent=4)\n",
    "print (\"Response: \")\n",
    "print (prettyResponse)\n",
    "print (\" \")\n",
    "\n",
    "\n",
    "print (\"--------------------\")\n",
    "\n",
    "platformURLroot = devPlatformURL\n",
    "\n",
    "print (\"Starting servers for OMAG Server Platform \" + platformURLroot + \" ...\")\n",
    "\n",
    "serverName = \"cocoMDSx\"\n",
    "\n",
    "print (\" \")\n",
    "print (\"Starting server \" + serverName + \" ...\")\n",
    "url = platformURLroot + operationalServicesURLcore + '/servers/' + serverName + \"/instance\"\n",
    "print (\"POST \" + url)\n",
    "\n",
    "response = requests.post(url)\n",
    "\n",
    "prettyResponse = json.dumps(response.json(), indent=4)\n",
    "print (\"Response: \")\n",
    "print (prettyResponse)\n",
    "print (\" \")"
   ]
  },
  {
   "cell_type": "markdown",
   "metadata": {},
   "source": [
    "## Exercise 2 - Querying the configuration of a running server\n",
    "\n",
    "As a reminder, the call to retrieve the configuration for a particular server is as follows:"
   ]
  },
  {
   "cell_type": "code",
   "execution_count": null,
   "metadata": {},
   "outputs": [],
   "source": [
    "\n",
    "serverName = \"cocoMDS2\"\n",
    "platformURLroot = dataLakePlatformURL\n",
    "\n",
    "print (\" \")\n",
    "print (\"Retrieving stored configuration document for \" + serverName + \" ...\")\n",
    "url = platformURLroot + operationalServicesURLcore + '/servers/' + serverName + '/configuration'\n",
    "print (\"GET \" + url)\n",
    "\n",
    "response = requests.get(url)\n",
    "\n",
    "prettyResponse = json.dumps(response.json(), indent=4)\n",
    "print (\"Response: \")\n",
    "print (prettyResponse)\n",
    "print (\" \")"
   ]
  },
  {
   "cell_type": "markdown",
   "metadata": {},
   "source": [
    "The configuration includes an audit trail that gives a high level overview of how the server has been configured."
   ]
  },
  {
   "cell_type": "code",
   "execution_count": null,
   "metadata": {},
   "outputs": [],
   "source": [
    "\n",
    "serverConfig=response.json().get('omagserverConfig')\n",
    "auditTrail=serverConfig.get('auditTrail')\n",
    "\n",
    "print (\" \")\n",
    "print (\"Audit Trail: \")\n",
    "\n",
    "for x in range(len(auditTrail)): \n",
    "    print (auditTrail[x])"
   ]
  },
  {
   "cell_type": "markdown",
   "metadata": {},
   "source": [
    "Alternatively you can see the complete contents of the configuration document"
   ]
  },
  {
   "cell_type": "code",
   "execution_count": null,
   "metadata": {},
   "outputs": [],
   "source": [
    "print (\" \")\n",
    "\n",
    "prettyResponse = json.dumps(response.json(), indent=4)\n",
    "print (\"Configuration for server: \" + serverName)\n",
    "print (prettyResponse)\n",
    "print (\" \")"
   ]
  },
  {
   "cell_type": "markdown",
   "metadata": {},
   "source": [
    "----\n",
    "However it is possible that the configuration document has been changed since the server was started.  This new configuration will not be picked up until the server restarts.\n",
    "\n",
    "The following call retrieves the configuration that a running server is actually using so you can verify it is using the latest configuration.  Comparing the audit trail at the end of the running configuration with that of the configuration document is a\n",
    "quick way to check if it has been changed."
   ]
  },
  {
   "cell_type": "code",
   "execution_count": null,
   "metadata": {},
   "outputs": [],
   "source": [
    "print (\" \")\n",
    "print (\"Retrieving running configuration document for \" + serverName + \" ...\")\n",
    "url = platformURLroot + operationalServicesURLcore + '/servers/' + serverName + '/instance/configuration'\n",
    "print (\"GET \" + url)\n",
    "\n",
    "response = requests.get(url)\n",
    "\n",
    "prettyResponse = json.dumps(response.json(), indent=4)\n",
    "print (\"Response: \")\n",
    "print (prettyResponse)\n",
    "print (\" \")"
   ]
  },
  {
   "cell_type": "markdown",
   "metadata": {},
   "source": [
    "## Exercise 3 - shutting down a server\n",
    "\n",
    "The command to shutdown a server is as follows:"
   ]
  },
  {
   "cell_type": "code",
   "execution_count": null,
   "metadata": {},
   "outputs": [],
   "source": [
    "serverName = \"cocoMDS1\"\n",
    "platformURLroot = dataLakePlatformURL\n",
    "\n",
    "print (\" \")\n",
    "print (\"Stopping server \" + serverName + \" ...\")\n",
    "url = platformURLroot + operationalServicesURLcore + '/servers/' + serverName + \"/instance\"\n",
    "print (\"DELETE \" + url)\n",
    "\n",
    "response = requests.delete(url)\n",
    "\n",
    "prettyResponse = json.dumps(response.json(), indent=4)\n",
    "print (\"Response: \")\n",
    "print (prettyResponse)\n",
    "print (\" \")"
   ]
  },
  {
   "cell_type": "markdown",
   "metadata": {},
   "source": [
    "----\n",
    "The following command shuts the server, unregisters it from the cohort and deleted the configuration document.\n",
    "Use this command with care :)."
   ]
  },
  {
   "cell_type": "code",
   "execution_count": null,
   "metadata": {},
   "outputs": [],
   "source": [
    "serverName = \"myOldServer\"\n",
    "platformURLroot = dataLakePlatformURL\n",
    "\n",
    "print (\" \")\n",
    "print (\"Stopping server \" + serverName + \" ...\")\n",
    "url = platformURLroot + operationalServicesURLcore + '/servers/' + serverName\n",
    "print (\"DELETE \" + url)\n",
    "\n",
    "response = requests.delete(url)\n",
    "\n",
    "prettyResponse = json.dumps(response.json(), indent=4)\n",
    "print (\"Response: \")\n",
    "print (prettyResponse)\n",
    "print (\" \")"
   ]
  }
 ],
 "metadata": {
  "kernelspec": {
   "display_name": "Python 3",
   "language": "python",
   "name": "python3"
  },
  "language_info": {
   "codemirror_mode": {
    "name": "ipython",
    "version": 3
   },
   "file_extension": ".py",
   "mimetype": "text/x-python",
   "name": "python",
   "nbconvert_exporter": "python",
   "pygments_lexer": "ipython3",
   "version": "3.7.3"
  }
 },
 "nbformat": 4,
 "nbformat_minor": 2
}
