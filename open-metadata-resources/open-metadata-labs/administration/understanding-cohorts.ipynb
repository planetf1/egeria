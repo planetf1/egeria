{
 "cells": [
  {
   "cell_type": "markdown",
   "metadata": {},
   "source": [
    "![Egeria Logo](https://raw.githubusercontent.com/odpi/egeria/master/assets/img/ODPi_Egeria_Logo_color.png)\n",
    "\n",
    "### ODPi Egeria Hands-On Lab\n",
    "# Welcome to the Understanding Cohort Configuration Lab"
   ]
  },
  {
   "cell_type": "markdown",
   "metadata": {},
   "source": [
    "## Introduction\n",
    "\n",
    "ODPi Egeria is an open source project that provides open standards and implementation libraries to connect tools,\n",
    "catalogues and platforms together so they can share information about data and technology (called metadata).\n",
    "\n",
    "The ODPi Egeria repository services provide APIs for understanding the make up of the cohorts that an OMAG Server\n",
    "is connected to. \n",
    "This hands-on lab steps through each of the repository services operations for understanding a cohort, providing a explaination and the code to call each operation."
   ]
  },
  {
   "cell_type": "markdown",
   "metadata": {},
   "source": [
    "## The Scenario\n",
    "\n",
    "Gary Geeke is the IT Infrastructure leader at Coco Pharmaceuticals.  He has set up a number of OMAG Servers and\n",
    "is validating they are operating correctly.\n",
    "\n",
    "![Gary Geeke](https://raw.githubusercontent.com/odpi/data-governance/master/docs/coco-pharmaceuticals/personas/gary-geeke.png)\n",
    "\n",
    "In this hands-on lab Gary is issuing queries to the repository services.  Gary's userId is `garygeeke`."
   ]
  },
  {
   "cell_type": "code",
   "execution_count": null,
   "metadata": {},
   "outputs": [],
   "source": [
    "import requests\n",
    "\n",
    "adminUserId     = \"garygeeke\""
   ]
  },
  {
   "cell_type": "markdown",
   "metadata": {},
   "source": [
    "In the **Metadata Server Configuration**, gary configured servers for the OMAG Server Platforms shown in Figure 1:\n",
    "\n",
    "![Figure 1](../images/coco-pharmaceuticals-systems-omag-server-platforms.png)\n",
    "> **Figure 1:** Coco Pharmaceuticals' OMAG Server Platforms\n",
    "\n",
    "Below are the host name and port number for the core, data lake and development platforms and the servers that are hosted on each:"
   ]
  },
  {
   "cell_type": "code",
   "execution_count": null,
   "metadata": {},
   "outputs": [],
   "source": [
    "import os\n",
    "\n",
    "corePlatformURL     = os.environ.get('corePlatformURL','http://localhost:8080') \n",
    "dataLakePlatformURL = os.environ.get('dataLakePlatformURL','http://localhost:8081') \n",
    "devPlatformURL      = os.environ.get('devPlatformURL','http://localhost:8082')\n",
    "\n",
    "server1PlatformURL = dataLakePlatformURL\n",
    "server1Name        = \"cocoMDS1\"\n",
    "\n",
    "server2PlatformURL = corePlatformURL\n",
    "server2Name        = \"cocoMDS2\"\n",
    "\n",
    "server3PlatformURL = corePlatformURL\n",
    "server3Name        = \"cocoMDS3\"\n",
    "\n",
    "server4PlatformURL = dataLakePlatformURL\n",
    "server4Name        = \"cocoMDS4\"\n",
    "\n",
    "server5PlatformURL = corePlatformURL\n",
    "server5Name        = \"cocoMDS5\"\n",
    "\n",
    "server6PlatformURL = corePlatformURL\n",
    "server6Name        = \"cocoMDS6\"\n",
    "\n",
    "serverXPlatformURL = devPlatformURL\n",
    "serverXName        = \"cocoMDSx\""
   ]
  },
  {
   "cell_type": "markdown",
   "metadata": {},
   "source": [
    "You can use these variables to issue the commands that follow to different servers.\n",
    "\n",
    "Figure 2 shows which metadata servers belong to each cohort.\n",
    "\n",
    "![Figure 2](../images/coco-pharmaceuticals-systems-metadata-servers.png)\n",
    "> **Figure 2:** Membership of Coco Pharmaceuticals' cohorts\n",
    "\n",
    "Below are the names of the three cohorts."
   ]
  },
  {
   "cell_type": "code",
   "execution_count": null,
   "metadata": {},
   "outputs": [],
   "source": [
    "cocoCohort = \"cocoCohort\"\n",
    "devCohort  = \"devCohort\"\n",
    "iotCohort  = \"iotCohort\""
   ]
  },
  {
   "cell_type": "markdown",
   "metadata": {},
   "source": [
    "## Querying a server's cohorts\n",
    "\n",
    "The command below returns the list of cohorts that a server is connected to.\n"
   ]
  },
  {
   "cell_type": "code",
   "execution_count": null,
   "metadata": {},
   "outputs": [],
   "source": [
    "serverName = server1Name\n",
    "platformURLroot = server1PlatformURL\n",
    "metadataHighwayServicesURLcore =  '/servers/' + serverName + '/open-metadata/repository-services/users/' + adminUserId + '/metadata-highway'\n",
    "\n",
    "import pprint\n",
    "import json\n",
    "\n",
    "print (\" \")\n",
    "print (\"Querying cohorts for \" + serverName + \" ...\")\n",
    "url = platformURLroot + metadataHighwayServicesURLcore + '/cohort-descriptions'\n",
    "print (\"GET \" + url)\n",
    "\n",
    "response = requests.get(url)\n",
    "\n",
    "prettyResponse = json.dumps(response.json(), indent=4)\n",
    "print (\"Response: \")\n",
    "print (prettyResponse)\n",
    "print (\" \")"
   ]
  },
  {
   "cell_type": "markdown",
   "metadata": {},
   "source": [
    "----\n",
    "## Querying local registration"
   ]
  },
  {
   "cell_type": "code",
   "execution_count": null,
   "metadata": {},
   "outputs": [],
   "source": [
    "print (\" \")\n",
    "print (\"Querying local registration for \" + serverName + \" ...\")\n",
    "url = platformURLroot + metadataHighwayServicesURLcore + '/local-registration'\n",
    "print (\"GET \" + url)\n",
    "\n",
    "response = requests.get(url)\n",
    "\n",
    "prettyResponse = json.dumps(response.json(), indent=4)\n",
    "print (\"Response: \")\n",
    "print (prettyResponse)\n",
    "print (\" \")"
   ]
  },
  {
   "cell_type": "markdown",
   "metadata": {},
   "source": [
    "----\n",
    "## Querying remote members"
   ]
  },
  {
   "cell_type": "code",
   "execution_count": null,
   "metadata": {},
   "outputs": [],
   "source": [
    "print (\" \")\n",
    "print (\"Querying remote members for \" + serverName + \" ...\")\n",
    "url = platformURLroot + metadataHighwayServicesURLcore + \"/cohorts/cocoCohort/remote-members\"\n",
    "print (\"GET \" + url)\n",
    "\n",
    "response = requests.get(url)\n",
    "\n",
    "prettyResponse = json.dumps(response.json(), indent=4)\n",
    "print (\"Response: \")\n",
    "print (prettyResponse)\n",
    "print (\" \")"
   ]
  },
  {
   "cell_type": "code",
   "execution_count": null,
   "metadata": {},
   "outputs": [],
   "source": []
  }
 ],
 "metadata": {
  "kernelspec": {
   "display_name": "Python 3",
   "language": "python",
   "name": "python3"
  },
  "language_info": {
   "codemirror_mode": {
    "name": "ipython",
    "version": 3
   },
   "file_extension": ".py",
   "mimetype": "text/x-python",
   "name": "python",
   "nbconvert_exporter": "python",
   "pygments_lexer": "ipython3",
   "version": "3.7.3"
  }
 },
 "nbformat": 4,
 "nbformat_minor": 2
}
