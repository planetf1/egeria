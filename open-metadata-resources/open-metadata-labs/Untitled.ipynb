{
 "cells": [
  {
   "cell_type": "code",
   "execution_count": 1,
   "metadata": {},
   "outputs": [
    {
     "name": "stdout",
     "output_type": "stream",
     "text": [
      "['/Users/jonesn/IdeaProjects/egeria/open-metadata-resources/open-metadata-labs', '/usr/local/Cellar/jupyterlab/1.2.3/libexec/lib/python37.zip', '/usr/local/Cellar/jupyterlab/1.2.3/libexec/lib/python3.7', '/usr/local/Cellar/jupyterlab/1.2.3/libexec/lib/python3.7/lib-dynload', '/usr/local/opt/python/Frameworks/Python.framework/Versions/3.7/lib/python3.7', '', '/usr/local/Cellar/jupyterlab/1.2.3/libexec/lib/python3.7/site-packages', '/usr/local/Cellar/jupyterlab/1.2.3/libexec/lib/python3.7/site-packages/IPython/extensions', '/Users/jonesn/.ipython']\n"
     ]
    }
   ],
   "source": [
    "import sys\n",
    "print(sys.path)\n",
    "\n"
   ]
  },
  {
   "cell_type": "code",
   "execution_count": null,
   "metadata": {},
   "outputs": [],
   "source": []
  }
 ],
 "metadata": {
  "kernelspec": {
   "display_name": "Python 3",
   "language": "python",
   "name": "python3"
  },
  "language_info": {
   "codemirror_mode": {
    "name": "ipython",
    "version": 3
   },
   "file_extension": ".py",
   "mimetype": "text/x-python",
   "name": "python",
   "nbconvert_exporter": "python",
   "pygments_lexer": "ipython3",
   "version": "3.7.5"
  }
 },
 "nbformat": 4,
 "nbformat_minor": 2
}
