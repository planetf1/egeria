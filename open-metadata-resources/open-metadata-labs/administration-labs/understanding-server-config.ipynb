{
 "cells": [
  {
   "cell_type": "markdown",
   "metadata": {},
   "source": [
    "![Egeria Logo](https://raw.githubusercontent.com/odpi/egeria/master/assets/img/ODPi_Egeria_Logo_color.png)\n",
    "\n",
    "### ODPi Egeria Hands-On Lab\n",
    "# Welcome to the Understanding Server Configuration Lab"
   ]
  },
  {
   "cell_type": "markdown",
   "metadata": {},
   "source": [
    "## Introduction\n",
    "\n",
    "ODPi Egeria is an open source project that provides open standards and implementation libraries to connect tools, catalogs and platforms together so they can share information about data and technology.  This information is called metadata.\n",
    "\n",
    "Egeria provides servers to manage the exchange of metadata between different technologies. These servers are configured using REST API calls to an Open Metadata and Governance (OMAG) Server Platform.  Each call either defines a default value or configures a service that must run within the server when it is started.\n",
    "\n",
    "As each configuration call is made, the server platform builds up a [configuration document](https://egeria.odpi.org/open-metadata-implementation/admin-services/docs/concepts/configuration-document.html) with the values passed.  When the configuration is finished, the configuration document will have all of the information needed to start the server.\n",
    "\n",
    "The configuration document is deployed to the server platform that is hosting the server.  When a request is made to this server platform to start the server, it reads the configuration document and initializes the server with the appropriate services.\n",
    "\n",
    "In this hands-on lab you will learn about the contents of configuration documents.\n",
    "\n",
    "## The scenario\n",
    "\n",
    "[Gary Geeke](https://opengovernance.odpi.org/coco-pharmaceuticals/personas/gary-geeke.html) is the IT Infrastructure leader at [Coco Pharmaceuticals](https://opengovernance.odpi.org/coco-pharmaceuticals/).\n",
    "\n",
    "![Gary Geeke](https://raw.githubusercontent.com/odpi/data-governance/master/docs/coco-pharmaceuticals/personas/gary-geeke.png)\n",
    "\n",
    "Gary's userId is `garygeeke`."
   ]
  },
  {
   "cell_type": "code",
   "execution_count": null,
   "metadata": {},
   "outputs": [],
   "source": [
    "adminUserId     = \"garygeeke\""
   ]
  },
  {
   "cell_type": "markdown",
   "metadata": {},
   "source": [
    "In the **Egeria Server Configuration (../egeria-server-config.ipynb)** lab, Gary configured servers for the Open Metadata and Governance (OMAG) Server Platforms shown in Figure 1:\n",
    "\n",
    "![Figure 1](../images/coco-pharmaceuticals-systems-omag-server-platforms.png)\n",
    "> **Figure 1:** Coco Pharmaceuticals' OMAG Server Platforms\n",
    "\n",
    "Below are the host name and port number for the core, data lake and development platforms. "
   ]
  },
  {
   "cell_type": "code",
   "execution_count": null,
   "metadata": {},
   "outputs": [],
   "source": [
    "import os\n",
    "\n",
    "corePlatformURL     = os.environ.get('corePlatformURL','http://localhost:8080') \n",
    "dataLakePlatformURL = os.environ.get('dataLakePlatformURL','http://localhost:8081') \n",
    "devPlatformURL      = os.environ.get('devPlatformURL','http://localhost:8082')"
   ]
  },
  {
   "cell_type": "markdown",
   "metadata": {},
   "source": [
    "In this hands-on lab Gary is exploring the configuration document for the `cocoMDS1` server to understand how it is configured.  The cocoMDS1 server runs on the Data Lake OMAG Server Platform."
   ]
  },
  {
   "cell_type": "code",
   "execution_count": null,
   "metadata": {},
   "outputs": [],
   "source": [
    "mdrServerName = \"cocoMDS1\"\n",
    "platformURLroot = dataLakePlatformURL\n"
   ]
  },
  {
   "cell_type": "markdown",
   "metadata": {},
   "source": [
    "## Checking that the Data Lake OMAG Server Platform is running\n",
    "\n",
    "The OMAG Server Platform is a single executable (application) that can be started from the command line or a script or as part of a pre-built container environment such as `docker-compose` or `kubernetes`.\n",
    "\n",
    "If you are running this notebook as part of an Egeria hands on lab then the server platforms you need are already started.  Run the following command to check that the data lake platform is running."
   ]
  },
  {
   "cell_type": "code",
   "execution_count": null,
   "metadata": {},
   "outputs": [],
   "source": [
    "import pprint\n",
    "import json\n",
    "import requests\n",
    "\n",
    "isServerPlatformActiveURL = platformURLroot + \"/open-metadata/platform-services/users/\" + adminUserId + \"/server-platform/origin/\"\n",
    "\n",
    "print (\" \")\n",
    "print (\"GET \" + isServerPlatformActiveURL)\n",
    "print (\" \")\n",
    "\n",
    "response = requests.get(isServerPlatformActiveURL)\n",
    "\n",
    "print (\"Returns:\")\n",
    "print (response.text)\n",
    "\n",
    "if response.status_code == 200:\n",
    "    print(\"Server Platform \" + platformURLroot + \" is active - ready to begin\")\n",
    "else:\n",
    "    print(\"Server Platform \" + platformURLroot + \" is down - start it before proceeding\")\n",
    "\n",
    "print (\" \")"
   ]
  },
  {
   "cell_type": "markdown",
   "metadata": {},
   "source": [
    "----\n",
    "If the platform is not running, you will see a lot of red text. There are a number of choices on how to start it.  Follow [this link to set up and run the platform](https://egeria.odpi.org/open-metadata-resources/open-metadata-labs/).\n",
    "\n",
    "Once the platform is running you are ready to proceed.\n",
    "\n",
    "What follows are descriptions and coded requests to extract different parts of the configuration."
   ]
  },
  {
   "cell_type": "markdown",
   "metadata": {},
   "source": [
    "## Retrieve configuration for cocoMDS1 - Data Lake Operations metadata server\n",
    "\n",
    "The command below retrieves the configuration document for `cocoMDS1`.  Its a big document so we will not display its full contents at this time."
   ]
  },
  {
   "cell_type": "code",
   "execution_count": null,
   "metadata": {},
   "outputs": [],
   "source": [
    "\n",
    "operationalServicesURLcore = \"/open-metadata/admin-services/users/\" + adminUserId\n",
    "\n",
    "print (\" \")\n",
    "print (\"Retrieving stored configuration document for \" + mdrServerName + \" ...\")\n",
    "url = platformURLroot + operationalServicesURLcore + '/servers/' + mdrServerName + '/configuration'\n",
    "print (\"GET \" + url)\n",
    "\n",
    "response = requests.get(url)\n",
    "\n",
    "if response.status_code == 200:\n",
    "    print(\"Server configuration for \" + mdrServerName + \" has been retrieved\")\n",
    "else:\n",
    "    print(\"Server configuration for \" + mdrServerName + \" is unavailable\")\n",
    "\n",
    "serverConfig=response.json().get('omagserverConfig')"
   ]
  },
  {
   "cell_type": "markdown",
   "metadata": {},
   "source": [
    "----\n",
    "The configuration includes an audit trail that gives a high level overview of how the server has been configured.  This is always a useful starting point to understand the content of the configuration document for the server."
   ]
  },
  {
   "cell_type": "code",
   "execution_count": null,
   "metadata": {},
   "outputs": [],
   "source": [
    "auditTrail=serverConfig.get('auditTrail')\n",
    "\n",
    "print (\" \")\n",
    "\n",
    "if auditTrail == None:\n",
    "    print (\"Empty configuration - no audit trail - configure the server before continuing\")\n",
    "else:    \n",
    "    print (\"Audit Trail: \")\n",
    "    for x in range(len(auditTrail)): \n",
    "        print (auditTrail[x])"
   ]
  },
  {
   "cell_type": "markdown",
   "metadata": {},
   "source": [
    "----\n",
    "The rest of the lab notebook extracts the different sections from the configuration document and explains what they mean and how they are used in the server."
   ]
  },
  {
   "cell_type": "markdown",
   "metadata": {},
   "source": [
    "----\n",
    "### Server names and identifiers\n",
    "\n",
    "A server has a unique name that is used on all REST calls that concern it.  In addition, it is assigned a unique identifier (GUID) and an optional server type.  It is also possible to set up the name of the organization that owns the server.  These values are used in events the help locate the origin of metadata."
   ]
  },
  {
   "cell_type": "code",
   "execution_count": null,
   "metadata": {},
   "outputs": [],
   "source": [
    "print (\" \")\n",
    "\n",
    "serverName=serverConfig.get('localServerName')\n",
    "if serverName != None:\n",
    "    print (\"Server name:   \" + serverName)\n",
    "    \n",
    "serverGUID=serverConfig.get('localServerId')\n",
    "if serverGUID != None:\n",
    "    print (\"Server GUID:   \" + serverGUID)\n",
    "\n",
    "serverType=serverConfig.get('localServerType')\n",
    "if serverType != None:\n",
    "    print (\"Server Type:   \" + serverType)\n",
    "\n",
    "organization=serverConfig.get('organizationName')\n",
    "if organization != None:\n",
    "    print (\"Organization:  \" + organization)    \n",
    "    "
   ]
  },
  {
   "cell_type": "markdown",
   "metadata": {},
   "source": [
    "----\n",
    "In addition, if the server has a local repository then the collection of metadata stored in it has a unique identifier (GUID) and a name.  These values are used to identify the origin of metadata instances since they are included in the audit header of any open metadata instance."
   ]
  },
  {
   "cell_type": "code",
   "execution_count": null,
   "metadata": {},
   "outputs": [],
   "source": [
    "print (\" \")\n",
    "\n",
    "repositoryServicesConfig = serverConfig.get('repositoryServicesConfig')\n",
    "if repositoryServicesConfig != None:\n",
    "    repositoryConfig = repositoryServicesConfig.get('localRepositoryConfig')\n",
    "    if repositoryConfig != None:\n",
    "        localMetadataCollectionId = repositoryConfig.get('metadataCollectionId')\n",
    "        if localMetadataCollectionId != None:\n",
    "             print (\"Local metadata collection id:     \" + localMetadataCollectionId)\n",
    "        localMetadataCollectionName = repositoryConfig.get('metadataCollectionName')\n",
    "        if localMetadataCollectionName != None:\n",
    "             print (\"Local metadata collection name:   \" + localMetadataCollectionName)\n",
    "      "
   ]
  },
  {
   "cell_type": "markdown",
   "metadata": {},
   "source": [
    "----\n",
    "Finally, a server with a repository that joins one or more cohorts needs to send out details of how a remote server should call this server during a federated query.  This information is called the **local repository's remote connection**.\n",
    "\n",
    "By default, the network address that is defined in this connection begins with the value set in the **server URL root** property at the time the repository was configured. The server name is then added to the URL.\n",
    "\n",
    "The code below extracts the server URL root and the **full URL endpoint** sent to other servers in the same cohort(s) in the local repository's remote connection."
   ]
  },
  {
   "cell_type": "code",
   "execution_count": null,
   "metadata": {},
   "outputs": [],
   "source": [
    "print (\" \")\n",
    "\n",
    "serverURLRoot=serverConfig.get('localServerURL')\n",
    "if serverURLRoot != None:\n",
    "    print (\"Server URL root:   \" + serverURLRoot)\n",
    "\n",
    "if repositoryConfig != None:\n",
    "    localRepositoryRemoteConnection = repositoryConfig.get('localRepositoryRemoteConnection')\n",
    "    if localRepositoryRemoteConnection != None:\n",
    "        endpoint = localRepositoryRemoteConnection.get('endpoint')\n",
    "        if endpoint != None:\n",
    "            fullURLEndpoint = endpoint.get('address')\n",
    "            if fullURLEndpoint != None:\n",
    "                print (\"Full URL endpoint: \" + fullURLEndpoint)\n",
    "\n",
    "print (\" \")"
   ]
  },
  {
   "cell_type": "markdown",
   "metadata": {},
   "source": [
    "You will notice that the platform's specific network address is used in both values.\n",
    "\n",
    "Using a specific network address is fine if the server is always going to run on this platform at this network address.  If the server is likely to be moved to a different platform, or the platform to a different location, it is easier to set up the full URL endpoint to include a logical DNS name.  This can be done by setting server URL root to this name before the local repository is configured, or updating the full URL endpoint in the local repository's remote connection.  When the repository next registers with the cohort, it will send out its new full URL endpoint as part of the registration request.\n",
    "\n",
    "The complete local repository's remote connection is shown below.  Notice the **connectorProviderClassName** towards the bottom of the definition.  This is the factory class that creates the connector in the remote server."
   ]
  },
  {
   "cell_type": "code",
   "execution_count": null,
   "metadata": {},
   "outputs": [],
   "source": [
    "print (\" \")\n",
    "prettyResponse = json.dumps(localRepositoryRemoteConnection, indent=4)\n",
    "print (\"localRepositoryRemoteConnection: \")\n",
    "print (prettyResponse)\n",
    "print (\" \")"
   ]
  },
  {
   "cell_type": "markdown",
   "metadata": {},
   "source": [
    "----\n",
    "The repository services running in a metadata repository uses a number of connectors to access the resources it needs.\n",
    "\n",
    "The cocoMDS1 metadata server needs a local repository to store metadata about the data and processing occuring in the data lake.\n",
    "This is the **local repository's remote connection**.\n",
    "\n",
    "ODPi Egeria supports 2 types of repositories.  One is an in-memory repository that stores metadata in hash maps.  It is useful for demos and testing because a restart of the server results in an empty metadata repository.  However, if you need metadata to persist from one run of the server to the next, you should use the graph repository.\n",
    "\n",
    "The code below shows which type of local repository is in use.  It also shows the destinations where audit log records are to be sent.  A server can have a list of destinations.  In this example, the server is just using a simple console log.\n"
   ]
  },
  {
   "cell_type": "code",
   "execution_count": null,
   "metadata": {},
   "outputs": [],
   "source": [
    "print (\" \")\n",
    "\n",
    "if repositoryServicesConfig != None:\n",
    "    auditLogConnections = repositoryServicesConfig.get('auditLogConnections')\n",
    "    enterpriseAccessConfig = repositoryServicesConfig.get('enterpriseAccessConfig')\n",
    "    cohortConfigList = repositoryServicesConfig.get('cohortConfigList')\n",
    "    \n",
    "if auditLogConnections != None:\n",
    "    print (\"Audit Log Destinations: \")\n",
    "    for logDestCount in range(len(auditLogConnections)): \n",
    "        auditLogConnection = auditLogConnections[logDestCount]\n",
    "        if auditLogConnection != None:\n",
    "            connectorType = auditLogConnection.get('connectorType')\n",
    "            if connectorType != None:\n",
    "                description = connectorType.get('description')\n",
    "                if description != None:\n",
    "                    print (str(logDestCount+1) + \". description: \" + description)\n",
    "                connectorProviderClassName = connectorType.get('connectorProviderClassName')\n",
    "                if connectorProviderClassName != None:\n",
    "                    print (\"   className:   \" + connectorProviderClassName)\n",
    "        \n",
    "if repositoryConfig != None:\n",
    "    localRepositoryLocalConnection = repositoryConfig.get('localRepositoryLocalConnection')\n",
    "\n",
    "print (\" \")\n",
    "\n",
    "if localRepositoryLocalConnection != None:\n",
    "    print (\"Local Repository's Local Connection: \")\n",
    "    connectorType = localRepositoryLocalConnection.get('connectorType')\n",
    "    if connectorType != None:\n",
    "        description = connectorType.get('description')\n",
    "        if description != None:\n",
    "            print (\"  description: \" + description)\n",
    "        connectorProviderClassName = connectorType.get('connectorProviderClassName')\n",
    "        if connectorProviderClassName != None:\n",
    "            print (\"  className:   \" + connectorProviderClassName)\n"
   ]
  },
  {
   "cell_type": "markdown",
   "metadata": {},
   "source": [
    "----\n",
    "\n",
    "### Configuring security\n",
    "\n",
    "There are two levels of security to set up for an ODPi Egeria server: authentication and authorization.\n",
    "\n",
    "\n",
    "#### Authentication of servers and people\n",
    "\n",
    "ODPi Egeria recommends that each server has its own identity and that is embedded with each request as part of the transport level security (TLS).  The members of the cohort (and the event topic) then grant access to each other and no-one else.\n",
    "\n",
    "The identity of the calling user also flows with each request, but this time as a unique string value (typically userId) in the URL of the request.  You can see examples of this in the configuration requests being issued during this hands-on lab as Gary's userId `garygeeke` appears on each request.\n",
    "\n",
    "The server configuration supports a userId and password for TLS.  The userId is also used when the server is processing requests that originate from an event and so there is no calling user.\n"
   ]
  },
  {
   "cell_type": "code",
   "execution_count": null,
   "metadata": {},
   "outputs": [],
   "source": [
    "print (\" \")\n",
    "\n",
    "localServerUserId=serverConfig.get('localServerUserId')\n",
    "if localServerUserId != None:\n",
    "    print (\"local Server UserId:   \" + localServerUserId)\n",
    "    \n",
    "localServerPassword=serverConfig.get('localServerPassword')\n",
    "if localServerPassword != None:\n",
    "    print (\"local Server Password: \" + localServerPassword)\n"
   ]
  },
  {
   "cell_type": "markdown",
   "metadata": {},
   "source": [
    "----\n",
    "#### Authorization of metadata requests\n",
    "\n",
    "ODPi Egeria servers also support a metadata security connector that plugs into the server and is called to provide authorization decisions as part of every request.\n",
    "\n",
    "This connector is configured in the configuration document by passing the **Connection** object that provides the properties needed to create the connecto on the following call ...\n"
   ]
  },
  {
   "cell_type": "code",
   "execution_count": null,
   "metadata": {},
   "outputs": [],
   "source": [
    "print (\" \")\n",
    "\n",
    "serverSecurityConnection=serverConfig.get('serverSecurityConnection')\n",
    "if serverSecurityConnection != None:\n",
    "    print (\"Server's Security Connection:\")\n",
    "    prettyResponse = json.dumps(serverSecurityConnection, indent=4)\n",
    "    print (prettyResponse)\n",
    "\n",
    "print (\" \")\n"
   ]
  },
  {
   "cell_type": "markdown",
   "metadata": {},
   "source": [
    "----\n",
    "### Setting up the event bus\n",
    "\n",
    "The server needs to define the event bus it will use to exchange events about metadata.  This event bus configuration is used to connect to the cohorts and to provide the in / out topics for each of the Open Metadata Access Services (OMASs) - more later.\n",
    "\n",
    "The event bus configuration for cocoMDS1 provides the network address that the event bus (Apache Kafka) is using."
   ]
  },
  {
   "cell_type": "code",
   "execution_count": null,
   "metadata": {},
   "outputs": [],
   "source": [
    "\n",
    "print (\" \")\n",
    "\n",
    "eventBusConfig=serverConfig.get('eventBusConfig')\n",
    "if eventBusConfig != None:\n",
    "    print (\"Event Bus Configuration:\")\n",
    "    prettyResponse = json.dumps(eventBusConfig, indent=4)\n",
    "    print (prettyResponse)\n",
    "\n",
    "print (\" \")\n"
   ]
  },
  {
   "cell_type": "markdown",
   "metadata": {},
   "source": [
    "----\n",
    "### Extracting the descriptions of the open metadata repository cohorts for the server\n",
    "\n",
    "An open metadata repository cohort defines the servers that will share metadata.  A server can join multiple cohorts.  For\n",
    "Coco Pharmaceuticals, cocoMDS1 is a member of the core `cocoCohort`.\n",
    "\n",
    "![Figure 2](../images/coco-pharmaceuticals-systems-metadata-servers.png)\n",
    "> **Figure 2:** Membership of Coco Pharmaceuticals' cohorts\n",
    "\n",
    "You can see this in the configuration below."
   ]
  },
  {
   "cell_type": "code",
   "execution_count": null,
   "metadata": {},
   "outputs": [],
   "source": [
    "print (\" \")\n",
    "\n",
    "if cohortConfigList != None:\n",
    "    print (\"Cohort(s) that this server is a member of: \")\n",
    "    for cohortCount in range(len(cohortConfigList)): \n",
    "        cohortConfig = cohortConfigList[cohortCount]\n",
    "        if cohortConfig != None:\n",
    "            cohortName = cohortConfig.get('cohortName')\n",
    "            print (str(cohortCount+1) + \". name: \" + cohortName)\n",
    "            cohortRegistryConnection = cohortConfig.get('cohortRegistryConnection')\n",
    "            if cohortRegistryConnection != None:\n",
    "                print (\"    Cohort Registry Connection: \")\n",
    "                connectorType = cohortRegistryConnection.get('connectorType')\n",
    "                if connectorType != None:\n",
    "                    description = connectorType.get('description')\n",
    "                    if description != None:\n",
    "                        print (\"     description: \" + description)\n",
    "                    connectorProviderClassName = connectorType.get('connectorProviderClassName')\n",
    "                    if connectorProviderClassName != None:\n",
    "                        print (\"     className:   \" + connectorProviderClassName)\n",
    "            topicConnection = cohortConfig.get('cohortOMRSTopicConnection')\n",
    "            if topicConnection != None:\n",
    "                print (\"    Cohort Topic Connection: \")\n",
    "                connectorType = topicConnection.get('connectorType')\n",
    "                if connectorType != None:\n",
    "                    description = connectorType.get('description')\n",
    "                    if description != None:\n",
    "                        print (\"     description: \" + description)\n",
    "                    connectorProviderClassName = connectorType.get('connectorProviderClassName')\n",
    "                    if connectorProviderClassName != None:\n",
    "                        print (\"     className:   \" + connectorProviderClassName)"
   ]
  },
  {
   "cell_type": "markdown",
   "metadata": {},
   "source": [
    "----\n",
    "### Reviewing the configured access services\n",
    "\n",
    "Open Metadata Access Services (OMASs) provide the specialized APIs and events for specific tools and personas.  ODPi Egeria provides an initial set of access services, and additional services can be pluggable into the server platform.\n",
    "\n",
    "To query the choice of access services available in the platform, use the follow command:"
   ]
  },
  {
   "cell_type": "code",
   "execution_count": null,
   "metadata": {},
   "outputs": [],
   "source": [
    "\n",
    "print (\" \")\n",
    "print (\"Retrieving the registered access services ...\")\n",
    "url = platformURLroot + \"/open-metadata/platform-services/users/\" + adminUserId + \"/server-platform/registered-services/access-services\"\n",
    "print (\"GET \" + url)\n",
    "\n",
    "response = requests.get(url)\n",
    "\n",
    "prettyResponse = json.dumps(response.json(), indent=4)\n",
    "print (\"Response: \")\n",
    "print (prettyResponse)\n",
    "print (\" \")\n"
   ]
  },
  {
   "cell_type": "markdown",
   "metadata": {},
   "source": [
    "----\n",
    "The `cocoMDS1` server is for the data lake operations.  It needs the access services to support the onboarding and decommissioning of assets along with the access services that supports the different engines that maintain the data lake."
   ]
  },
  {
   "cell_type": "code",
   "execution_count": null,
   "metadata": {},
   "outputs": [],
   "source": [
    "print (\" \")\n",
    "\n",
    "accessServiceConfig=serverConfig.get('accessServicesConfig')\n",
    "if accessServiceConfig != None:\n",
    "    print (\"Configured Access Services: \")\n",
    "    print (\" \")\n",
    "    for accessServiceCount in range(len(accessServiceConfig)): \n",
    "        accessServiceDefinition = accessServiceConfig[accessServiceCount]\n",
    "        if accessServiceDefinition != None:\n",
    "            accessServiceName = accessServiceDefinition.get('accessServiceName')\n",
    "            accessServiceOptions = accessServiceDefinition.get('accessServiceOptions')\n",
    "            if accessServiceName != None:\n",
    "                print (\" \" + accessServiceName + \" options: \" + json.dumps(accessServiceOptions, indent=4))\n",
    "\n",
    "print (\" \")\n"
   ]
  },
  {
   "cell_type": "markdown",
   "metadata": {},
   "source": [
    "----\n",
    "### Listing the topics used by a server\n",
    "\n",
    "Both the cohorts and the access services make extensive use of the event bus.  The code below extracts the names of all of the event bus topics used by this server."
   ]
  },
  {
   "cell_type": "code",
   "execution_count": null,
   "metadata": {},
   "outputs": [],
   "source": [
    "print (\" \")\n",
    "print (\"List of Topics used by \" + mdrServerName)\n",
    "\n",
    "\n",
    "if cohortConfigList != None:\n",
    "    for cohortCount in range(len(cohortConfigList)):\n",
    "        cohortConfig = cohortConfigList[cohortCount]\n",
    "        if cohortConfig != None:\n",
    "            topicConnection = cohortConfig.get('cohortOMRSTopicConnection')\n",
    "            if topicConnection != None:\n",
    "                embeddedConnections = topicConnection.get('embeddedConnections')\n",
    "                if embeddedConnections != None:\n",
    "                    for connCount in range(len(embeddedConnections)):\n",
    "                        embeddedConnection = embeddedConnections[connCount]\n",
    "                        if embeddedConnection != None:\n",
    "                            eventBusConnection = embeddedConnection.get('embeddedConnection')\n",
    "                            if eventBusConnection != None:\n",
    "                                endpoint = eventBusConnection.get('endpoint')\n",
    "                                if endpoint != None:\n",
    "                                    topicName = endpoint.get('address')\n",
    "                                    if topicName != None:\n",
    "                                        print (\"  \" + topicName)\n",
    "    \n",
    "    \n",
    "if accessServiceConfig != None:\n",
    "    for accessServiceCount in range(len(accessServiceConfig)): \n",
    "        accessService = accessServiceConfig[accessServiceCount]\n",
    "        if accessService != None:\n",
    "            eventBusConnection = accessService.get('accessServiceInTopic')\n",
    "            if eventBusConnection != None:\n",
    "                endpoint = eventBusConnection.get('endpoint')\n",
    "                if endpoint != None:\n",
    "                    topicName = endpoint.get('address')\n",
    "                    if topicName != None:\n",
    "                        print (\"  \" + topicName)\n",
    "            eventBusConnection = accessService.get('accessServiceOutTopic')\n",
    "            if eventBusConnection != None:\n",
    "                endpoint = eventBusConnection.get('endpoint')\n",
    "                if endpoint != None:\n",
    "                    topicName = endpoint.get('address')\n",
    "                    if topicName != None:\n",
    "                        print (\"  \" + topicName)\n",
    "        \n",
    "            \n",
    "print (\" \")"
   ]
  },
  {
   "cell_type": "markdown",
   "metadata": {},
   "source": [
    "----\n",
    "### Controlling the volume of metadata exchange in a single REST call\n",
    "\n",
    "To ensure that a caller can not request too much metadata in a single request, it is possible to set a maximum page size for requests that return a list of items.  The maximum page size puts a limit on the number of items that can be requested.  The variable below defines the value that will be added to the configuration document for each server."
   ]
  },
  {
   "cell_type": "code",
   "execution_count": null,
   "metadata": {},
   "outputs": [],
   "source": [
    "print (\" \")\n",
    "\n",
    "maxPageSize=serverConfig.get('maxPageSize')\n",
    "if maxPageSize != None:\n",
    "    print (\"Maximum records return on a REST call: \" + str(maxPageSize))\n",
    "    "
   ]
  },
  {
   "cell_type": "markdown",
   "metadata": {},
   "source": [
    "----\n",
    "Finally, here is the configuration document in total"
   ]
  },
  {
   "cell_type": "code",
   "execution_count": null,
   "metadata": {},
   "outputs": [],
   "source": [
    "print (\" \")\n",
    "\n",
    "prettyResponse = json.dumps(serverConfig, indent=4)\n",
    "print (\"Configuration for server: \" + mdrServerName)\n",
    "print (prettyResponse)\n",
    "print (\" \")"
   ]
  },
  {
   "cell_type": "markdown",
   "metadata": {},
   "source": [
    "----"
   ]
  },
  {
   "cell_type": "code",
   "execution_count": null,
   "metadata": {},
   "outputs": [],
   "source": []
  }
 ],
 "metadata": {
  "kernelspec": {
   "display_name": "Python 3",
   "language": "python",
   "name": "python3"
  },
  "language_info": {
   "codemirror_mode": {
    "name": "ipython",
    "version": 3
   },
   "file_extension": ".py",
   "mimetype": "text/x-python",
   "name": "python",
   "nbconvert_exporter": "python",
   "pygments_lexer": "ipython3",
   "version": "3.7.3"
  }
 },
 "nbformat": 4,
 "nbformat_minor": 2
}
