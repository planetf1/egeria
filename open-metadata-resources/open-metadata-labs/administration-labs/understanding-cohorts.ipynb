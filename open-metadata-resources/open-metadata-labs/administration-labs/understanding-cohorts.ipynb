{
 "cells": [
  {
   "cell_type": "markdown",
   "metadata": {},
   "source": [
    "![Egeria Logo](https://raw.githubusercontent.com/odpi/egeria/master/assets/img/ODPi_Egeria_Logo_color.png)\n",
    "\n",
    "### ODPi Egeria Hands-On Lab\n",
    "# Welcome to the Understanding Cohort Configuration Lab"
   ]
  },
  {
   "cell_type": "markdown",
   "metadata": {},
   "source": [
    "## Introduction\n",
    "\n",
    "ODPi Egeria is an open source project that provides open standards and implementation libraries to connect tools,\n",
    "catalogs and platforms together so they can share information (called metadata) about data and the technology that supports it.\n",
    "\n",
    "The ODPi Egeria repository services provide APIs for understanding the make up of the cohorts that an OMAG Server\n",
    "is connected to. \n",
    "This hands-on lab steps through each of the repository services operations for understanding a cohort, providing a explaination and the code to call each operation.\n",
    "\n",
    "## The Scenario\n",
    "\n",
    "Gary Geeke is the IT Infrastructure leader at Coco Pharmaceuticals.  He has set up a number of OMAG Servers and\n",
    "is validating they are operating correctly.  Gary's userId is `garygeeke`.\n",
    "\n",
    "![Gary Geeke](https://raw.githubusercontent.com/odpi/data-governance/master/docs/coco-pharmaceuticals/personas/gary-geeke.png)\n",
    "\n",
    "In the **[Server Configuration Lab](../egeria-server-config.ipynb)**, Gary configured servers for the OMAG Server Platforms shown in Figure 1:\n",
    "\n",
    "![Figure 1](../images/coco-pharmaceuticals-systems-omag-server-platforms.png)\n",
    "> **Figure 1:** Coco Pharmaceuticals' OMAG Server Platforms\n",
    "\n",
    "The following command ensures these platforms, and the servers that run on them, are started.  Click on the play triangle at the top of the page to run it."
   ]
  },
  {
   "cell_type": "code",
   "execution_count": null,
   "metadata": {},
   "outputs": [],
   "source": [
    "%run ../common/environment-check.ipynb"
   ]
  },
  {
   "cell_type": "markdown",
   "metadata": {},
   "source": [
    "----\n",
    "Figure 2 shows which metadata servers belong to each cohort.\n",
    "\n",
    "![Figure 2](../images/coco-pharmaceuticals-systems-metadata-servers.png)\n",
    "> **Figure 2:** Membership of Coco Pharmaceuticals' cohorts\n",
    "\n",
    "The open metadata repository cohort protocols are peer-to-peer.  This means that each member of\n",
    "the cohort maintains its own view of the other members of the cohort.  This information is\n",
    "stored in the **cohort registry store**.  All of the queries that follow are being made to the\n",
    "cohort registry stores of Coco Pharmaceuticals metadata servers.\n",
    "\n",
    "## Querying a server's cohorts\n",
    "\n",
    "The code below queries each server's cohort registry store and retrieves the names of the cohort that it is connected to.\n"
   ]
  },
  {
   "cell_type": "code",
   "execution_count": null,
   "metadata": {},
   "outputs": [],
   "source": [
    "\n",
    "print (\"  \")\n",
    "print ('Cohort(s) for cocoMDS1 are [%s]' % ', '.join(map(str, queryServerCohorts(cocoMDS1Name, cocoMDS1PlatformName, cocoMDS1PlatformURL))))\n",
    "print ('Cohort(s) for cocoMDS2 are [%s]' % ', '.join(map(str, queryServerCohorts(cocoMDS2Name, cocoMDS2PlatformName, cocoMDS2PlatformURL))))\n",
    "print ('Cohort(s) for cocoMDS3 are [%s]' % ', '.join(map(str, queryServerCohorts(cocoMDS3Name, cocoMDS3PlatformName, cocoMDS3PlatformURL))))\n",
    "print ('Cohort(s) for cocoMDS4 are [%s]' % ', '.join(map(str, queryServerCohorts(cocoMDS4Name, cocoMDS4PlatformName, cocoMDS4PlatformURL))))\n",
    "print ('Cohort(s) for cocoMDS5 are [%s]' % ', '.join(map(str, queryServerCohorts(cocoMDS5Name, cocoMDS5PlatformName, cocoMDS5PlatformURL))))\n",
    "print ('Cohort(s) for cocoMDS6 are [%s]' % ', '.join(map(str, queryServerCohorts(cocoMDS6Name, cocoMDS6PlatformName, cocoMDS6PlatformURL))))\n",
    "print ('Cohort(s) for cocoMDSx are [%s]' % ', '.join(map(str, queryServerCohorts(cocoMDSxName, cocoMDSxPlatformName, cocoMDSxPlatformURL))))\n",
    "print (\"  \")\n"
   ]
  },
  {
   "cell_type": "markdown",
   "metadata": {},
   "source": [
    "----\n",
    "A quick check shows that the results of the query matches the diagram in figure 2.\n",
    "\n",
    "\n",
    "## Querying local registration\n",
    "\n",
    "The local registration describes the registration information that the metadata server\n",
    "has shared with the cohorts it has connected to. The command below retrieves the\n",
    "local registration information.  Here we are looking at cocoMDS2."
   ]
  },
  {
   "cell_type": "code",
   "execution_count": null,
   "metadata": {},
   "outputs": [],
   "source": [
    "\n",
    "printLocalRegistration(cocoMDS2Name, cocoMDS2PlatformName, cocoMDS2PlatformURL)\n"
   ]
  },
  {
   "cell_type": "markdown",
   "metadata": {},
   "source": [
    "----\n",
    "If we add in the name of the cohort, it is possible to see the time that it first registered\n",
    "with that cohort."
   ]
  },
  {
   "cell_type": "code",
   "execution_count": null,
   "metadata": {},
   "outputs": [],
   "source": [
    "\n",
    "printLocalRegistrationForCohort(cocoMDS2Name, cocoCohort, cocoMDS2PlatformName, cocoMDS2PlatformURL)\n",
    "print(\" \")\n",
    "printLocalRegistrationForCohort(cocoMDS2Name, devCohort, cocoMDS2PlatformName, cocoMDS2PlatformURL)\n",
    "print(\" \")\n",
    "printLocalRegistrationForCohort(cocoMDS2Name, iotCohort, cocoMDS2PlatformName, cocoMDS2PlatformURL)\n"
   ]
  },
  {
   "cell_type": "markdown",
   "metadata": {},
   "source": [
    "----\n",
    "The times of registration are pretty close in this example because all of the cohorts were in the initial configuration for this server.  If the registration time shows as blank it means that the server has not\n",
    "registered with the cohort.\n",
    "\n",
    "\n",
    "## Querying remote members\n",
    "\n",
    "Finally each cohort registry store lists all of the remote members of the cohort that a server has exchanged\n",
    "registration information with.  These are the remote members from cocoMDS2's perspective."
   ]
  },
  {
   "cell_type": "code",
   "execution_count": null,
   "metadata": {},
   "outputs": [],
   "source": [
    "\n",
    "print(\"Cohort \" + cocoCohort + \"...\")\n",
    "printRemoteRegistrations(cocoMDS2Name, cocoCohort, cocoMDS2PlatformName, cocoMDS2PlatformURL)\n",
    "print(\" \")\n",
    "\n",
    "print(\"Cohort \" + devCohort + \"...\")\n",
    "printRemoteRegistrations(cocoMDS2Name, devCohort, cocoMDS2PlatformName, cocoMDS2PlatformURL)\n",
    "print(\" \")\n",
    "\n",
    "print(\"Cohort \" + iotCohort + \"...\")\n",
    "printRemoteRegistrations(cocoMDS2Name, iotCohort, cocoMDS2PlatformName, cocoMDS2PlatformURL)\n",
    "print(\" \")\n"
   ]
  },
  {
   "cell_type": "markdown",
   "metadata": {},
   "source": [
    "----"
   ]
  },
  {
   "cell_type": "code",
   "execution_count": null,
   "metadata": {},
   "outputs": [],
   "source": []
  }
 ],
 "metadata": {
  "kernelspec": {
   "display_name": "Python 3",
   "language": "python",
   "name": "python3"
  },
  "language_info": {
   "codemirror_mode": {
    "name": "ipython",
    "version": 3
   },
   "file_extension": ".py",
   "mimetype": "text/x-python",
   "name": "python",
   "nbconvert_exporter": "python",
   "pygments_lexer": "ipython3",
   "version": "3.7.4"
  }
 },
 "nbformat": 4,
 "nbformat_minor": 4
}
