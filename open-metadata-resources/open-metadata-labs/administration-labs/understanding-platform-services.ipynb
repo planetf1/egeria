{
 "cells": [
  {
   "cell_type": "markdown",
   "metadata": {},
   "source": [
    "![Egeria Logo](https://raw.githubusercontent.com/odpi/egeria/master/assets/img/ODPi_Egeria_Logo_color.png)\n",
    "\n",
    "### ODPi Egeria Hands-On Lab\n",
    "# Welcome to the Understanding Platform Services Lab"
   ]
  },
  {
   "cell_type": "markdown",
   "metadata": {},
   "source": [
    "## Introduction\n",
    "\n",
    "ODPi Egeria is an open source project that provides open standards and implementation libraries to connect tools,\n",
    "catalogs and platforms together so they can share information (called metadata) about data and the technology that supports it.\n",
    "\n",
    "The ODPi Egeria platform services provide APIs for understanding the operation of an OMAG Server Platform. \n",
    "This hands-on lab steps through each of the platform services operations, providing a explaination and the code to call it."
   ]
  },
  {
   "cell_type": "markdown",
   "metadata": {},
   "source": [
    "## The Scenario\n",
    "\n",
    "Gary Geeke is the IT Infrastructure leader at Coco Pharmaceuticals.  He has set up a number of OMAG Server Platforms and\n",
    "is validating they are operating correctly.\n",
    "\n",
    "![Gary Geeke](https://raw.githubusercontent.com/odpi/data-governance/master/docs/coco-pharmaceuticals/personas/gary-geeke.png)\n",
    "\n",
    "In this hands-on lab Gary is issuing queries to the platform services.  Gary's userId is `garygeeke`."
   ]
  },
  {
   "cell_type": "code",
   "execution_count": null,
   "metadata": {},
   "outputs": [],
   "source": [
    "%run ../common/globals.ipynb\n",
    "\n",
    "import requests\n",
    "\n",
    "adminUserId     = \"garygeeke\""
   ]
  },
  {
   "cell_type": "markdown",
   "metadata": {},
   "source": [
    "In the **Metadata Server Configuration**, gary configured servers for the OMAG Server Platforms shown in Figure 1:\n",
    "\n",
    "![Figure 1](../images/coco-pharmaceuticals-systems-omag-server-platforms.png)\n",
    "> **Figure 1:** Coco Pharmaceuticals' OMAG Server Platforms\n",
    "\n",
    "Below are the host name and port number where the core, data lake and development platforms will run. "
   ]
  },
  {
   "cell_type": "code",
   "execution_count": null,
   "metadata": {},
   "outputs": [],
   "source": [
    "import os\n",
    "\n",
    "corePlatformURL     = os.environ.get('corePlatformURL','https://localhost:9443') \n",
    "dataLakePlatformURL = os.environ.get('dataLakePlatformURL','https://localhost:9444') \n",
    "devPlatformURL      = os.environ.get('devPlatformURL','https://localhost:9445')"
   ]
  },
  {
   "cell_type": "markdown",
   "metadata": {},
   "source": [
    "The `platformURLroot` is the platform that will be called in this lab.  You can change this value to call other platforms."
   ]
  },
  {
   "cell_type": "code",
   "execution_count": null,
   "metadata": {},
   "outputs": [],
   "source": [
    "platformURLroot = corePlatformURL"
   ]
  },
  {
   "cell_type": "markdown",
   "metadata": {},
   "source": [
    "All of the platform services begin with the following URL root:"
   ]
  },
  {
   "cell_type": "code",
   "execution_count": null,
   "metadata": {},
   "outputs": [],
   "source": [
    "platformServicesURLRoot = platformURLroot + \"/open-metadata/platform-services/users/\" + adminUserId + \"/server-platform\""
   ]
  },
  {
   "cell_type": "markdown",
   "metadata": {},
   "source": [
    "Whichever platform you choose, make sure it is running as you begin the exercises."
   ]
  },
  {
   "cell_type": "markdown",
   "metadata": {},
   "source": [
    "## Exercise 1 - Verifying the platform origin\n",
    "\n",
    "The OMAG Server Platform can return information about its origin and version using the following command."
   ]
  },
  {
   "cell_type": "code",
   "execution_count": null,
   "metadata": {},
   "outputs": [],
   "source": [
    "print (\" \")\n",
    "print (\"Retrieving the OMAG Server Platform origin ...\")\n",
    "url = platformServicesURLRoot + '/origin'\n",
    "print (\"GET \" + url)\n",
    "\n",
    "response = requests.get(url)\n",
    "\n",
    "print (\"Response: \")\n",
    "print (response.text)\n",
    "print (\" \")"
   ]
  },
  {
   "cell_type": "markdown",
   "metadata": {},
   "source": [
    "## Exercise 2 - Understanding the registered services\n",
    "\n",
    "The OMAG Server Platform provides implementations of the open metadata and governance services plus additional services to support them.\n",
    "\n",
    "The following command returns a list of the services that can be enabled in any type of server:"
   ]
  },
  {
   "cell_type": "code",
   "execution_count": null,
   "metadata": {},
   "outputs": [],
   "source": [
    "import pprint\n",
    "import json\n",
    "\n",
    "print (\" \")\n",
    "print (\"Retrieving the registered common services ...\")\n",
    "url = platformServicesURLRoot + '/registered-services/common-services'\n",
    "print (\"GET \" + url)\n",
    "\n",
    "response = requests.get(url)\n",
    "\n",
    "prettyResponse = json.dumps(response.json(), indent=4)\n",
    "print (\"Response: \")\n",
    "print (prettyResponse)\n",
    "print (\" \")"
   ]
  },
  {
   "cell_type": "markdown",
   "metadata": {},
   "source": [
    "----\n",
    "This next command returns the Open Metadata Access Services (OMASs).  These services run in an open metadata server and provide specialized services for tools, platforms and engines."
   ]
  },
  {
   "cell_type": "code",
   "execution_count": null,
   "metadata": {},
   "outputs": [],
   "source": [
    "print (\" \")\n",
    "print (\"Retrieving the registered access services ...\")\n",
    "url = platformServicesURLRoot + '/registered-services/access-services'\n",
    "print (\"GET \" + url)\n",
    "\n",
    "response = requests.get(url)\n",
    "\n",
    "prettyResponse = json.dumps(response.json(), indent=4)\n",
    "print (\"Response: \")\n",
    "print (prettyResponse)\n",
    "print (\" \")"
   ]
  },
  {
   "cell_type": "markdown",
   "metadata": {},
   "source": [
    "----\n",
    "These are the services that are used in the governance servers."
   ]
  },
  {
   "cell_type": "code",
   "execution_count": null,
   "metadata": {},
   "outputs": [],
   "source": [
    "print (\" \")\n",
    "print (\"Retrieving the registered governance services ...\")\n",
    "url = platformServicesURLRoot + '/registered-services/governance-services'\n",
    "print (\"GET \" + url)\n",
    "\n",
    "response = requests.get(url)\n",
    "\n",
    "prettyResponse = json.dumps(response.json(), indent=4)\n",
    "print (\"Response: \")\n",
    "print (prettyResponse)\n",
    "print (\" \")"
   ]
  },
  {
   "cell_type": "markdown",
   "metadata": {},
   "source": [
    "----\n",
    "Finally it is possible to query all of the services together:"
   ]
  },
  {
   "cell_type": "code",
   "execution_count": null,
   "metadata": {},
   "outputs": [],
   "source": [
    "print (\" \")\n",
    "print (\"Retrieving all of the registered services ...\")\n",
    "url = platformServicesURLRoot + '/registered-services'\n",
    "print (\"GET \" + url)\n",
    "\n",
    "response = requests.get(url)\n",
    "\n",
    "prettyResponse = json.dumps(response.json(), indent=4)\n",
    "print (\"Response: \")\n",
    "print (prettyResponse)\n",
    "print (\" \")"
   ]
  },
  {
   "cell_type": "markdown",
   "metadata": {},
   "source": [
    "## Exercise 2 - Querying servers on the platform\n",
    "\n",
    "The OMAG Server Platform keeps track of the servers it hosts.  A **known server** is one that has run on the platform since the platform was started. An **active server** is one that is currently running.\n",
    "\n",
    "Try the following commands on a platform that has been running a variety of servers since it was started.  "
   ]
  },
  {
   "cell_type": "code",
   "execution_count": null,
   "metadata": {},
   "outputs": [],
   "source": [
    "\n",
    "print (\" \")\n",
    "print (\"Querying the known servers ...\")\n",
    "url = platformServicesURLRoot + '/servers'\n",
    "print (\"GET \" + url)\n",
    "\n",
    "response = requests.get(url)\n",
    "\n",
    "prettyResponse = json.dumps(response.json(), indent=4)\n",
    "print (\"Response: \")\n",
    "print (prettyResponse)\n",
    "print (\" \")\n",
    "\n",
    "\n",
    "print (\" \")\n",
    "print (\"Querying the active servers ...\")\n",
    "url = platformServicesURLRoot + '/servers/active'\n",
    "print (\"GET \" + url)\n",
    "\n",
    "response = requests.get(url)\n",
    "\n",
    "prettyResponse = json.dumps(response.json(), indent=4)\n",
    "print (\"Response: \")\n",
    "print (prettyResponse)\n",
    "print (\" \")"
   ]
  },
  {
   "cell_type": "markdown",
   "metadata": {},
   "source": [
    "----\n",
    "It is also possible to find out more information about an individual server."
   ]
  },
  {
   "cell_type": "code",
   "execution_count": null,
   "metadata": {},
   "outputs": [],
   "source": [
    "serverName = \"cocoMDS2\"\n",
    "\n",
    "print (\" \")\n",
    "print (\"Querying if a server is known ...\")\n",
    "url = platformServicesURLRoot + '/servers/' + serverName + '/is-known'\n",
    "print (\"GET \" + url)\n",
    "\n",
    "response = requests.get(url)\n",
    "\n",
    "prettyResponse = json.dumps(response.json(), indent=4)\n",
    "print (\"Response: \")\n",
    "print (prettyResponse)\n",
    "print (\" \")\n",
    "\n",
    "print (\" \")\n",
    "print (\"Querying the status of a server ...\")\n",
    "url = platformServicesURLRoot + '/servers/' + serverName + '/status'\n",
    "print (\"GET \" + url)\n",
    "\n",
    "response = requests.get(url)\n",
    "\n",
    "prettyResponse = json.dumps(response.json(), indent=4)\n",
    "print (\"Response: \")\n",
    "print (prettyResponse)\n",
    "print (\" \")\n",
    "\n",
    "print (\" \")\n",
    "print (\"Querying the services that are active a server ...\")\n",
    "url = platformServicesURLRoot + '/servers/' + serverName + '/services'\n",
    "print (\"GET \" + url)\n",
    "\n",
    "response = requests.get(url)\n",
    "\n",
    "prettyResponse = json.dumps(response.json(), indent=4)\n",
    "print (\"Response: \")\n",
    "print (prettyResponse)\n",
    "print (\" \")"
   ]
  },
  {
   "cell_type": "markdown",
   "metadata": {},
   "source": [
    "----"
   ]
  }
 ],
 "metadata": {
  "kernelspec": {
   "display_name": "Python 3",
   "language": "python",
   "name": "python3"
  },
  "language_info": {
   "codemirror_mode": {
    "name": "ipython",
    "version": 3
   },
   "file_extension": ".py",
   "mimetype": "text/x-python",
   "name": "python",
   "nbconvert_exporter": "python",
   "pygments_lexer": "ipython3",
   "version": "3.8.2"
  }
 },
 "nbformat": 4,
 "nbformat_minor": 4
}
