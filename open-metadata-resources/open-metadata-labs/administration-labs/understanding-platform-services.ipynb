{
 "cells": [
  {
   "cell_type": "markdown",
   "metadata": {},
   "source": [
    "![Egeria Logo](https://raw.githubusercontent.com/odpi/egeria/master/assets/img/ODPi_Egeria_Logo_color.png)\n",
    "\n",
    "### Egeria Hands-On Lab\n",
    "# Welcome to the Understanding Platform Services Lab"
   ]
  },
  {
   "cell_type": "markdown",
   "metadata": {},
   "source": [
    "## Introduction\n",
    "\n",
    "Egeria is an open source project that provides open standards and implementation libraries to connect tools,\n",
    "catalogs and platforms together so they can share information (called metadata) about data and the technology that supports it.\n",
    "\n",
    "The Egeria platform services provide APIs for understanding the operation of an OMAG Server Platform. \n",
    "This hands-on lab steps through each of the platform services operations, providing a explaination and the code to call it."
   ]
  },
  {
   "cell_type": "markdown",
   "metadata": {},
   "source": [
    "## The Scenario\n",
    "\n",
    "Gary Geeke is the IT Infrastructure leader at Coco Pharmaceuticals.  He has set up a number of OMAG Server Platforms and\n",
    "is validating they are operating correctly.\n",
    "\n",
    "![Gary Geeke](https://raw.githubusercontent.com/odpi/data-governance/master/docs/coco-pharmaceuticals/personas/gary-geeke.png)\n",
    "\n",
    "In this hands-on lab Gary is issuing queries to the platform services.  Gary's userId is `garygeeke`."
   ]
  },
  {
   "cell_type": "code",
   "execution_count": 72,
   "metadata": {},
   "outputs": [],
   "source": [
    "%run ../common/globals.ipynb\n",
    "\n",
    "import requests\n",
    "\n",
    "adminUserId     = \"garygeeke\""
   ]
  },
  {
   "cell_type": "markdown",
   "metadata": {},
   "source": [
    "In the **[Server Configuration](../egeria-server-config.ipynb)** lab, Gary configured servers for the OMAG Server Platforms shown in Figure 1:\n",
    "\n",
    "![Figure 1](../images/coco-pharmaceuticals-systems-omag-server-platforms.png)\n",
    "> **Figure 1:** Coco Pharmaceuticals' OMAG Server Platforms\n",
    "\n",
    "Below are the host name and port number where the core, data lake and development platforms will run. "
   ]
  },
  {
   "cell_type": "code",
   "execution_count": 73,
   "metadata": {},
   "outputs": [],
   "source": [
    "import os\n",
    "\n",
    "corePlatformURL      = os.environ.get('corePlatformURL', 'https://localhost:9443')\n",
    "corePlatformName     = \"Core Platform\"\n",
    "\n",
    "dataLakePlatformURL  = os.environ.get('dataLakePlatformURL', 'https://localhost:9444')\n",
    "dataLakePlatformName = \"Data Lake Platform\"\n",
    "\n",
    "devPlatformURL       = os.environ.get('devPlatformURL', 'https://localhost:9445')\n",
    "devPlatformName      = \"Dev Platform\""
   ]
  },
  {
   "cell_type": "markdown",
   "metadata": {},
   "source": [
    "The `platformURLroot` is the platform that will be called in this lab.  You can change this value to call other platforms."
   ]
  },
  {
   "cell_type": "code",
   "execution_count": 74,
   "metadata": {},
   "outputs": [],
   "source": [
    "platformURLroot = dataLakePlatformURL\n",
    "platformName = dataLakePlatformName"
   ]
  },
  {
   "cell_type": "markdown",
   "metadata": {},
   "source": [
    "All of the platform services begin with the following URL root:"
   ]
  },
  {
   "cell_type": "code",
   "execution_count": 75,
   "metadata": {},
   "outputs": [],
   "source": [
    "platformServicesURLRoot = platformURLroot + \"/open-metadata/platform-services/users/\" + adminUserId + \"/server-platform\""
   ]
  },
  {
   "cell_type": "markdown",
   "metadata": {},
   "source": [
    "Whichever platform you choose, make sure it is running as you begin the exercises."
   ]
  },
  {
   "cell_type": "markdown",
   "metadata": {},
   "source": [
    "## Exercise 1 - Verifying the platform origin\n",
    "\n",
    "The OMAG Server Platform can return information about its origin and version using the following command."
   ]
  },
  {
   "cell_type": "code",
   "execution_count": 76,
   "metadata": {},
   "outputs": [
    {
     "name": "stdout",
     "output_type": "stream",
     "text": [
      " \n",
      "Retrieving the OMAG Server Platform origin ...\n",
      "GET https://localhost:9444/open-metadata/platform-services/users/garygeeke/server-platform/origin\n",
      "Response: \n",
      "ODPi Egeria OMAG Server Platform (version 2.7)\n",
      "\n",
      " \n"
     ]
    }
   ],
   "source": [
    "print (\" \")\n",
    "print (\"Retrieving the OMAG Server Platform origin ...\")\n",
    "url = platformServicesURLRoot + '/origin'\n",
    "print (\"GET \" + url)\n",
    "\n",
    "response = requests.get(url)\n",
    "\n",
    "print (\"Response: \")\n",
    "print (response.text)\n",
    "print (\" \")"
   ]
  },
  {
   "cell_type": "markdown",
   "metadata": {},
   "source": [
    "## Exercise 2 - Understanding the registered services\n",
    "\n",
    "The OMAG Server Platform provides implementations of the open metadata and governance services plus additional services to support them.\n",
    "\n",
    "The following command returns a list of the services that can be enabled in any type of server:"
   ]
  },
  {
   "cell_type": "code",
   "execution_count": 77,
   "metadata": {},
   "outputs": [
    {
     "name": "stdout",
     "output_type": "stream",
     "text": [
      " \n",
      "Retrieving the registered common services ...\n",
      "GET https://localhost:9444/open-metadata/platform-services/users/garygeeke/server-platform/registered-services/common-services\n",
      "Response: \n",
      "{\n",
      "    \"class\": \"RegisteredOMAGServicesResponse\",\n",
      "    \"relatedHTTPCode\": 200,\n",
      "    \"services\": [\n",
      "        {\n",
      "            \"serviceName\": \"Open Metadata Repository Services (OMRS)\",\n",
      "            \"serviceURLMarker\": \"repository-services\",\n",
      "            \"serviceDescription\": \"Manages the synchronization, retrieval and maintenance of metadata stored in open metadata repositories\",\n",
      "            \"serviceWiki\": \"https://egeria.odpi.org/open-metadata-implementation/repository-services/\"\n",
      "        },\n",
      "        {\n",
      "            \"serviceName\": \"OMAG Server Operational Services\",\n",
      "            \"serviceURLMarker\": \"admin-services\",\n",
      "            \"serviceDescription\": \"Management of services active in an Open Metadata and governance server (OMAG Server)\",\n",
      "            \"serviceWiki\": \"https://egeria.odpi.org/open-metadata-implementation/admin-services\"\n",
      "        },\n",
      "        {\n",
      "            \"serviceName\": \"Connected Asset Services\",\n",
      "            \"serviceURLMarker\": \"connected-asset\",\n",
      "            \"serviceDescription\": \"Common metadata services for the Open Connector Framework (OCF)\",\n",
      "            \"serviceWiki\": \"https://egeria.odpi.org/open-metadata-implementation/common-services/ocf-metadata-management/\"\n",
      "        },\n",
      "        {\n",
      "            \"serviceName\": \"Open Metadata Security Services\",\n",
      "            \"serviceDescription\": \"Authorization services for Open Metadata and Governance\",\n",
      "            \"serviceWiki\": \"https://egeria.odpi.org/open-metadata-implementation/common-services/metadata-security/\"\n",
      "        }\n",
      "    ]\n",
      "}\n",
      " \n"
     ]
    }
   ],
   "source": [
    "import pprint\n",
    "import json\n",
    "\n",
    "print (\" \")\n",
    "print (\"Retrieving the registered common services ...\")\n",
    "url = platformServicesURLRoot + '/registered-services/common-services'\n",
    "print (\"GET \" + url)\n",
    "\n",
    "response = requests.get(url)\n",
    "\n",
    "prettyResponse = json.dumps(response.json(), indent=4)\n",
    "print (\"Response: \")\n",
    "print (prettyResponse)\n",
    "print (\" \")"
   ]
  },
  {
   "cell_type": "markdown",
   "metadata": {},
   "source": [
    "----\n",
    "This next command returns the Open Metadata Access Services (OMASs).  These services run in a metadata server and provide specialized services for tools, platforms and engines."
   ]
  },
  {
   "cell_type": "code",
   "execution_count": null,
   "metadata": {},
   "outputs": [],
   "source": [
    "print (\" \")\n",
    "print (\"Retrieving the registered access services ...\")\n",
    "url = platformServicesURLRoot + '/registered-services/access-services'\n",
    "print (\"GET \" + url)\n",
    "\n",
    "response = requests.get(url)\n",
    "\n",
    "prettyResponse = json.dumps(response.json(), indent=4)\n",
    "print (\"Response: \")\n",
    "print (prettyResponse)\n",
    "print (\" \")"
   ]
  },
  {
   "cell_type": "markdown",
   "metadata": {},
   "source": [
    "----\n",
    "This next command returns the Open Metadata Engine Services (OMESs).  These services run in an Engine Host server\n",
    "and run different types of governance engines."
   ]
  },
  {
   "cell_type": "code",
   "execution_count": 79,
   "metadata": {},
   "outputs": [
    {
     "name": "stdout",
     "output_type": "stream",
     "text": [
      " \n",
      "Retrieving the registered engine services ...\n",
      "GET https://localhost:9444/open-metadata/platform-services/users/garygeeke/server-platform/registered-services/engine-services\n",
      "Response: \n",
      "{\n",
      "    \"class\": \"RegisteredOMAGServicesResponse\",\n",
      "    \"relatedHTTPCode\": 200,\n",
      "    \"services\": [\n",
      "        {\n",
      "            \"serviceName\": \"Governance Action\",\n",
      "            \"serviceURLMarker\": \"governance-action\",\n",
      "            \"serviceDescription\": \"Executes requested governance action services to monitor, assess and maintain metadata and its real-world counterparts.\",\n",
      "            \"serviceWiki\": \"https://egeria.odpi.org/open-metadata-implementation/engine-services/governance-action/\"\n",
      "        },\n",
      "        {\n",
      "            \"serviceName\": \"Asset Analysis\",\n",
      "            \"serviceURLMarker\": \"asset-analysis\",\n",
      "            \"serviceDescription\": \"Analyses the content of an asset's real world counterpart, generates annotations in an open discovery report that is attached to the asset in the open metadata repositories.\",\n",
      "            \"serviceWiki\": \"https://egeria.odpi.org/open-metadata-implementation/engine-services/asset-analysis/\"\n",
      "        }\n",
      "    ]\n",
      "}\n",
      " \n"
     ]
    }
   ],
   "source": [
    "print (\" \")\n",
    "print (\"Retrieving the registered engine services ...\")\n",
    "url = platformServicesURLRoot + '/registered-services/engine-services'\n",
    "print (\"GET \" + url)\n",
    "\n",
    "response = requests.get(url)\n",
    "\n",
    "prettyResponse = json.dumps(response.json(), indent=4)\n",
    "print (\"Response: \")\n",
    "print (prettyResponse)\n",
    "print (\" \")"
   ]
  },
  {
   "cell_type": "markdown",
   "metadata": {},
   "source": [
    "----\n",
    "This next command returns the Open Metadata Integration Services (OMISs).  These services run in an\n",
    "Integration Daemon server and run connectors that exchange metadata with third party technologies."
   ]
  },
  {
   "cell_type": "code",
   "execution_count": null,
   "metadata": {},
   "outputs": [],
   "source": [
    "print (\" \")\n",
    "print (\"Retrieving the registered integration services ...\")\n",
    "url = platformServicesURLRoot + '/registered-services/integration-services'\n",
    "print (\"GET \" + url)\n",
    "\n",
    "response = requests.get(url)\n",
    "\n",
    "prettyResponse = json.dumps(response.json(), indent=4)\n",
    "print (\"Response: \")\n",
    "print (prettyResponse)\n",
    "print (\" \")"
   ]
  },
  {
   "cell_type": "markdown",
   "metadata": {},
   "source": [
    "----\n",
    "This next command returns the Open Metadata View Services (OMVSs).  These services run in an\n",
    "View Server and forview the services that support Egeria's UI."
   ]
  },
  {
   "cell_type": "code",
   "execution_count": null,
   "metadata": {},
   "outputs": [],
   "source": [
    "print (\" \")\n",
    "print (\"Retrieving the registered view services ...\")\n",
    "url = platformServicesURLRoot + '/registered-services/view-services'\n",
    "print (\"GET \" + url)\n",
    "\n",
    "response = requests.get(url)\n",
    "\n",
    "prettyResponse = json.dumps(response.json(), indent=4)\n",
    "print (\"Response: \")\n",
    "print (prettyResponse)\n",
    "print (\" \")"
   ]
  },
  {
   "cell_type": "markdown",
   "metadata": {},
   "source": [
    "----\n",
    "These are the services that are used in the governance servers."
   ]
  },
  {
   "cell_type": "code",
   "execution_count": null,
   "metadata": {},
   "outputs": [],
   "source": [
    "print (\" \")\n",
    "print (\"Retrieving the registered governance server services ...\")\n",
    "url = platformServicesURLRoot + '/registered-services/governance-services'\n",
    "print (\"GET \" + url)\n",
    "\n",
    "response = requests.get(url)\n",
    "\n",
    "prettyResponse = json.dumps(response.json(), indent=4)\n",
    "print (\"Response: \")\n",
    "print (prettyResponse)\n",
    "print (\" \")"
   ]
  },
  {
   "cell_type": "markdown",
   "metadata": {},
   "source": [
    "----\n",
    "Finally it is possible to query all of the services together:"
   ]
  },
  {
   "cell_type": "code",
   "execution_count": null,
   "metadata": {},
   "outputs": [],
   "source": [
    "print (\" \")\n",
    "print (\"Retrieving all of the registered services ...\")\n",
    "url = platformServicesURLRoot + '/registered-services'\n",
    "print (\"GET \" + url)\n",
    "\n",
    "response = requests.get(url)\n",
    "\n",
    "prettyResponse = json.dumps(response.json(), indent=4)\n",
    "print (\"Response: \")\n",
    "print (prettyResponse)\n",
    "print (\" \")"
   ]
  },
  {
   "cell_type": "markdown",
   "metadata": {},
   "source": [
    "## Exercise 2 - Querying servers on the platform\n",
    "\n",
    "The OMAG Server Platform keeps track of the servers it hosts.  A **known server** is one that has run on the platform since the platform was started. An **active server** is one that is currently running.\n",
    "\n",
    "Try the following commands on a platform that has been running a variety of servers since it was started.  "
   ]
  },
  {
   "cell_type": "code",
   "execution_count": 90,
   "metadata": {},
   "outputs": [
    {
     "name": "stdout",
     "output_type": "stream",
     "text": [
      " \n",
      "Querying the known servers on platform: Data Lake Platform ...\n",
      "GET https://localhost:9444/open-metadata/platform-services/users/garygeeke/server-platform/servers\n",
      "Response: \n",
      "{\n",
      "    \"class\": \"ServerListResponse\",\n",
      "    \"relatedHTTPCode\": 200,\n",
      "    \"serverList\": [\n",
      "        \"governDL01\",\n",
      "        \"exchangeDL01\",\n",
      "        \"cocoMDS1\",\n",
      "        \"cocoMDS4\",\n",
      "        \"cocoView1\"\n",
      "    ]\n",
      "}\n",
      " \n",
      " \n",
      "Querying the active servers on platform: Data Lake Platform ...\n",
      "GET https://localhost:9444/open-metadata/platform-services/users/garygeeke/server-platform/servers/active\n",
      "Response: \n",
      "{\n",
      "    \"class\": \"ServerListResponse\",\n",
      "    \"relatedHTTPCode\": 200,\n",
      "    \"serverList\": [\n",
      "        \"governDL01\",\n",
      "        \"exchangeDL01\",\n",
      "        \"cocoMDS1\",\n",
      "        \"cocoMDS4\",\n",
      "        \"cocoView1\"\n",
      "    ]\n",
      "}\n",
      " \n"
     ]
    }
   ],
   "source": [
    "\n",
    "\n",
    "queryKnownServers(platformName, platformURLroot)\n",
    "queryActiveServers(platformName, platformURLroot)\n"
   ]
  },
  {
   "cell_type": "markdown",
   "metadata": {},
   "source": [
    "----\n",
    "\n",
    "The OMAG Server Platforms start up with no knowledge of the servers.  The commands below check that the platforms are running and\n",
    "starts all of the configured servers.\n",
    "\n",
    "----"
   ]
  },
  {
   "cell_type": "code",
   "execution_count": 85,
   "metadata": {},
   "outputs": [
    {
     "name": "stdout",
     "output_type": "stream",
     "text": [
      "\n",
      "Checking OMAG Server Platform availability...\n",
      "    Core Platform is active\n",
      "        Checking OMAG Server cocoMDS2\n",
      "           ... cocoMDS2 is configured\n",
      "           ... cocoMDS2 is not known - needs to be started\n",
      "                Starting server cocoMDS2 ...\n",
      "        Checking OMAG Server cocoMDS3\n",
      "           ... cocoMDS3 is configured\n",
      "           ... cocoMDS3 is not known - needs to be started\n",
      "                Starting server cocoMDS3 ...\n",
      "        Checking OMAG Server cocoMDS5\n",
      "           ... cocoMDS5 is configured\n",
      "           ... cocoMDS5 is not known - needs to be started\n",
      "                Starting server cocoMDS5 ...\n",
      "        Checking OMAG Server cocoMDS6\n",
      "           ... cocoMDS6 is configured\n",
      "           ... cocoMDS6 is not known - needs to be started\n",
      "                Starting server cocoMDS6 ...\n",
      "    Data Lake Platform is active\n",
      "        Checking OMAG Server cocoMDS1\n",
      "           ... cocoMDS1 is configured\n",
      "           ... cocoMDS1 is not known - needs to be started\n",
      "                Starting server cocoMDS1 ...\n",
      "        Checking OMAG Server cocoMDS4\n",
      "           ... cocoMDS4 is configured\n",
      "           ... cocoMDS4 is not known - needs to be started\n",
      "                Starting server cocoMDS4 ...\n",
      "        Checking OMAG Server cocoView1\n",
      "           ... cocoView1 is configured\n",
      "           ... cocoView1 is not known - needs to be started\n",
      "                Starting server cocoView1 ...\n",
      "    Dev Platform is active\n",
      "        Checking OMAG Server cocoMDSx\n",
      "           ... cocoMDSx is configured\n",
      "           ... cocoMDSx is not known - needs to be started\n",
      "                Starting server cocoMDSx ...\n",
      "Done.\n",
      " \n",
      "Start up the Governance Servers\n",
      "    Data Lake Platform is active\n",
      "        Checking OMAG Server governDL01\n",
      "           ... governDL01 is configured\n",
      "           ... governDL01 is not known - needs to be started\n",
      "                Starting server governDL01 ...\n",
      "        Checking OMAG Server exchangeDL01\n",
      "           ... exchangeDL01 is configured\n",
      "           ... exchangeDL01 is not known - needs to be started\n",
      "                Starting server exchangeDL01 ...\n",
      "Done. \n"
     ]
    }
   ],
   "source": [
    "# Start up the metadata servers and the view server\n",
    "%run ../common/environment-check.ipynb\n",
    "\n",
    "print(\"Start up the Governance Servers\")\n",
    "activatePlatform(dataLakePlatformName, dataLakePlatformURL, [governDL01Name, exchangeDL01Name])\n",
    "\n",
    "print(\"Done. \")"
   ]
  },
  {
   "cell_type": "markdown",
   "metadata": {},
   "source": [
    "----\n",
    "\n",
    "Once the servers are started, the plaforms tell a different story ...\n",
    "\n",
    "----"
   ]
  },
  {
   "cell_type": "code",
   "execution_count": 86,
   "metadata": {},
   "outputs": [
    {
     "name": "stdout",
     "output_type": "stream",
     "text": [
      " \n",
      "Querying the known servers on platform: Data Lake Platform ...\n",
      "GET https://localhost:9444/open-metadata/platform-services/users/garygeeke/server-platform/servers\n",
      "Response: \n",
      "{\n",
      "    \"class\": \"ServerListResponse\",\n",
      "    \"relatedHTTPCode\": 200,\n",
      "    \"serverList\": [\n",
      "        \"governDL01\",\n",
      "        \"exchangeDL01\",\n",
      "        \"cocoMDS1\",\n",
      "        \"cocoMDS4\",\n",
      "        \"cocoView1\"\n",
      "    ]\n",
      "}\n",
      " \n",
      " \n",
      "Querying the active servers on platform: Data Lake Platform ...\n",
      "GET https://localhost:9444/open-metadata/platform-services/users/garygeeke/server-platform/servers/active\n",
      "Response: \n",
      "{\n",
      "    \"class\": \"ServerListResponse\",\n",
      "    \"relatedHTTPCode\": 200,\n",
      "    \"serverList\": [\n",
      "        \"governDL01\",\n",
      "        \"exchangeDL01\",\n",
      "        \"cocoMDS1\",\n",
      "        \"cocoMDS4\",\n",
      "        \"cocoView1\"\n",
      "    ]\n",
      "}\n",
      " \n"
     ]
    }
   ],
   "source": [
    "\n",
    "queryKnownServers(platformName, platformServicesURLRoot)\n",
    "queryActiveServers(platformName, platformServicesURLRoot)\n"
   ]
  },
  {
   "cell_type": "markdown",
   "metadata": {},
   "source": [
    "----\n",
    "It is also possible to find out more information about an individual server."
   ]
  },
  {
   "cell_type": "code",
   "execution_count": 87,
   "metadata": {},
   "outputs": [
    {
     "name": "stdout",
     "output_type": "stream",
     "text": [
      " \n",
      "Querying if a server is known ...\n",
      "GET https://localhost:9444/open-metadata/platform-services/users/garygeeke/server-platform/servers/cocoMDS1/is-known\n",
      "Response: \n",
      "{\n",
      "    \"class\": \"BooleanResponse\",\n",
      "    \"relatedHTTPCode\": 200,\n",
      "    \"flag\": true\n",
      "}\n",
      " \n",
      " \n",
      "Querying the status of a server ...\n",
      "GET https://localhost:9444/open-metadata/platform-services/users/garygeeke/server-platform/servers/cocoMDS1/status\n",
      "Response: \n",
      "{\n",
      "    \"class\": \"ServerStatusResponse\",\n",
      "    \"relatedHTTPCode\": 200,\n",
      "    \"serverName\": \"cocoMDS1\",\n",
      "    \"serverType\": \"Metadata Server\",\n",
      "    \"serverStartTime\": \"2021-02-22T09:02:09.332+00:00\",\n",
      "    \"active\": true\n",
      "}\n",
      " \n",
      " \n",
      "Querying the services that are active a server ...\n",
      "GET https://localhost:9444/open-metadata/platform-services/users/garygeeke/server-platform/servers/cocoMDS1/services\n",
      "Response: \n",
      "{\n",
      "    \"class\": \"ServerServicesListResponse\",\n",
      "    \"relatedHTTPCode\": 200,\n",
      "    \"serverName\": \"cocoMDS1\",\n",
      "    \"serverServicesList\": [\n",
      "        \"Open Metadata Repository Services (OMRS)\",\n",
      "        \"Community Profile OMAS\",\n",
      "        \"Asset Consumer OMAS\",\n",
      "        \"OMAG Server Operational Services\",\n",
      "        \"Discovery Engine OMAS\",\n",
      "        \"Asset Catalog OMAS\",\n",
      "        \"Asset Owner OMAS\",\n",
      "        \"Asset Manager OMAS\",\n",
      "        \"Connected Asset Services\",\n",
      "        \"Data Manager OMAS\",\n",
      "        \"Glossary View OMAS\",\n",
      "        \"Data Engine OMAS\",\n",
      "        \"Governance Engine OMAS\"\n",
      "    ]\n",
      "}\n",
      " \n"
     ]
    }
   ],
   "source": [
    "\n",
    "platformServicesURLRoot = platformURLroot + \"/open-metadata/platform-services/users/\" + adminUserId + \"/server-platform\"\n",
    "\n",
    "serverName = \"cocoMDS1\"\n",
    "\n",
    "print (\" \")\n",
    "print (\"Querying if a server is known ...\")\n",
    "url = platformServicesURLRoot + '/servers/' + serverName + '/is-known'\n",
    "print (\"GET \" + url)\n",
    "\n",
    "response = requests.get(url)\n",
    "\n",
    "prettyResponse = json.dumps(response.json(), indent=4)\n",
    "print (\"Response: \")\n",
    "print (prettyResponse)\n",
    "print (\" \")\n",
    "\n",
    "print (\" \")\n",
    "print (\"Querying the status of a server ...\")\n",
    "url = platformServicesURLRoot + '/servers/' + serverName + '/status'\n",
    "print (\"GET \" + url)\n",
    "\n",
    "response = requests.get(url)\n",
    "\n",
    "prettyResponse = json.dumps(response.json(), indent=4)\n",
    "print (\"Response: \")\n",
    "print (prettyResponse)\n",
    "print (\" \")\n",
    "\n",
    "print (\" \")\n",
    "print (\"Querying the services that are active a server ...\")\n",
    "url = platformServicesURLRoot + '/servers/' + serverName + '/services'\n",
    "print (\"GET \" + url)\n",
    "\n",
    "response = requests.get(url)\n",
    "\n",
    "prettyResponse = json.dumps(response.json(), indent=4)\n",
    "print (\"Response: \")\n",
    "print (prettyResponse)\n",
    "print (\" \")"
   ]
  },
  {
   "cell_type": "markdown",
   "metadata": {},
   "source": [
    "----"
   ]
  },
  {
   "cell_type": "code",
   "execution_count": null,
   "metadata": {},
   "outputs": [],
   "source": []
  }
 ],
 "metadata": {
  "kernelspec": {
   "display_name": "Python 3",
   "language": "python",
   "name": "python3"
  },
  "language_info": {
   "codemirror_mode": {
    "name": "ipython",
    "version": 3
   },
   "file_extension": ".py",
   "mimetype": "text/x-python",
   "name": "python",
   "nbconvert_exporter": "python",
   "pygments_lexer": "ipython3",
   "version": "3.7.3"
  }
 },
 "nbformat": 4,
 "nbformat_minor": 4
}
