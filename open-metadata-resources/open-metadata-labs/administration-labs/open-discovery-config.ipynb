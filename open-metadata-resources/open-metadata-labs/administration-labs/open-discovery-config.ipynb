{
 "cells": [
  {
   "cell_type": "markdown",
   "metadata": {},
   "source": [
    "![Egeria Logo](https://raw.githubusercontent.com/odpi/egeria/master/assets/img/ODPi_Egeria_Logo_color.png)\n",
    "### ODPi Egeria Hands-On Lab\n",
    "# Welcome to the Open Discovery Lab\n",
    "\n",
    "**NOTE - This lab is under construction and is only partly completed**"
   ]
  },
  {
   "cell_type": "markdown",
   "metadata": {},
   "source": [
    "## Introduction\n",
    "\n",
    "ODPi Egeria is an open source project that provides open standards and implementation libraries to connect tools,\n",
    "catalogs and platforms together so they can share information about data and technology (called metadata).\n",
    "\n",
    "In this hands-on lab you will get a chance to run an Egeria metadata server, configure discovery services in a discovery engine and run the discovery engine in a discovery server.\n",
    "\n",
    "## What is open discovery?\n",
    "\n",
    "[Metadata discovery](https://egeria.odpi.org/open-metadata-publication/website/metadata-discovery/) is the\n",
    "ability to automatically analyze and create metadata about assets.  ODPi Egeria provides an [Open Discovery Framework (ODF)](https://egeria.odpi.org/open-metadata-implementation/frameworks/open-discovery-framework/) that defines open interfaces for components that implement specific types of metadata discovery.   These components can then be called from tools offered by different vendors through the open APIs.\n",
    "We call this ability to invoke metadata discovery components from many different vendor tools, **open discovery**.\n",
    "\n",
    "The Open Discovery Framework (ODF) provides standard interfaces for **discovery services**.  This is the ODF\n",
    "name for the metadata discovery components.  The ODF interfaces control how a discovery service is started and stopped, how it can access the existing metadata about an asset, and store any additional information about the asset that it discovers. \n",
    "\n",
    "Discovery services are grouped together into a useful collection of capability called a **discovery engine**. The same discovery service may be used in multiple discovery engines.\n",
    "\n",
    "ODPi Egeria provides a governance server called the **discovery server** that can host one or more discovery engines.  The discovery server has APIs to call the discovery engines and their services inside to drive the analysis a specific asset, and then to view the results.  The discovery server can also scan through all assets, running specific analysis on any it finds.\n",
    "\n",
    "Discovery servers tend to be paired and deployed close to the data platforms they are analyzing because the discovery process makes many calls to access the content of the asset.  It is not uncommon for an organization to deploy multiple discovery servers if their data is distributed.\n",
    "\n",
    "The discovery server connects to a metadata server to retreive and store metadata about the asset.  It uses the Discovery Engine OMAS APIs and events of the metadata server.\n",
    "A single metadata server can support many discovery servers.\n",
    "The Discovery Engine OMAS also supports the\n",
    "maintenance of the discovery services' and discovery engines' definitions.\n",
    "\n",
    "![Figure 1](../images/discovery-servers.png)\n",
    "> **Figure 1:** Discovery server deployments\n",
    "\n",
    "A particular discovery engine may be assigned to run in multiple discovery servers. This is useful if the type of\n",
    "data it is able to analyze is distributed across different locations.\n",
    "\n",
    "The exercises that follow take you through the process of defining discovery engines and services, verifying that\n",
    "they are available in the discovery server and then running discovery requests against various assets.\n"
   ]
  },
  {
   "cell_type": "markdown",
   "metadata": {},
   "source": [
    "## The scenario\n",
    "\n",
    "Peter Profile is Coco Pharmaceuticals' Information Analyst.  He is experienced in managing and analyzing data.\n",
    "In this lab, Peter is setting up automated metadata discovery services for use when new data sets are\n",
    "sent to Coco Pharmaceuticals' data lake.  These data sets come from both internal systems and external partners\n",
    "such as hospitals that are participating in clinical trials.\n",
    "\n",
    "![Peter Profile](https://raw.githubusercontent.com/odpi/data-governance/master/docs/coco-pharmaceuticals/personas/peter-profile.png)\n",
    "\n",
    "Peter's collegue, **Gary Geeke**, the IT Infrastructure leader at Coco Pharmaceuticals,\n",
    "has already configured a discovery server called `findItDL01` for Peter to use.\n",
    "\n",
    "In the **[Server Configuration](../egeria-server-config.ipynb)** lab, Gary configured the\n",
    "Open Metdata and Governance (OMAG) Server Platforms shown in Figure 2 to host the Egeria servers in use by Coco Pharmaceuticals.\n",
    "\n",
    "![Figure 2](../images/coco-pharmaceuticals-systems-omag-server-platforms-with-discovery.png)\n",
    "> **Figure 2:** Coco Pharmaceuticals' OMAG Server Platforms\n",
    "\n",
    "The discovery server `findItDL01` is running on the Data Lake OMAG Server Platform, along with `cocoMDS1`,\n",
    "which is the metadata server that the discovery server will use to retrieve and store metadata.\n",
    "\n",
    "The first step is to ensure all of the platforms and servers are running."
   ]
  },
  {
   "cell_type": "code",
   "execution_count": null,
   "metadata": {},
   "outputs": [],
   "source": [
    "%run ../common/environment-check.ipynb\n",
    "\n",
    "print(\"Start up the Discovery Server\")\n",
    "activatePlatform(dataLakePlatformName, dataLakePlatformURL, [findItDL01Name])\n",
    "print(\"Done. \")\n",
    "\n"
   ]
  },
  {
   "cell_type": "markdown",
   "metadata": {},
   "source": [
    "----\n",
    "You should see that both the metadata server `cocoMDS1` and the discovery engine `findItDL01` are started.\n",
    "If any of the platforms are not running, follow [this link to set up and run the platform](https://egeria.odpi.org/open-metadata-resources/open-metadata-labs/).  If any server is reporting that it is not configured then\n",
    "run the steps in the **[Server Configuration](../egeria-server-config.ipynb)** lab to configure\n",
    "the servers.  Then re-run the previous step to ensure all of the servers are started.\n",
    "\n",
    "----\n",
    "The discovery server has been configured to host 3 discovery engines.  The command below lists the discovery engines\n",
    "and their status."
   ]
  },
  {
   "cell_type": "code",
   "execution_count": null,
   "metadata": {},
   "outputs": [],
   "source": [
    "\n",
    "getDiscoveryEngineStatuses(findItDL01Name, findItDL01PlatformName, findItDL01PlatformURL, petersUserId)\n"
   ]
  },
  {
   "cell_type": "markdown",
   "metadata": {},
   "source": [
    "The status code `ASSIGNED` means that the discovery engine was listed in the discovery server's configuration\n",
    "document - ie the discovery engine was assigned to the discovery server - but the discovery server has not been\n",
    "able to retrieve the configuration for the discovery engine from the metadata server (`cocoMDS1`).\n",
    "\n",
    "When the basic discovery engine properties have been retrieved from the metadata server then the status code\n",
    "becomes `CONFIGURING` and more decriptive information is returned with the status.   When discovery services are registered with the discovery engine, the status moved to `RUNNING` and it is possible to see the list of supported\n",
    "discovery request types with the status.\n",
    "\n",
    "The next step in the lab is to add configuration for the discovery engine to `cocoMDS1` until the\n",
    "`AssetDeduplicator` discovery engine is running."
   ]
  },
  {
   "cell_type": "markdown",
   "metadata": {},
   "source": [
    "## Exercise 1 - Configuring the Discovery Engine"
   ]
  },
  {
   "cell_type": "markdown",
   "metadata": {},
   "source": [
    "Figure 3 shows the structure of the configuration that needs to be stored in the metadata server for\n",
    "a discovery engine.\n",
    "\n",
    "The discovery engine has a set of descriptive properties.  These are linked to a list of discovery request types.\n",
    "The discovery request types are memorable names for the types of analysis that the users of the discovery\n",
    "server will want to run.  It also includes a default set of analysis parameters that can be overridden when\n",
    "a specific discovery request is made.\n",
    "\n",
    "Each discovery request type is further linked either to a discovery service or a **discovery pipeline**.\n",
    "(A discovery pipeline is a discovery service that manages the running of other discovery services.)\n",
    "\n",
    "When a discovery request is made it specifies a discovery request type. The discovery engine runs the\n",
    "discovery service or discovery pipeline linked to the requested discovery type.\n",
    "\n",
    "![Figure 3](../images/discovery-engine-configuration.png)\n",
    "> **Figure 3:** Structure of discovery engine configuration\n",
    "\n",
    "The discovery engine is configured using calls to the Discovery Engine OMAS running in the metadata server `cocoMDS1`.  The first configuration call is to store the discovery engine properties."
   ]
  },
  {
   "cell_type": "code",
   "execution_count": null,
   "metadata": {},
   "outputs": [],
   "source": [
    "assetDeduplicatorEngineName = \"AssetDeduplicator\"\n",
    "assetDeduplicatorEngineDisplayName = \"Asset Deduplicator Discovery Engine\"\n",
    "assetDeduplicatorEngineDescription = \"Discovery engine for scanning the asset catalog and identifying which assets are duplicate definitions of the same physical asset.\"\n",
    "\n",
    "\n",
    "assetDeduplicatorEngineGUID = createDiscoveryEngine(cocoMDS1Name,\n",
    "                                                    cocoMDS1PlatformName,\n",
    "                                                    cocoMDS1PlatformURL,\n",
    "                                                    petersUserId,\n",
    "                                                    assetDeduplicatorEngineName,\n",
    "                                                    assetDeduplicatorEngineDisplayName,\n",
    "                                                    assetDeduplicatorEngineDescription)\n",
    "\n",
    "print (\" \")\n",
    "print (\"The guid for the \" + assetDeduplicatorEngineName + \" discovery engine is: \" + assetDeduplicatorEngineGUID)\n",
    "print (\" \")\n"
   ]
  },
  {
   "cell_type": "markdown",
   "metadata": {},
   "source": [
    "----\n",
    "The properties for the discovery engine are now on `cocoMDS1`.  This configuration will eventually propagate to\n",
    "the discovery server `findItDL01` through the Discovery Engine OMAS events.  However to propagate the\n",
    "configuration immediately, there is a `refresh configuration` REST API call that can be made to the discovery\n",
    "server to request that it calls the metadata server to retrieve its configuration."
   ]
  },
  {
   "cell_type": "code",
   "execution_count": null,
   "metadata": {},
   "outputs": [],
   "source": [
    "\n",
    "refreshDiscoveryEngineConfig(findItDL01Name, findItDL01PlatformName, findItDL01PlatformURL, petersUserId, assetDeduplicatorEngineName)\n"
   ]
  },
  {
   "cell_type": "markdown",
   "metadata": {},
   "source": [
    "----\n",
    "The result shows that there is a problem with the discovery engine's configuration.\n",
    "\n",
    "When the status of the discovery engines is requested, the AssetDuplicator discovery engine is now showing `CONFIGURING`.  This means the discovery engine is defined, but it does not have any discovery request types\n",
    "defined and hence can not run any discovery services.  It is effectively \"empty\".\n"
   ]
  },
  {
   "cell_type": "code",
   "execution_count": null,
   "metadata": {},
   "outputs": [],
   "source": [
    "\n",
    "getDiscoveryEngineStatuses(findItDL01Name, findItDL01PlatformName, findItDL01PlatformURL, petersUserId)\n"
   ]
  },
  {
   "cell_type": "markdown",
   "metadata": {},
   "source": [
    "----\n",
    "To complete the configuration of the discovery engine it needs at least one discovery service registered.\n",
    "\n",
    "The next set of calls creates the definition for a discovery service and then registers it with the discovery\n",
    "engine. The registration request is the point where the discovery\n",
    "request types are linked to the discovery service as shown in **figure 3** above.\n",
    "\n",
    "The definition of the discovery service is independent of the registration with the discovery engine because\n",
    "discovery services can be reused in multiple discovery pipelines and engines.\n"
   ]
  },
  {
   "cell_type": "code",
   "execution_count": null,
   "metadata": {},
   "outputs": [],
   "source": [
    "\n",
    "dupAssetIdentificationDiscoveryServiceName = \"duplicate-asset-identification-discovery-service\"\n",
    "dupAssetIdentificationDiscoveryServiceDisplayName = \"Duplicate Asset Identification Discovery Service\"\n",
    "dupAssetIdentificationDiscoveryServiceDescription = \"Creates a report that lists the other assets that seem to describe the same physical asset.\"\n",
    "dupAssetIdentificationDiscoveryServiceProviderClassName = \"org.odpi.openmetadata.adapters.connectors.discoveryservices.DuplicateSuspectDiscoveryProvider\"\n",
    "dupAssetIdentificationDiscoveryServiceRequestTypes = [ \"identify-duplicates\" ]\n",
    "dupAssetIdentificationDiscoveryServiceGUID = createDiscoveryService(cocoMDS1Name,\n",
    "                                                                    cocoMDS1PlatformName,\n",
    "                                                                    cocoMDS1PlatformURL,\n",
    "                                                                    petersUserId,\n",
    "                                                                    dupAssetIdentificationDiscoveryServiceName,\n",
    "                                                                    dupAssetIdentificationDiscoveryServiceDisplayName,\n",
    "                                                                    dupAssetIdentificationDiscoveryServiceDescription,\n",
    "                                                                    dupAssetIdentificationDiscoveryServiceProviderClassName)\n",
    "\n",
    "print (\" \")\n",
    "print (\"The guid for the \" + dupAssetIdentificationDiscoveryServiceName + \" is: \" + dupAssetIdentificationDiscoveryServiceGUID)\n",
    "print (\" \")\n",
    "\n",
    "registerDiscoveryServiceWithEngine(cocoMDS1Name,\n",
    "                                   cocoMDS1PlatformName,\n",
    "                                   cocoMDS1PlatformURL,\n",
    "                                   petersUserId,\n",
    "                                   assetDeduplicatorEngineGUID,\n",
    "                                   dupAssetIdentificationDiscoveryServiceGUID,\n",
    "                                   dupAssetIdentificationDiscoveryServiceRequestTypes)\n",
    "\n",
    "\n",
    "print (\" \")\n",
    "print (\"Service registered\")\n",
    "print (\" \")\n",
    "\n",
    "refreshDiscoveryEngineConfig(findItDL01Name, findItDL01PlatformName, findItDL01PlatformURL, petersUserId, assetDeduplicatorEngineName)\n"
   ]
  },
  {
   "cell_type": "markdown",
   "metadata": {},
   "source": [
    "----\n",
    "Now the discovery engine has sufficient configuration to offer a useful service to its callers."
   ]
  },
  {
   "cell_type": "code",
   "execution_count": null,
   "metadata": {},
   "outputs": [],
   "source": [
    "\n",
    "getDiscoveryEngineStatuses(findItDL01Name, findItDL01PlatformName, findItDL01PlatformURL, petersUserId)\n"
   ]
  },
  {
   "cell_type": "markdown",
   "metadata": {},
   "source": [
    "----\n",
    "The code below adds the configuration for the AssetDiscovery discovery engines and its services.\n"
   ]
  },
  {
   "cell_type": "code",
   "execution_count": null,
   "metadata": {},
   "outputs": [],
   "source": [
    "\n",
    "assetDiscoveryEngineName = \"AssetDiscovery\"\n",
    "assetDiscoveryEngineDisplayName = \"Asset Discovery Engine\"\n",
    "assetDiscoveryEngineDescription = \"Extracts metadata about an asset on request.\"\n",
    "\n",
    "assetDiscoveryEngineGUID = createDiscoveryEngine(cocoMDS1Name,\n",
    "                                                 cocoMDS1PlatformName,\n",
    "                                                 cocoMDS1PlatformURL,\n",
    "                                                 petersUserId,\n",
    "                                                 assetDiscoveryEngineName,\n",
    "                                                 assetDiscoveryEngineDisplayName,\n",
    "                                                 assetDiscoveryEngineDescription)\n",
    "\n",
    "discoveryServiceName = \"csv-asset-discovery-service\"\n",
    "discoveryServiceDisplayName = \"CSV Asset Discovery Service\"\n",
    "discoveryServiceDescription = \"Discovers columns for CSV Files.\"\n",
    "discoveryServiceProviderClassName = \"org.odpi.openmetadata.adapters.connectors.discoveryservices.CSVDiscoveryServiceProvider\"\n",
    "discoveryServiceRequestTypes = [ \"small-csv\" ]\n",
    "\n",
    "discoveryServiceGUID = createDiscoveryService(cocoMDS1Name,\n",
    "                                              cocoMDS1PlatformName,\n",
    "                                              cocoMDS1PlatformURL,\n",
    "                                              petersUserId,\n",
    "                                              discoveryServiceName,\n",
    "                                              discoveryServiceDisplayName,\n",
    "                                              discoveryServiceDescription,\n",
    "                                              discoveryServiceProviderClassName)\n",
    "\n",
    "registerDiscoveryServiceWithEngine(cocoMDS1Name,\n",
    "                                   cocoMDS1PlatformName,\n",
    "                                   cocoMDS1PlatformURL,\n",
    "                                   petersUserId,\n",
    "                                   assetDiscoveryEngineGUID,\n",
    "                                   discoveryServiceGUID,\n",
    "                                   discoveryServiceRequestTypes)\n",
    "\n",
    "refreshDiscoveryEngineConfig(findItDL01Name, findItDL01PlatformName, findItDL01PlatformURL, petersUserId, assetDiscoveryEngineName)\n"
   ]
  },
  {
   "cell_type": "markdown",
   "metadata": {},
   "source": [
    "----\n",
    "The configuration for the `findItDL01` discovery server now looks like this:\n"
   ]
  },
  {
   "cell_type": "code",
   "execution_count": null,
   "metadata": {},
   "outputs": [],
   "source": [
    "\n",
    "getDiscoveryEngineStatuses(findItDL01Name, findItDL01PlatformName, findItDL01PlatformURL, petersUserId)\n"
   ]
  },
  {
   "cell_type": "markdown",
   "metadata": {},
   "source": [
    "----\n",
    "The discovery server is ready to run automated discovery requests on both the **AssetDeduplicator** discovery engine and the **AssetDiscovery** discovery engine.  The **AssetQuality** discovery engine will be configured in a later release of Egeria when the quaity management function is enabled.\n",
    "\n",
    "----\n",
    "## Exercise 2 - Discovering Duplicate Assets\n",
    "\n",
    "The next exercise is to run a metadata discovery service on a selection of asset descriptions in the metadata repositories to determine if they each represent a unique real asset, or if there are duplicate descriptions.\n",
    "\n",
    "Duplicate asset descriptions are inevitable when Egeria combines metadata from different tools and the users of these tools are working with the same physical assets.  Each tool will load their own private description of the\n",
    "asset.  When the tools are linked together, and Egeria queries the combined "
   ]
  },
  {
   "cell_type": "code",
   "execution_count": null,
   "metadata": {},
   "outputs": [],
   "source": []
  },
  {
   "cell_type": "code",
   "execution_count": null,
   "metadata": {},
   "outputs": [],
   "source": [
    "\n"
   ]
  },
  {
   "cell_type": "markdown",
   "metadata": {},
   "source": [
    "----\n",
    "## Exercise 3 - Exploring Asset Contents\n",
    "\n",
    "The final exercise is to run metadata discovery on a new asset to discovery its schema (structure) and the\n",
    "characteristics of its content."
   ]
  }
 ],
 "metadata": {
  "kernelspec": {
   "display_name": "Python 3",
   "language": "python",
   "name": "python3"
  },
  "language_info": {
   "codemirror_mode": {
    "name": "ipython",
    "version": 3
   },
   "file_extension": ".py",
   "mimetype": "text/x-python",
   "name": "python",
   "nbconvert_exporter": "python",
   "pygments_lexer": "ipython3",
   "version": "3.7.4"
  }
 },
 "nbformat": 4,
 "nbformat_minor": 4
}
