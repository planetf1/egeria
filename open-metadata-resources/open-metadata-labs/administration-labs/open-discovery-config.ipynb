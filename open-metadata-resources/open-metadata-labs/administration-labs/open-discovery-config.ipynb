{
 "cells": [
  {
   "cell_type": "markdown",
   "metadata": {},
   "source": [
    "![Egeria Logo](https://raw.githubusercontent.com/odpi/egeria/master/assets/img/ODPi_Egeria_Logo_color.png)\n",
    "### ODPi Egeria Hands-On Lab\n",
    "# Welcome to the Configuring Discovery Servers Lab"
   ]
  },
  {
   "cell_type": "markdown",
   "metadata": {},
   "source": [
    "## Introduction\n",
    "\n",
    "ODPi Egeria is an open source project that provides open standards and implementation libraries to connect tools,\n",
    "catalogues and platforms together so they can share information about data and technology (called metadata).\n",
    "\n",
    "In this hands-on lab you will get a chance to run an Egeria metadata server, configure discovery services in a discovery engine and run the discovery engine in a discovery server.\n",
    "\n",
    "## What is open discovery?\n",
    "\n",
    "Open discovery is the ability to automatically analyse and create metadata about assets.  ODPi Egeria provides an Open Discovery Framework (ODF) that defines open interfaces for components that provide specific types of discovery capability so that they can be called from discovery platforms offered by different vendors.\n",
    "\n",
    "The Open Discovery Framework (ODF) provides standard interfaces for building **discovery services** and grouping them together into a useful collection of capability called a **discovery engine**.\n",
    "\n",
    "ODPi Egeria then provides a governance server called the **discovery server** that can host one or more discovery engines."
   ]
  },
  {
   "cell_type": "markdown",
   "metadata": {},
   "source": [
    "## The scenario\n",
    "\n",
    "Gary Geeke is the IT Infrastructure leader at Coco Pharmaceuticals.  He has set up a number of OMAG Server Platforms and\n",
    "is configuring the servers to run on them.\n",
    "\n",
    "![Gary Geeke](https://raw.githubusercontent.com/odpi/data-governance/master/docs/coco-pharmaceuticals/personas/gary-geeke.png)\n",
    "\n",
    "In this hands-on lab Gary is setting up a discovery server for the data lake.  Gary's userId is `garygeeke`."
   ]
  },
  {
   "cell_type": "code",
   "execution_count": null,
   "metadata": {},
   "outputs": [],
   "source": [
    "import requests\n",
    "\n",
    "adminUserId      = \"garygeeke\"\n",
    "organizationName = \"Coco Pharmaceuticals\"\n",
    "serverType       = \"Open Discovery Server\""
   ]
  },
  {
   "cell_type": "markdown",
   "metadata": {},
   "source": [
    "In the **Metadata Server Configuration** lab, Gary configured servers for the OMAG Server Platforms shown in Figure 1:\n",
    "\n",
    "![Figure 1](../images/coco-pharmaceuticals-systems-omag-server-platforms.png)\n",
    "> **Figure 1:** Coco Pharmaceuticals' OMAG Server Platforms\n",
    "\n",
    "Below are the host name and port number where the core, data lake and development platforms will run. The discovery server will run on the Data Lake OMAG Server Platform."
   ]
  },
  {
   "cell_type": "code",
   "execution_count": null,
   "metadata": {},
   "outputs": [],
   "source": [
    "import os\n",
    "\n",
    "corePlatformURL     = os.environ.get('corePlatformURL','http://localhost:8080') \n",
    "dataLakePlatformURL = os.environ.get('dataLakePlatformURL','http://localhost:8081') \n",
    "devPlatformURL      = os.environ.get('devPlatformURL','http://localhost:8082')"
   ]
  },
  {
   "cell_type": "markdown",
   "metadata": {},
   "source": [
    "There are two parts to setting up a discovery server.  First the configuration for a discovery engine needs to be created and added to a metadata server.  In this example, this will be the Data Lake Operations Metadata Server called `cocoMDS1`."
   ]
  },
  {
   "cell_type": "code",
   "execution_count": null,
   "metadata": {},
   "outputs": [],
   "source": [
    "mdrServerName = \"cocoMDS1\""
   ]
  },
  {
   "cell_type": "markdown",
   "metadata": {},
   "source": [
    "Then the discovery server is configured with the location of the metadata server and the identity of one or more discovery engines.\n",
    "When the discovery server starts it contacts the metadata server and retrieves the configuration for the discovery engine(s)."
   ]
  },
  {
   "cell_type": "markdown",
   "metadata": {},
   "source": [
    "## Exercise 1 - Configuring the Discovery Engine"
   ]
  },
  {
   "cell_type": "markdown",
   "metadata": {},
   "source": [
    "The discovery engine is configured using calls to the Discovery Engine OMAS.  The commands all begin with this root."
   ]
  },
  {
   "cell_type": "code",
   "execution_count": null,
   "metadata": {},
   "outputs": [],
   "source": [
    "configCommandURLRoot = dataLakePlatformURL + \"/servers/\" + mdrServerName + \"/open-metadata/access-services/discovery-engine/users/\" + adminUserId"
   ]
  },
  {
   "cell_type": "markdown",
   "metadata": {},
   "source": [
    "The first configuration call is to create the discovery engine."
   ]
  },
  {
   "cell_type": "code",
   "execution_count": null,
   "metadata": {},
   "outputs": [],
   "source": [
    "createDiscoveryEngineURL = configCommandURLRoot + '/discovery-engines'\n",
    "print (createDiscoveryEngineURL)\n",
    "\n",
    "jsonHeader = {'content-type':'application/json'}\n",
    "body = {\n",
    "\t\"class\" : \"NewDiscoveryEngineRequestBody\",\n",
    "\t\"qualifiedName\" : \"data-lake-discovery-engine\",\n",
    "\t\"displayName\" : \"Data Lake Discovery Engine\",\n",
    "\t\"description\" : \"Discovery engine used for onboarding assets.\"\n",
    "}\n",
    "\n",
    "response=requests.post(createDiscoveryEngineURL, json=body, headers=jsonHeader)\n",
    "\n",
    "response.json()\n"
   ]
  },
  {
   "cell_type": "code",
   "execution_count": null,
   "metadata": {},
   "outputs": [],
   "source": [
    "discoveryEngineGUID=response.json().get('guid')\n",
    "\n",
    "print (\" \")\n",
    "print (\"The guid for the discovery engine is: \" + discoveryEngineGUID)\n",
    "print (\" \")"
   ]
  },
  {
   "cell_type": "code",
   "execution_count": null,
   "metadata": {},
   "outputs": [],
   "source": [
    "createDiscoveryServiceURL = configCommandURLRoot + '/discovery-services'\n",
    "\n",
    "print (createDiscoveryServiceURL)\n",
    "\n",
    "jsonHeader = {'content-type':'application/json'}\n",
    "body = {\n",
    "\t\"class\" : \"NewDiscoveryServiceRequestBody\",\n",
    "\t\"qualifiedName\" : \"csv-asset-discovery-service\",\n",
    "\t\"displayName\" : \"CSV Asset Discovery Service\",\n",
    "\t\"description\" : \"Discovers columns for CSV Files.\",\n",
    "    \"connection\" : {\n",
    "        \"class\": \"Connection\",\n",
    "        \"type\": {\n",
    "            \"class\": \"ElementType\",\n",
    "            \"elementTypeId\": \"114e9f8f-5ff3-4c32-bd37-a7eb42712253\",\n",
    "            \"elementTypeName\": \"Connection\",\n",
    "            \"elementTypeVersion\": 1,\n",
    "            \"elementTypeDescription\": \"A set of properties to identify and configure a connector instance.\",\n",
    "            \"elementOrigin\": \"CONFIGURATION\"\n",
    "        },\n",
    "        \"guid\": \"1111abc7-2b13-4c4e-b840-97c4282f7416\",\n",
    "        \"qualifiedName\": \"csv-asset-discovery-service-implementation\",\n",
    "        \"displayName\": \"CSV Discovery Service Implementation Connector\",\n",
    "        \"description\": \"Connector to discover a CSV File.\",\n",
    "        \"connectorType\": {\n",
    "            \"class\": \"ConnectorType\",\n",
    "            \"type\": {\n",
    "                \"class\": \"ElementType\",\n",
    "                \"elementTypeId\": \"954421eb-33a6-462d-a8ca-b5709a1bd0d4\",\n",
    "                \"elementTypeName\": \"ConnectorType\",\n",
    "                \"elementTypeVersion\": 1,\n",
    "                \"elementTypeDescription\": \"A set of properties describing a type of connector.\",\n",
    "                \"elementOrigin\": \"LOCAL_COHORT\"\n",
    "            },\n",
    "            \"guid\": \"1111f73d-e343-abcd-82cb-3918fed81da6\",\n",
    "            \"qualifiedName\": \"CSVDiscoveryServiceProvider\",\n",
    "            \"displayName\": \"CSV File Discovery Service Provider Implementation\",\n",
    "            \"description\": \"This connector explores the content of a CSV File.\",\n",
    "            \"connectorProviderClassName\": \"org.odpi.openmetadata.accessservices.discoveryengine.samples.discoveryservices.CSVDiscoveryServiceProvider\"\n",
    "        }\n",
    "    }\n",
    "}\n",
    "\n",
    "response=requests.post(createDiscoveryServiceURL, json=body, headers=jsonHeader)\n",
    "\n",
    "response.json()"
   ]
  },
  {
   "cell_type": "code",
   "execution_count": null,
   "metadata": {},
   "outputs": [],
   "source": [
    "discoveryServiceGUID=response.json().get('guid')\n",
    "\n",
    "print (\" \")\n",
    "print (\"The guid for the discovery service is: \" + discoveryServiceGUID)\n",
    "print (\" \")"
   ]
  },
  {
   "cell_type": "markdown",
   "metadata": {},
   "source": [
    "Finally the discovery service is registered with the discovery engine."
   ]
  },
  {
   "cell_type": "code",
   "execution_count": null,
   "metadata": {},
   "outputs": [],
   "source": [
    "registerDiscoveryServiceURL = configCommandURLRoot + '/discovery-engines/' + discoveryEngineGUID + '/discovery-services'\n",
    "\n",
    "print (registerDiscoveryServiceURL)\n",
    "\n",
    "jsonHeader = {'content-type':'application/json'}\n",
    "body = {\n",
    "\t\"class\" : \"DiscoveryServiceRegistrationRequestBody\",\n",
    "\t\"discoveryServiceGUID\" : discoveryServiceGUID,\n",
    "\t\"assetTypes\" : [ \"small-csv\" ]\n",
    "}\n",
    "\n",
    "response=requests.post(registerDiscoveryServiceURL, json=body, headers=jsonHeader)\n",
    "\n",
    "response.json()"
   ]
  },
  {
   "cell_type": "markdown",
   "metadata": {},
   "source": [
    "## Exercise 2 - Configuring the Discovery Server\n",
    "\n",
    "The discovery server is to be called `discoDL01`."
   ]
  },
  {
   "cell_type": "code",
   "execution_count": null,
   "metadata": {},
   "outputs": [],
   "source": [
    "organizationName = \"Coco Pharmaceuticals\"\n",
    "serverType       = \"Open Discovery Server\"\n",
    "discoServerName  = \"discoDL01\""
   ]
  },
  {
   "cell_type": "markdown",
   "metadata": {},
   "source": [
    "The code below sets up the basic properties of a governance server."
   ]
  },
  {
   "cell_type": "code",
   "execution_count": null,
   "metadata": {},
   "outputs": [],
   "source": [
    "adminPlatformURL = dataLakePlatformURL\n",
    "adminCommandURLRoot = adminPlatformURL + '/open-metadata/admin-services/users/' + adminUserId + '/servers/'\n",
    "\n",
    "print (\" \")\n",
    "print (\"Configuring the platform that the server will run on ...\")\n",
    "url = adminCommandURLRoot + discoServerName + '/server-url-root?url=' + dataLakePlatformURL\n",
    "print (\"POST \" + url)\n",
    "response=requests.post(url)\n",
    "print (\"Response: \")\n",
    "print (response.json())\n",
    "\n",
    "maxPageSize = '100'\n",
    "\n",
    "print (\" \")\n",
    "print (\"Configuring the maximum page size ...\")\n",
    "url = adminCommandURLRoot + discoServerName + '/max-page-size?limit=' + maxPageSize\n",
    "print (\"POST \" + url)\n",
    "response=requests.post(url)\n",
    "print (\"Response: \")\n",
    "print (response.json())\n",
    "\n",
    "print (\" \")\n",
    "print (\"Configuring the server's type ...\")\n",
    "url = adminCommandURLRoot + discoServerName + '/server-type?typeName=' + serverType\n",
    "print (\"POST \" + url)\n",
    "response=requests.post(url)\n",
    "print (\"Response: \")\n",
    "print (response.json())\n",
    "\n",
    "print (\" \")\n",
    "print (\"Configuring the server's owning organization ...\")\n",
    "url = adminCommandURLRoot + discoServerName + '/organization-name?name=' + organizationName\n",
    "print (\"POST \" + url)\n",
    "response=requests.post(url)\n",
    "print (\"Response: \")\n",
    "print (response.json())\n",
    "\n",
    "discoServerUserId   = \"discoDL01npa\"\n",
    "discoServerPassword = \"discoDL01passw0rd\"\n",
    "\n",
    "print (\" \")\n",
    "print (\"Configuring the server's userId ...\")\n",
    "url = adminCommandURLRoot + discoServerName + '/server-user-id?id=' + discoServerUserId\n",
    "print (\"POST \" + url)\n",
    "response=requests.post(url)\n",
    "print (\"Response: \")\n",
    "print (response.json())\n",
    "\n",
    "print (\" \")\n",
    "print (\"Configuring the server's password (optional) ...\")\n",
    "url = adminCommandURLRoot + discoServerName + '/server-user-password?password=' + discoServerPassword\n",
    "print (\"POST \" + url)\n",
    "response=requests.post(url)\n",
    "print (\"Response: \")\n",
    "print (response.json())\n",
    "\n",
    "print (\" \")\n",
    "print (\"Configuring the server's security connector ...\")\n",
    "\n",
    "url = adminCommandURLRoot + discoServerName + '/security/connection'\n",
    "print (\"POST \" + url)\n",
    "\n",
    "header={'content-type':'application/json'}\n",
    "body = {\n",
    "    \"class\": \"Connection\",\n",
    "    \"type\": {\n",
    "        \"class\": \"ElementType\",\n",
    "        \"elementTypeId\": \"114e9f8f-5ff3-4c32-bd37-a7eb42712253\",\n",
    "        \"elementTypeName\": \"Connection\",\n",
    "        \"elementTypeVersion\": 1,\n",
    "        \"elementTypeDescription\": \"A set of properties to identify and configure a connector instance.\",\n",
    "        \"elementOrigin\": \"CONFIGURATION\"\n",
    "    },\n",
    "    \"guid\": \"1213abc7-2b13-4c4e-b840-97c4282f7416\",\n",
    "    \"qualifiedName\": \"CocoPharmaceuticalsMetadataServerSecurityConnector\",\n",
    "    \"displayName\": \"Metadata Server Security Connector\",\n",
    "    \"description\": \"Connector to enforce authorization rules for accessing and updating metadata.\",\n",
    "    \"connectorType\": {\n",
    "        \"class\": \"ConnectorType\",\n",
    "        \"type\": {\n",
    "            \"class\": \"ElementType\",\n",
    "            \"elementTypeId\": \"954421eb-33a6-462d-a8ca-b5709a1bd0d4\",\n",
    "            \"elementTypeName\": \"ConnectorType\",\n",
    "            \"elementTypeVersion\": 1,\n",
    "            \"elementTypeDescription\": \"A set of properties describing a type of connector.\",\n",
    "            \"elementOrigin\": \"LOCAL_COHORT\"\n",
    "        },\n",
    "        \"guid\": \"1851f73d-e343-abcd-82cb-3918fed81da6\",\n",
    "        \"qualifiedName\": \"CocoPharmaServerSecurityConnectorType\",\n",
    "        \"displayName\": \"Coco Pharmaceuticals Server Security Connector Implementation\",\n",
    "        \"description\": \"This connector ensures only valid and authorized people can access the metadata.\",\n",
    "        \"connectorProviderClassName\": \"org.odpi.openmetadata.metadatasecurity.samples.CocoPharmaServerSecurityProvider\"\n",
    "    }\n",
    "}\n",
    "\n",
    "response=requests.post(url, json=body, headers=header)\n",
    "\n",
    "print (\"Response: \")\n",
    "print (response.json())\n",
    "\n"
   ]
  },
  {
   "cell_type": "markdown",
   "metadata": {},
   "source": [
    "----\n",
    "Next the discovery engine services need to be enabled."
   ]
  },
  {
   "cell_type": "code",
   "execution_count": null,
   "metadata": {},
   "outputs": [],
   "source": [
    "\n",
    "print (\" \")\n",
    "print (\"Configuring the access service URL and Server Name  ...\")\n",
    "\n",
    "url = adminCommandURLRoot + discoServerName + '/discovery-server/access-service-root-url?accessServiceRootURL=' + dataLakePlatformURL\n",
    "print (\"POST \" + url)\n",
    "    \n",
    "response=requests.post(url)\n",
    "\n",
    "print (\"Response: \")\n",
    "print (response.json())\n",
    "\n",
    "url = adminCommandURLRoot + discoServerName + '/discovery-server/access-service-server-name?accessServiceServerName=' + mdrServerName\n",
    "print (\"POST \" + url)\n",
    "  \n",
    "response=requests.post(url)\n",
    "\n",
    "print (\"Response: \")\n",
    "print (response.json())\n",
    "\n",
    "\n",
    "print (\" \")\n",
    "print (\"Configuring the server's discovery engine ...\")\n",
    "\n",
    "url = adminCommandURLRoot + discoServerName + '/discovery-server/set-discovery-engines'\n",
    "print (\"POST \" + url)\n",
    "\n",
    "header={'content-type':'application/json'}\n",
    "body = [ discoveryEngineGUID ]\n",
    "    \n",
    "response=requests.post(url, json=body, headers=header)\n",
    "\n",
    "print (\"Response: \")\n",
    "print (response.json())"
   ]
  },
  {
   "cell_type": "markdown",
   "metadata": {},
   "source": [
    "## Exercise 3 - Discovering Assets\n",
    "\n",
    "The final exercise is to run metadata discovery on a new asset."
   ]
  },
  {
   "cell_type": "code",
   "execution_count": null,
   "metadata": {},
   "outputs": [],
   "source": [
    "petersUserId = \"peterprofile\"\n",
    "serverAssetOwnerURL = dataLakePlatformURL + '/servers/' + mdrServerName + '/open-metadata/access-services/asset-owner/users/' + petersUserId \n",
    "\n",
    "createAssetURL = serverAssetOwnerURL + '/assets/files/csv'\n",
    "print (createAssetURL)\n",
    "\n",
    "jsonHeader = {'content-type':'application/json'}\n",
    "body = {\n",
    "\t\"class\" : \"NewFileAssetRequestBody\",\n",
    "\t\"displayName\" : \"Week 1: Drop Foot Clinical Trial Measurements\",\n",
    "\t\"description\" : \"One week's data covering foot angle, hip displacement and mobility measurements.\",\n",
    "\t\"fullPath\" : \"file://secured/research/clinical-trials/drop-foot/DropFootMeasurementsWeek1.csv\"\n",
    "}\n",
    "\n",
    "response=requests.post(createAssetURL, json=body, headers=jsonHeader)\n",
    "\n",
    "response.json()\n",
    "\n",
    "asset1guid=response.json().get('guid')\n",
    "\n",
    "print (\" \")\n",
    "print (\"The guid for asset 1 is: \" + asset1guid)\n",
    "print (\" \")\n",
    "\n",
    "discoveryCommandRootURL = dataLakePlatformURL + '/servers/' + discoServerName + '/open-metadata/discovery-server/users/' + petersUserId + '/discovery-engine/' + discoveryEngineGUID\n",
    "\n",
    "assetType = \"small-csv\"\n",
    "discoverAssetURL = discoveryCommandRootURL + '/asset-types/' + assetType + '/assets/' + asset1guid\n",
    "\n",
    "response=requests.post(discoverAssetURL)\n",
    "\n",
    "print (\"Returns:\")\n",
    "print (response.json())\n",
    "print (\" \")\n"
   ]
  }
 ],
 "metadata": {
  "kernelspec": {
   "display_name": "Python 3",
   "language": "python",
   "name": "python3"
  },
  "language_info": {
   "codemirror_mode": {
    "name": "ipython",
    "version": 3
   },
   "file_extension": ".py",
   "mimetype": "text/x-python",
   "name": "python",
   "nbconvert_exporter": "python",
   "pygments_lexer": "ipython3",
   "version": "3.7.4"
  }
 },
 "nbformat": 4,
 "nbformat_minor": 4
}
