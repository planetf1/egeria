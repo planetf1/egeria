{
 "cells": [
  {
   "cell_type": "markdown",
   "metadata": {},
   "source": [
    "![Egeria Logo](https://raw.githubusercontent.com/odpi/egeria/master/assets/img/ODPi_Egeria_Logo_color.png)\n",
    "\n",
    "\n",
    "### ODPi Egeria Hands-On Lab\n",
    "# Welcome to Understanding Egeria Digital Services"
   ]
  },
  {
   "cell_type": "markdown",
   "metadata": {},
   "source": [
    "## Introduction\n",
    "\n",
    "ODPi Egeria is an open source project that provides open standards and implementation libraries to connect tools,\n",
    "catalogues and platforms together so they can share information about data and technology (called metadata).\n",
    "\n",
    "This lab will guide you through using Egeria to manage the lifecycle of Egeria Digital Services."
   ]
  },
  {
   "cell_type": "markdown",
   "metadata": {},
   "source": [
    "## The scenario\n",
    "\n",
    "Cocco Pharmacutical Corporate Governance wish to ensure that the new personalised services in planning can be \n",
    "shown to meet local regulatory frameworks such as GDPR and HIPPA. Including meeting any regulatory frameworks \n",
    "relating to security breaches relating to compromised personal data.\n",
    "\n",
    "Erin Overview has be tasked with an investigation into integrating Egeria's Digital Service Capabilities into\n",
    "the Software Development Lifecyce for the new personalised services in planning.\n",
    "\n",
    "![Erin Overview](https://raw.githubusercontent.com/odpi/data-governance/master/docs/coco-pharmaceuticals/personas/erin-overview.png)\n",
    "\n",
    "In this hands-on lab Erin is going create and manage an Egeria Digital Service from concept through the different stages of \n",
    "development, test, on-boarding, deployment through to dealing with a security incident. \n",
    "\n",
    "As Coco Pharmacuticals are planning a new digital service that will allow customers to purchase medicines tailored to their specific needs, the stakeholders agreed that this was seen as an opportunity to trial the Egeria Digital Service capabilities.\n",
    "\n",
    "The first step is to check our environment is up and running using the following command.\n",
    "As the lifecycle of a Digital Service will require data to be accessed by all the different departments we will utilize the full Lab Environment.\n",
    "\n",
    "In the [Egeria Server Configuration](../egeria-server-config.ipynb) lab, Gary configured servers for the Open Metadata and Governance (OMAG) Server Platforms shown in Figure 1:\n",
    "\n",
    "![Figure 1](../images/coco-pharmaceuticals-systems-omag-server-platforms.png)\n",
    "> **Figure 1:** Coco Pharmaceuticals' OMAG Server Platforms"
   ]
  },
  {
   "cell_type": "code",
   "execution_count": 6,
   "metadata": {},
   "outputs": [
    {
     "name": "stdout",
     "output_type": "stream",
     "text": [
      "\n",
      "Checking OMAG Server Platform availability...\n",
      "Exception: HTTPConnectionPool(host='localhost', port=8080): Max retries exceeded with url: /open-metadata/platform-services/users/garygeeke/server-platform/origin (Caused by NewConnectionError('<urllib3.connection.HTTPConnection object at 0x7f5cec0ffc50>: Failed to establish a new connection: [Errno 111] Connection refused',))\n",
      "    Core Platform is down - start it before proceeding\n",
      "Exception: HTTPConnectionPool(host='localhost', port=8081): Max retries exceeded with url: /open-metadata/platform-services/users/garygeeke/server-platform/origin (Caused by NewConnectionError('<urllib3.connection.HTTPConnection object at 0x7f5cdddfd8d0>: Failed to establish a new connection: [Errno 111] Connection refused',))\n",
      "    Data Lake Platform is down - start it before proceeding\n",
      "Exception: HTTPConnectionPool(host='localhost', port=8082): Max retries exceeded with url: /open-metadata/platform-services/users/garygeeke/server-platform/origin (Caused by NewConnectionError('<urllib3.connection.HTTPConnection object at 0x7f5cddd8f438>: Failed to establish a new connection: [Errno 111] Connection refused',))\n",
      "    Dev Platform is down - start it before proceeding\n",
      "Done.\n",
      " \n"
     ]
    }
   ],
   "source": [
    "%run ../common/environment-check.ipynb"
   ]
  },
  {
   "cell_type": "markdown",
   "metadata": {},
   "source": [
    "If the platform is not running, you will see a lot of red text. There are a number of choices on how to start it. Follow this link to set up and run the platform.\n",
    "\n",
    "Once the platform is running you are ready to proceed."
   ]
  },
  {
   "cell_type": "code",
   "execution_count": null,
   "metadata": {},
   "outputs": [],
   "source": []
  },
  {
   "cell_type": "code",
   "execution_count": null,
   "metadata": {},
   "outputs": [],
   "source": []
  }
 ],
 "metadata": {
  "kernelspec": {
   "display_name": "Python 3",
   "language": "python",
   "name": "python3"
  },
  "language_info": {
   "codemirror_mode": {
    "name": "ipython",
    "version": 3
   },
   "file_extension": ".py",
   "mimetype": "text/x-python",
   "name": "python",
   "nbconvert_exporter": "python",
   "pygments_lexer": "ipython3",
   "version": "3.6.8"
  }
 },
 "nbformat": 4,
 "nbformat_minor": 4
}
