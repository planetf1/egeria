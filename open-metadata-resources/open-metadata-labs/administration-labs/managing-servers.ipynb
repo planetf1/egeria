{
 "cells": [
  {
   "cell_type": "markdown",
   "metadata": {},
   "source": [
    "![Egeria Logo](https://raw.githubusercontent.com/odpi/egeria/master/assets/img/ODPi_Egeria_Logo_color.png)\n",
    "\n",
    "### ODPi Egeria Hands-On Lab\n",
    "# Welcome to the Managing Servers Lab"
   ]
  },
  {
   "cell_type": "markdown",
   "metadata": {},
   "source": [
    "## Introduction\n",
    "\n",
    "ODPi Egeria is an open source project that provides open standards and implementation libraries to connect tools,\n",
    "catalogues and platforms together so they can share information about data and technology (called metadata).\n",
    "\n",
    "The ODPi Egeria Open Metadata and Governance (OMAG) Server Platform provides APIs for starting and stopping servers on a specific OMAG Server Platform.  This hands-on lab explains how this is done."
   ]
  },
  {
   "cell_type": "markdown",
   "metadata": {},
   "source": [
    "## The scenario\n",
    "\n",
    "Gary Geeke is the IT Infrastructure leader at Coco Pharmaceuticals.  He has set up a number of OMAG Server Platforms and has validated that they are operating correctly.\n",
    "\n",
    "![Gary Geeke](https://raw.githubusercontent.com/odpi/data-governance/master/docs/coco-pharmaceuticals/personas/gary-geeke.png)\n",
    "\n",
    "In this hands-on lab Gary is starting and stopping servers on Coco Pharmaceutical's OMAG Server Platform.  Gary's userId is `garygeeke`."
   ]
  },
  {
   "cell_type": "code",
   "execution_count": null,
   "metadata": {},
   "outputs": [],
   "source": [
    "import requests\n",
    "\n",
    "adminUserId     = \"garygeeke\""
   ]
  },
  {
   "cell_type": "markdown",
   "metadata": {},
   "source": [
    "In the **Egeria Server Configuration (../egeria-server-config.ipynb)** lab, Gary configured servers for the OMAG Server Platforms shown in Figure 1:\n",
    "\n",
    "![Figure 1](../images/coco-pharmaceuticals-systems-omag-server-platforms.png)\n",
    "> **Figure 1:** Coco Pharmaceuticals' OMAG Server Platforms\n",
    "\n",
    "Below are the host name and port number where the core, data lake and development platforms will run. "
   ]
  },
  {
   "cell_type": "code",
   "execution_count": null,
   "metadata": {},
   "outputs": [],
   "source": [
    "import os\n",
    "\n",
    "corePlatformURL     = os.environ.get('corePlatformURL','http://localhost:8080') \n",
    "dataLakePlatformURL = os.environ.get('dataLakePlatformURL','http://localhost:8081') \n",
    "devPlatformURL      = os.environ.get('devPlatformURL','http://localhost:8082')"
   ]
  },
  {
   "cell_type": "markdown",
   "metadata": {},
   "source": [
    "The commands to start and stop servers are part of the OMAG Server Platform's Operational Services which is a sub-component of the Administration Services.\n",
    "\n",
    "The REST API calls all begin with the OMAG Server Platform URL followed by the following URL fragment"
   ]
  },
  {
   "cell_type": "code",
   "execution_count": null,
   "metadata": {},
   "outputs": [],
   "source": [
    "operationalServicesURLcore = \"/open-metadata/admin-services/users/\" + adminUserId"
   ]
  },
  {
   "cell_type": "markdown",
   "metadata": {},
   "source": [
    "## Exercise 1 - Starting a server on an OMAG Server Platform\n",
    "\n",
    "A server is started by creating an instance of the server on the platform.  The command below starts `cocoMDS1` on the Data Lake OMAG Server Platform."
   ]
  },
  {
   "cell_type": "code",
   "execution_count": null,
   "metadata": {},
   "outputs": [],
   "source": [
    "import pprint\n",
    "import json\n",
    "\n",
    "serverName = \"cocoMDS1\"\n",
    "platformURLroot = dataLakePlatformURL\n",
    "\n",
    "print (\" \")\n",
    "print (\"Starting server \" + serverName + \" ...\")\n",
    "url = platformURLroot + operationalServicesURLcore + '/servers/' + serverName + \"/instance\"\n",
    "print (\"POST \" + url)\n",
    "\n",
    "response = requests.post(url)\n",
    "\n",
    "prettyResponse = json.dumps(response.json(), indent=4)\n",
    "print (\"Response: \")\n",
    "print (prettyResponse)\n",
    "print (\" \")"
   ]
  },
  {
   "cell_type": "markdown",
   "metadata": {},
   "source": [
    "----\n",
    "The result shows all of the services that have been activated in the server.\n",
    "\n",
    "If you check the command window where the OMAG Server Platform is running, you can see the console messages that record the initialization of the services requested in cocoMDS1’s configuration document.\n",
    "\n",
    "Running this command again will restart the server.\n",
    "\n",
    "----"
   ]
  },
  {
   "cell_type": "markdown",
   "metadata": {},
   "source": [
    "## Exercise 2 - Querying the configuration of a running server\n",
    "\n",
    "As a reminder, the call to retrieve the configuration for a particular server is as follows:"
   ]
  },
  {
   "cell_type": "code",
   "execution_count": null,
   "metadata": {},
   "outputs": [],
   "source": [
    "\n",
    "serverName = \"cocoMDS2\"\n",
    "platformURLroot = corePlatformURL\n",
    "\n",
    "print (\" \")\n",
    "print (\"Retrieving stored configuration document for \" + serverName + \" ...\")\n",
    "url = platformURLroot + operationalServicesURLcore + '/servers/' + serverName + '/configuration'\n",
    "print (\"GET \" + url)\n",
    "\n",
    "response = requests.get(url)\n",
    "\n",
    "prettyResponse = json.dumps(response.json(), indent=4)\n",
    "print (\"Response: \")\n",
    "print (prettyResponse)\n",
    "print (\" \")"
   ]
  },
  {
   "cell_type": "markdown",
   "metadata": {},
   "source": [
    "The configuration includes an audit trail that gives a high level overview of how the server has been configured."
   ]
  },
  {
   "cell_type": "code",
   "execution_count": null,
   "metadata": {},
   "outputs": [],
   "source": [
    "\n",
    "serverConfig=response.json().get('omagserverConfig')\n",
    "auditTrail=serverConfig.get('auditTrail')\n",
    "\n",
    "print (\" \")\n",
    "print (\"Audit Trail: \")\n",
    "\n",
    "for x in range(len(auditTrail)): \n",
    "    print (auditTrail[x])"
   ]
  },
  {
   "cell_type": "markdown",
   "metadata": {},
   "source": [
    "Alternatively you can see the complete contents of the configuration document"
   ]
  },
  {
   "cell_type": "code",
   "execution_count": null,
   "metadata": {},
   "outputs": [],
   "source": [
    "print (\" \")\n",
    "\n",
    "prettyResponse = json.dumps(response.json(), indent=4)\n",
    "print (\"Configuration for server: \" + serverName)\n",
    "print (prettyResponse)\n",
    "print (\" \")"
   ]
  },
  {
   "cell_type": "markdown",
   "metadata": {},
   "source": [
    "----\n",
    "However it is possible that the configuration document has been changed since the server was started.  This new configuration will not be picked up until the server restarts.\n",
    "\n",
    "The following call retrieves the configuration that a running server is actually using so you can verify it is using the latest configuration.  Comparing the audit trail at the end of the running configuration with that of the configuration document is a\n",
    "quick way to check if it has been changed."
   ]
  },
  {
   "cell_type": "code",
   "execution_count": null,
   "metadata": {},
   "outputs": [],
   "source": [
    "print (\" \")\n",
    "print (\"Retrieving running configuration document for \" + serverName + \" ...\")\n",
    "url = platformURLroot + operationalServicesURLcore + '/servers/' + serverName + '/instance/configuration'\n",
    "print (\"GET \" + url)\n",
    "\n",
    "response = requests.get(url)\n",
    "\n",
    "prettyResponse = json.dumps(response.json(), indent=4)\n",
    "print (\"Response: \")\n",
    "print (prettyResponse)\n",
    "print (\" \")"
   ]
  },
  {
   "cell_type": "markdown",
   "metadata": {},
   "source": [
    "## Exercise 3 - shutting down a server\n",
    "\n",
    "The command to shutdown a server is as follows:"
   ]
  },
  {
   "cell_type": "code",
   "execution_count": null,
   "metadata": {},
   "outputs": [],
   "source": [
    "serverName = \"cocoMDS1\"\n",
    "platformURLroot = dataLakePlatformURL\n",
    "\n",
    "print (\" \")\n",
    "print (\"Stopping server \" + serverName + \" ...\")\n",
    "url = platformURLroot + operationalServicesURLcore + '/servers/' + serverName + \"/instance\"\n",
    "print (\"DELETE \" + url)\n",
    "\n",
    "response = requests.delete(url)\n",
    "\n",
    "prettyResponse = json.dumps(response.json(), indent=4)\n",
    "print (\"Response: \")\n",
    "print (prettyResponse)\n",
    "print (\" \")"
   ]
  },
  {
   "cell_type": "markdown",
   "metadata": {},
   "source": [
    "----\n",
    "The command above is a temoprary shutdown.\n",
    "\n",
    "The following command is more permanent and should only be used if the server is not connecting to its\n",
    "cohorts again.  Specifically, it shuts the server, unregisters it from the cohort and deleted the configuration document.\n",
    "\n",
    "**Use this command with care :).**"
   ]
  },
  {
   "cell_type": "code",
   "execution_count": null,
   "metadata": {},
   "outputs": [],
   "source": [
    "serverName = \"myOldServer\"\n",
    "platformURLroot = dataLakePlatformURL\n",
    "\n",
    "print (\" \")\n",
    "print (\"Stopping server \" + serverName + \" ...\")\n",
    "url = platformURLroot + operationalServicesURLcore + '/servers/' + serverName\n",
    "print (\"DELETE \" + url)\n",
    "\n",
    "response = requests.delete(url)\n",
    "\n",
    "prettyResponse = json.dumps(response.json(), indent=4)\n",
    "print (\"Response: \")\n",
    "print (prettyResponse)\n",
    "print (\" \")"
   ]
  },
  {
   "cell_type": "markdown",
   "metadata": {},
   "source": [
    "----"
   ]
  }
 ],
 "metadata": {
  "kernelspec": {
   "display_name": "Python 3",
   "language": "python",
   "name": "python3"
  },
  "language_info": {
   "codemirror_mode": {
    "name": "ipython",
    "version": 3
   },
   "file_extension": ".py",
   "mimetype": "text/x-python",
   "name": "python",
   "nbconvert_exporter": "python",
   "pygments_lexer": "ipython3",
   "version": "3.7.4"
  }
 },
 "nbformat": 4,
 "nbformat_minor": 4
}
