{
 "cells": [
  {
   "cell_type": "markdown",
   "metadata": {},
   "source": [
    "![Egeria Logo](https://raw.githubusercontent.com/odpi/egeria/master/assets/img/ODPi_Egeria_Logo_color.png)\n",
    "\n",
    "### ODPi Egeria Demo\n",
    "# Welcome to the ODPi Egeria Overview\n",
    "\n",
    "## Introduction\n",
    "\n",
    "ODPi Egeria is an open source project that provides open standards and implementation libraries to connect tools, catalogs and platforms together so they can share information about data and technology.  This information is called metadata.\n",
    "\n",
    "This lab notebook provides an overview demo of some of the Egeria features used by [Coco Pharmaceuticals](https://opengovernance.odpi.org/coco-pharmaceuticals/).\n",
    "\n",
    "![Figure 1](../images/coco-pharmaceuticals-systems-omag-server-platforms.png)\n",
    "> **Figure 1:** Coco Pharmaceuticals' OMAG Server Platforms"
   ]
  },
  {
   "cell_type": "code",
   "execution_count": null,
   "metadata": {},
   "outputs": [],
   "source": [
    "%run ../common/environment-check.ipynb"
   ]
  },
  {
   "cell_type": "markdown",
   "metadata": {},
   "source": [
    "The platform contains the implementation of each of the Open Metadata and Governance (OMAG) services."
   ]
  },
  {
   "cell_type": "code",
   "execution_count": null,
   "metadata": {},
   "outputs": [],
   "source": [
    "print (\" \")\n",
    "getServerPlatformServices(devPlatformName, devPlatformURL)"
   ]
  },
  {
   "cell_type": "markdown",
   "metadata": {},
   "source": [
    "Each server, when it starts, initializes the services requested in the server's configuration document."
   ]
  },
  {
   "cell_type": "code",
   "execution_count": null,
   "metadata": {},
   "outputs": [],
   "source": [
    "print (\" \")\n",
    "getServerServices(\"cocoMDS1\", \"Data Lake Platform\", dataLakePlatformURL)\n",
    "print (\" \")\n",
    "getServerServices(\"cocoMDS4\", \"Data Lake Platform\", dataLakePlatformURL)\n"
   ]
  },
  {
   "cell_type": "markdown",
   "metadata": {},
   "source": [
    "The servers connect to open metadata repository cohorts to share metadata."
   ]
  },
  {
   "cell_type": "markdown",
   "metadata": {},
   "source": [
    "\n",
    "![Cohorts](../images/coco-pharmaceuticals-systems-metadata-servers.png)\n"
   ]
  },
  {
   "cell_type": "code",
   "execution_count": null,
   "metadata": {},
   "outputs": [],
   "source": [
    "serverName         = cocoMDS2Name\n",
    "serverPlatformURL  = cocoMDS2PlatformURL\n",
    "serverPlatformName = cocoMDS2PlatformName\n",
    "cohortName         = \"cocoCohort\"\n",
    "\n",
    "print(\" \")\n",
    "printLocalRegistration(serverName, serverPlatformName, serverPlatformURL)\n",
    "print(\" \")\n",
    "printServerCohortsStatus(serverName, serverPlatformName, serverPlatformURL)\n",
    "print(\" \")\n",
    "printLocalRegistrationForCohort(serverName, cohortName, serverPlatformName, serverPlatformURL)\n",
    "print(\" \")\n",
    "printRemoteRegistrations(serverName, cohortName, serverPlatformName, serverPlatformURL)\n",
    "print(\" \")\n",
    "\n",
    "print(\" \")\n",
    "printServerCohorts(serverName, serverPlatformName, serverPlatformURL)"
   ]
  }
 ],
 "metadata": {
  "kernelspec": {
   "display_name": "Python 3",
   "language": "python",
   "name": "python3"
  },
  "language_info": {
   "codemirror_mode": {
    "name": "ipython",
    "version": 3
   },
   "file_extension": ".py",
   "mimetype": "text/x-python",
   "name": "python",
   "nbconvert_exporter": "python",
   "pygments_lexer": "ipython3",
   "version": "3.8.2"
  }
 },
 "nbformat": 4,
 "nbformat_minor": 4
}
