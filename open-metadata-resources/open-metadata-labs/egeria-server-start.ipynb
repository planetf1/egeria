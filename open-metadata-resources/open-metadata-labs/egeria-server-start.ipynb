{
 "cells": [
  {
   "cell_type": "markdown",
   "metadata": {},
   "source": [
    "![Egeria Logo](https://raw.githubusercontent.com/odpi/egeria/master/assets/img/ODPi_Egeria_Logo_color.png)\n",
    "\n",
    "### ODPi Egeria Hands-On Lab\n",
    "# Welcome to Starting the Egeria Servers Lab"
   ]
  },
  {
   "cell_type": "markdown",
   "metadata": {},
   "source": [
    "## Introduction\n",
    "\n",
    "ODPi Egeria is an open source project that provides open standards and implementation libraries to connect tools, catalogs and platforms together so they can share information (called metadata) about data and the technology that supports it.\n",
    "\n",
    "The ODPi Egeria platform services provide APIs for starting and stopping servers on a specific OMAG Server Platform. \n",
    "\n",
    "This hands-on lab explains how this is done."
   ]
  },
  {
   "cell_type": "markdown",
   "metadata": {},
   "source": [
    "## The scenario\n",
    "\n",
    "<img src=\"https://raw.githubusercontent.com/odpi/data-governance/master/docs/coco-pharmaceuticals/personas/gary-geeke.png\" style=\"float:left\">\n",
    "\n",
    "Gary Geeke is the IT Infrastructure leader at Coco Pharmaceuticals.  In the [Configuring Egeria Servers Lab](./egeria-server-config.ipynb) he has set up a number of OMAG Server Platforms and has validated that they are operating correctly.\n",
    "\n",
    "In this hands-on lab Gary is starting up the servers on Coco Pharmaceutical's OMAG Server Platform.  Gary's userId is `garygeeke`."
   ]
  },
  {
   "cell_type": "code",
   "execution_count": 1,
   "metadata": {},
   "outputs": [],
   "source": [
    "adminUserId     = \"garygeeke\""
   ]
  },
  {
   "cell_type": "markdown",
   "metadata": {},
   "source": [
    "In the [Configuring Egeria Servers Lab](./egeria-server-config.ipynb), Gary configured servers for the Open Metadata and Governance (OMAG) Server Platforms shown in Figure 1:\n",
    "\n",
    "![Figure 1](images/coco-pharmaceuticals-systems-omag-server-platforms.png)\n",
    "> **Figure 1:** Coco Pharmaceuticals' OMAG Server Platforms\n",
    "\n",
    "Below are the host name and port number for the core, data lake and development platforms. "
   ]
  },
  {
   "cell_type": "code",
   "execution_count": 2,
   "metadata": {},
   "outputs": [],
   "source": [
    "import os\n",
    "\n",
    "corePlatformURL     = os.environ.get('corePlatformURL','http://localhost:8080') \n",
    "dataLakePlatformURL = os.environ.get('dataLakePlatformURL','http://localhost:8081') \n",
    "devPlatformURL      = os.environ.get('devPlatformURL','http://localhost:8082')"
   ]
  },
  {
   "cell_type": "markdown",
   "metadata": {},
   "source": [
    "The commands to start the Egeria servers are part of the OMAG Server Platform's Operational Services which is a sub-component of the platform's Administration Services.\n",
    "\n",
    "The REST API calls all begin with the platform URL followed by the following URL fragment"
   ]
  },
  {
   "cell_type": "code",
   "execution_count": 3,
   "metadata": {},
   "outputs": [],
   "source": [
    "operationalServicesURLcore = \"/open-metadata/admin-services/users/\" + adminUserId"
   ]
  },
  {
   "cell_type": "markdown",
   "metadata": {},
   "source": [
    "----\n",
    "The next block of code starts all of the servers for the Core, Data Lake and Development OMAG Server Platforms."
   ]
  },
  {
   "cell_type": "code",
   "execution_count": 4,
   "metadata": {},
   "outputs": [
    {
     "name": "stdout",
     "output_type": "stream",
     "text": [
      "\n",
      "Starting servers for OMAG Server Platform http://localhost:8080 ...\n",
      "   ... starting server cocoMDS2 ...\n",
      "   ...... (POST http://localhost:8080/open-metadata/admin-services/users/garygeeke/servers/cocoMDS2/instance )\n",
      "   ...... Response:\n",
      "          {\n",
      "              \"class\": \"SuccessMessageResponse\",\n",
      "              \"relatedHTTPCode\": 200,\n",
      "              \"successMessage\": \"Mon Dec 09 08:20:57 GMT 2019 cocoMDS2 is running the following services: [Open Metadata Repository Services (OMRS), Connected Asset Services, Asset Catalog OMAS, Asset Consumer OMAS, Asset Owner OMAS, Community Profile OMAS, Glossary View OMAS, Subject Area OMAS, Governance Program OMAS, Data Privacy OMAS, Security Officer OMAS, Asset Lineage OMAS, IT Infrastructure OMAS, Project Management OMAS]\"\n",
      "          }\n",
      "   ... starting server cocoMDS3 ...\n",
      "   ...... (POST http://localhost:8080/open-metadata/admin-services/users/garygeeke/servers/cocoMDS3/instance )\n",
      "   ...... Response:\n",
      "          {\n",
      "              \"class\": \"SuccessMessageResponse\",\n",
      "              \"relatedHTTPCode\": 200,\n",
      "              \"successMessage\": \"Mon Dec 09 08:20:58 GMT 2019 cocoMDS3 is running the following services: [Open Metadata Repository Services (OMRS), Connected Asset Services, Asset Catalog OMAS, Asset Consumer OMAS, Asset Owner OMAS, Community Profile OMAS, Glossary View OMAS, Data Science OMAS, Subject Area OMAS, Discovery Engine OMAS, Stewardship Action OMAS, Project Management OMAS]\"\n",
      "          }\n",
      "   ... starting server cocoMDS5 ...\n",
      "   ...... (POST http://localhost:8080/open-metadata/admin-services/users/garygeeke/servers/cocoMDS5/instance )\n",
      "   ...... Response:\n",
      "          {\n",
      "              \"class\": \"SuccessMessageResponse\",\n",
      "              \"relatedHTTPCode\": 400,\n",
      "              \"exceptionClassName\": \"org.odpi.openmetadata.adminservices.ffdc.exception.OMAGConfigurationErrorException\",\n",
      "              \"exceptionErrorMessage\": \"OMAG-ADMIN-400-018 OMAG server cocoMDS5 has been called with a configuration document that has no services configured\",\n",
      "              \"exceptionSystemAction\": \"The requested server provides no function.\",\n",
      "              \"exceptionUserAction\": \"Use the administration services to add configuration for OMAG services to the server's configuration document.\"\n",
      "          }\n",
      "   ... starting server cocoMDS6 ...\n",
      "   ...... (POST http://localhost:8080/open-metadata/admin-services/users/garygeeke/servers/cocoMDS6/instance )\n",
      "   ...... Response:\n",
      "          {\n",
      "              \"class\": \"SuccessMessageResponse\",\n",
      "              \"relatedHTTPCode\": 400,\n",
      "              \"exceptionClassName\": \"org.odpi.openmetadata.adminservices.ffdc.exception.OMAGConfigurationErrorException\",\n",
      "              \"exceptionErrorMessage\": \"OMAG-ADMIN-400-018 OMAG server cocoMDS6 has been called with a configuration document that has no services configured\",\n",
      "              \"exceptionSystemAction\": \"The requested server provides no function.\",\n",
      "              \"exceptionUserAction\": \"Use the administration services to add configuration for OMAG services to the server's configuration document.\"\n",
      "          }\n",
      "\n",
      "Starting servers for OMAG Server Platform http://localhost:8081 ...\n",
      "   ... starting server cocoMDS1 ...\n",
      "   ...... (POST http://localhost:8081/open-metadata/admin-services/users/garygeeke/servers/cocoMDS1/instance )\n",
      "   ...... Response:\n",
      "          {\n",
      "              \"class\": \"SuccessMessageResponse\",\n",
      "              \"relatedHTTPCode\": 200,\n",
      "              \"successMessage\": \"Mon Dec 09 08:21:05 GMT 2019 cocoMDS1 is running the following services: [Open Metadata Repository Services (OMRS), Connected Asset Services, Asset Catalog OMAS, Asset Consumer OMAS, Asset Owner OMAS, Community Profile OMAS, Glossary View OMAS, Discovery Engine OMAS, Stewardship Action OMAS, Data Engine OMAS, Data Platform OMAS, Governance Engine OMAS, Information View OMAS]\"\n",
      "          }\n",
      "   ... starting server cocoMDS4 ...\n",
      "   ...... (POST http://localhost:8081/open-metadata/admin-services/users/garygeeke/servers/cocoMDS4/instance )\n",
      "   ...... Response:\n",
      "          {\n",
      "              \"class\": \"SuccessMessageResponse\",\n",
      "              \"relatedHTTPCode\": 200,\n",
      "              \"successMessage\": \"Mon Dec 09 08:21:05 GMT 2019 cocoMDS4 is running the following services: [Open Metadata Repository Services (OMRS), Connected Asset Services, Asset Catalog OMAS, Asset Consumer OMAS, Community Profile OMAS, Glossary View OMAS, Data Science OMAS, Subject Area OMAS]\"\n",
      "          }\n",
      "\n",
      "Starting servers for OMAG Server Platform http://localhost:8082 ...\n",
      "   ... starting server cocoMDSx ...\n",
      "   ...... (POST http://localhost:8082/open-metadata/admin-services/users/garygeeke/servers/cocoMDSx/instance )\n",
      "   ...... Response:\n",
      "          {\n",
      "              \"class\": \"SuccessMessageResponse\",\n",
      "              \"relatedHTTPCode\": 400,\n",
      "              \"exceptionClassName\": \"org.odpi.openmetadata.adminservices.ffdc.exception.OMAGConfigurationErrorException\",\n",
      "              \"exceptionErrorMessage\": \"OMAG-ADMIN-400-018 OMAG server cocoMDSx has been called with a configuration document that has no services configured\",\n",
      "              \"exceptionSystemAction\": \"The requested server provides no function.\",\n",
      "              \"exceptionUserAction\": \"Use the administration services to add configuration for OMAG services to the server's configuration document.\"\n",
      "          }\n",
      "\n",
      "Done.\n"
     ]
    }
   ],
   "source": [
    "import requests\n",
    "import json\n",
    "import textwrap\n",
    "\n",
    "def postAndPrintResult(url):\n",
    "    print(\"   ...... (POST\", url, \")\")\n",
    "    response = requests.post(url)\n",
    "    print(\"   ...... Response:\")\n",
    "    print(textwrap.indent(json.dumps(response.json(), indent=4), '          '))\n",
    "\n",
    "def startServer(serverName, platformURL):\n",
    "    print(\"   ... starting server\", serverName, \"...\")\n",
    "    url = platformURL + operationalServicesURLcore + '/servers/' + serverName + '/instance'\n",
    "    postAndPrintResult(url)\n",
    "\n",
    "print (\"\\nStarting servers for OMAG Server Platform \" + corePlatformURL + \" ...\")\n",
    "\n",
    "startServer(\"cocoMDS2\", corePlatformURL)\n",
    "startServer(\"cocoMDS3\", corePlatformURL)\n",
    "startServer(\"cocoMDS5\", corePlatformURL)\n",
    "startServer(\"cocoMDS6\", corePlatformURL)\n",
    "\n",
    "print (\"\\nStarting servers for OMAG Server Platform \" + dataLakePlatformURL + \" ...\")\n",
    "\n",
    "startServer(\"cocoMDS1\", dataLakePlatformURL)\n",
    "startServer(\"cocoMDS4\", dataLakePlatformURL)\n",
    "\n",
    "print (\"\\nStarting servers for OMAG Server Platform \" + devPlatformURL + \" ...\")\n",
    "\n",
    "startServer(\"cocoMDSx\", devPlatformURL)\n",
    "\n",
    "print (\"\\nDone.\")"
   ]
  },
  {
   "cell_type": "markdown",
   "metadata": {},
   "source": [
    "----"
   ]
  },
  {
   "cell_type": "code",
   "execution_count": null,
   "metadata": {},
   "outputs": [],
   "source": []
  },
  {
   "cell_type": "code",
   "execution_count": null,
   "metadata": {},
   "outputs": [],
   "source": []
  }
 ],
 "metadata": {
  "kernelspec": {
   "display_name": "Python 3",
   "language": "python",
   "name": "python3"
  },
  "language_info": {
   "codemirror_mode": {
    "name": "ipython",
    "version": 3
   },
   "file_extension": ".py",
   "mimetype": "text/x-python",
   "name": "python",
   "nbconvert_exporter": "python",
   "pygments_lexer": "ipython3",
   "version": "3.7.3"
  }
 },
 "nbformat": 4,
 "nbformat_minor": 4
}
