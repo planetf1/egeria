{
 "cells": [
  {
   "cell_type": "markdown",
   "metadata": {},
   "source": [
    "![Egeria Logo](https://raw.githubusercontent.com/odpi/egeria/master/assets/img/ODPi_Egeria_Logo_color.png)\n",
    "\n",
    "### ODPi Egeria Hands-On Lab\n",
    "# Welcome to the Building a Data Catalog Lab"
   ]
  },
  {
   "cell_type": "markdown",
   "metadata": {},
   "source": [
    "## Introduction\n",
    "\n",
    "ODPi Egeria is an open source project that provides open standards and implementation libraries to connect tools, catalogues and platforms together so they can share information about data and technology (called metadata).\n",
    "\n",
    "In this hands-on lab you will get a chance to work with three ODPi Egeria metadata servers to build a distributed catalog of data assets and then experiment with attaching feedback (comments) to the catalog entries from different servers."
   ]
  },
  {
   "cell_type": "markdown",
   "metadata": {},
   "source": [
    "## The Scenario\n",
    "\n",
    "The ODPi Egeria team use the personas from the fictitious company called Coco Pharmaceuticals.  (See https://opengovernance.odpi.org/coco-pharmaceuticals/ for more information).\n",
    "\n",
    "The two main character engaged in this scenario are Peter Profile and Erin Overview.\n",
    "\n",
    "![Peter and Erin](../images/peter-and-erin.png)"
   ]
  },
  {
   "cell_type": "code",
   "execution_count": 44,
   "metadata": {},
   "outputs": [],
   "source": [
    "petersUserId = \"peterprofile\"\n",
    "erinsUserId  = \"erinoverview\""
   ]
  },
  {
   "cell_type": "markdown",
   "metadata": {},
   "source": [
    "Peter and Erin are cataloguing new data sets that have been received from a hospital.  These data sets are part of a clinical trial that the hospital is participating in."
   ]
  },
  {
   "cell_type": "markdown",
   "metadata": {},
   "source": [
    "## Setting up\n",
    "\n",
    "Coco Pharmaceuticals make widespread use of ODPi Egeria for tracking and managing their data and related assets.\n",
    "Figure 1 below shows their metadata servers and the platforms that are hosting them.\n",
    "\n",
    "![Figure 1](../images/coco-pharmaceuticals-systems-omag-server-platforms.png)\n",
    "> **Figure 1:** Coco Pharmaceuticals' OMAG Server Platforms"
   ]
  },
  {
   "cell_type": "code",
   "execution_count": 45,
   "metadata": {},
   "outputs": [],
   "source": [
    "import os\n",
    "\n",
    "corePlatformURL     = os.environ.get('corePlatformURL','http://localhost:8080') \n",
    "dataLakePlatformURL = os.environ.get('dataLakePlatformURL','http://localhost:8081') \n",
    "devPlatformURL      = os.environ.get('devPlatformURL','http://localhost:8082')"
   ]
  },
  {
   "cell_type": "markdown",
   "metadata": {},
   "source": [
    "Peter is using the data lake operations metadata server called `cocoMDS1`. This server is hosted on the Data Lake OMAG Server Platform."
   ]
  },
  {
   "cell_type": "code",
   "execution_count": 46,
   "metadata": {},
   "outputs": [],
   "source": [
    "server1            = \"cocoMDS1\"\n",
    "server1PlatformURL = dataLakePlatformURL"
   ]
  },
  {
   "cell_type": "markdown",
   "metadata": {},
   "source": [
    "The following request checks that this server is running."
   ]
  },
  {
   "cell_type": "code",
   "execution_count": 51,
   "metadata": {},
   "outputs": [
    {
     "name": "stdout",
     "output_type": "stream",
     "text": [
      " \n",
      "GET http://localhost:8081/open-metadata/platform-services/users/garygeeke/server-platform/servers/cocoMDS1/status\n",
      " \n",
      "Returns:\n",
      "{\n",
      "    \"relatedHTTPCode\": 200,\n",
      "    \"serverName\": \"cocoMDS1\",\n",
      "    \"serverStartTime\": \"2019-09-17T16:01:00.105+0000\",\n",
      "    \"active\": true\n",
      "}\n",
      " \n",
      "Server cocoMDS1 is active - ready to begin\n"
     ]
    }
   ],
   "source": [
    "import requests\n",
    "import pprint\n",
    "import json\n",
    "\n",
    "adminUserId = \"garygeeke\"\n",
    "\n",
    "isServer1ActiveURL = server1PlatformURL + \"/open-metadata/platform-services/users/\" + adminUserId + \"/server-platform/servers/\" + server1 + \"/status\"\n",
    "\n",
    "print (\" \")\n",
    "print (\"GET \" + isServer1ActiveURL)\n",
    "print (\" \")\n",
    "\n",
    "response = requests.get(isServer1ActiveURL)\n",
    "\n",
    "print (\"Returns:\")\n",
    "prettyResponse = json.dumps(response.json(), indent=4)\n",
    "print (prettyResponse)\n",
    "print (\" \")\n",
    "\n",
    "serverStatus = response.json().get('active')\n",
    "if serverStatus == True:\n",
    "    print(\"Server \" + server1 + \" is active - ready to begin\")\n",
    "else:\n",
    "    print(\"Server \" + server1 + \" is down - start it before proceeding\")\n"
   ]
  },
  {
   "cell_type": "markdown",
   "metadata": {},
   "source": [
    "----\n",
    "If you see `Server cocoMDS1 is active - ready to begin` then the server is running.  If the server is down, follow the instructions in the **Managing Servers** notebook to start the server."
   ]
  },
  {
   "cell_type": "markdown",
   "metadata": {},
   "source": [
    "----\n",
    "## Exercise 1\n",
    "\n",
    "### Adding assets to the catalog\n",
    "\n",
    "In the first exercise, Peter Profile is adding some new data sets (assets) to the catalog. "
   ]
  },
  {
   "cell_type": "markdown",
   "metadata": {},
   "source": [
    "Peter uses the **Asset Owner** Open Metadata Access Service (OMAS) API to manage assets in the catalog.  All of the request for the Asset Owner OMAS begin with the following URL root."
   ]
  },
  {
   "cell_type": "code",
   "execution_count": 52,
   "metadata": {},
   "outputs": [],
   "source": [
    "server1AssetOwnerURL = server1PlatformURL + '/servers/' + server1 + '/open-metadata/access-services/asset-owner/users/' + petersUserId "
   ]
  },
  {
   "cell_type": "markdown",
   "metadata": {},
   "source": [
    "First Peter will query the current list of Clinical Trial Assets from cocoMDS1."
   ]
  },
  {
   "cell_type": "code",
   "execution_count": 56,
   "metadata": {},
   "outputs": [
    {
     "name": "stdout",
     "output_type": "stream",
     "text": [
      " \n",
      "GET http://localhost:8081/servers/cocoMDS1/open-metadata/access-services/asset-owner/users/peterprofile/assets/by-name?startFrom=0&pageSize=50\n",
      "{ Drop Foot }\n",
      " \n",
      "Returns:\n",
      "{\n",
      "    \"class\": \"AssetsResponse\",\n",
      "    \"relatedHTTPCode\": 200,\n",
      "    \"startingFromElement\": 0,\n",
      "    \"assets\": [\n",
      "        {\n",
      "            \"class\": \"Asset\",\n",
      "            \"type\": {\n",
      "                \"class\": \"ElementType\",\n",
      "                \"elementTypeId\": \"2ccb2117-9cee-47ca-8150-9b3a543adcec\",\n",
      "                \"elementTypeName\": \"CSVFile\",\n",
      "                \"elementSuperTypeNames\": [\n",
      "                    \"DataFile\",\n",
      "                    \"DataStore\",\n",
      "                    \"Asset\",\n",
      "                    \"Referenceable\"\n",
      "                ],\n",
      "                \"elementTypeVersion\": 1,\n",
      "                \"elementTypeDescription\": \"A description of a comma separated value (CSV) file\",\n",
      "                \"elementSourceServer\": \"cocoMDS1\",\n",
      "                \"elementOrigin\": \"LOCAL_COHORT\",\n",
      "                \"elementHomeMetadataCollectionId\": \"4e5355ba-564a-4802-ac4f-1b74eb993078\"\n",
      "            },\n",
      "            \"guid\": \"2b2ba48e-5a27-49bf-80c9-ebddc6ede714\",\n",
      "            \"extendedProperties\": {\n",
      "                \"quoteCharacter\": \"\\\"\",\n",
      "                \"delimiterCharacter\": \",\",\n",
      "                \"fileType\": \"csv\"\n",
      "            },\n",
      "            \"qualifiedName\": \"CSVFile:file://secured/research/clinical-trials/drop-foot/DropFootMeasurementsWeek1.csv\",\n",
      "            \"displayName\": \"Week 1: Drop Foot Clinical Trial Measurements\",\n",
      "            \"description\": \"One week's data covering foot angle, hip displacement and mobility measurements.\",\n",
      "            \"owner\": \"peterprofile\",\n",
      "            \"ownerType\": \"USER_ID\",\n",
      "            \"zoneMembership\": [\n",
      "                \"quarantine\"\n",
      "            ],\n",
      "            \"latestChange\": \"Asset created\"\n",
      "        },\n",
      "        {\n",
      "            \"class\": \"Asset\",\n",
      "            \"type\": {\n",
      "                \"class\": \"ElementType\",\n",
      "                \"elementTypeId\": \"2ccb2117-9cee-47ca-8150-9b3a543adcec\",\n",
      "                \"elementTypeName\": \"CSVFile\",\n",
      "                \"elementSuperTypeNames\": [\n",
      "                    \"DataFile\",\n",
      "                    \"DataStore\",\n",
      "                    \"Asset\",\n",
      "                    \"Referenceable\"\n",
      "                ],\n",
      "                \"elementTypeVersion\": 1,\n",
      "                \"elementTypeDescription\": \"A description of a comma separated value (CSV) file\",\n",
      "                \"elementSourceServer\": \"cocoMDS1\",\n",
      "                \"elementOrigin\": \"LOCAL_COHORT\",\n",
      "                \"elementHomeMetadataCollectionId\": \"4e5355ba-564a-4802-ac4f-1b74eb993078\"\n",
      "            },\n",
      "            \"guid\": \"9302139e-86fc-410b-9255-c1e973478525\",\n",
      "            \"extendedProperties\": {\n",
      "                \"quoteCharacter\": \"\\\"\",\n",
      "                \"delimiterCharacter\": \",\",\n",
      "                \"fileType\": \"csv\"\n",
      "            },\n",
      "            \"qualifiedName\": \"CSVFile:file://secured/research/clinical-trials/drop-foot/DropFootMeasurementsWeek1.csv\",\n",
      "            \"displayName\": \"Week 1: Drop Foot Clinical Trial Measurements\",\n",
      "            \"description\": \"One week's data covering foot angle, hip displacement and mobility measurements.\",\n",
      "            \"owner\": \"peterprofile\",\n",
      "            \"ownerType\": \"USER_ID\",\n",
      "            \"zoneMembership\": [\n",
      "                \"quarantine\"\n",
      "            ],\n",
      "            \"latestChange\": \"Asset created\"\n",
      "        }\n",
      "    ]\n",
      "}\n",
      " \n",
      "2 assets found\n"
     ]
    }
   ],
   "source": [
    "\n",
    "server1GetAssetsURL = server1AssetOwnerURL + '/assets/by-name?startFrom=0&pageSize=50'\n",
    "searchString=\"Drop Foot\"\n",
    "\n",
    "print (\" \")\n",
    "print (\"GET \" + server1GetAssetsURL)\n",
    "print (\"{ \" + searchString + \" }\")\n",
    "print (\" \")\n",
    "\n",
    "response=requests.post(server1GetAssetsURL, data=searchString)\n",
    "\n",
    "print (\"Returns:\")\n",
    "prettyResponse = json.dumps(response.json(), indent=4)\n",
    "print (prettyResponse)\n",
    "print (\" \")\n",
    "\n",
    "if response.json().get('assets'):\n",
    "    if len(response.json().get('assets')) == 1:\n",
    "        print (\"1 asset found\")\n",
    "    else:\n",
    "        print (str(len(response.json().get('assets'))) + \" assets found\")\n",
    "else:\n",
    "    print (\"No assets found\")\n"
   ]
  },
  {
   "cell_type": "markdown",
   "metadata": {},
   "source": [
    "----\n",
    "We can see here that no assets are returned as the repository is empty."
   ]
  },
  {
   "cell_type": "markdown",
   "metadata": {},
   "source": [
    "#### Adding weekly clinical trial assets\n"
   ]
  },
  {
   "cell_type": "markdown",
   "metadata": {},
   "source": [
    "Peter is now going to create three weeks of clinical asset data. These are 3 data sets. We'll start with week 1"
   ]
  },
  {
   "cell_type": "code",
   "execution_count": 57,
   "metadata": {},
   "outputs": [
    {
     "name": "stdout",
     "output_type": "stream",
     "text": [
      " \n",
      "POST: http://localhost:8081/servers/cocoMDS1/open-metadata/access-services/asset-owner/users/peterprofile/assets/data-files/csv\n"
     ]
    },
    {
     "data": {
      "text/plain": [
       "{'relatedHTTPCode': 400,\n",
       " 'exceptionClassName': 'org.odpi.openmetadata.frameworks.connectors.ffdc.PropertyServerException',\n",
       " 'exceptionErrorMessage': 'REPOSITORY-HANDLER-400-003 An unexpected error was returned by the property server during addCSVFileToCatalog request for open metadata access service Asset Owner OMAS on server cocoMDS1; message was REPOSITORY-HANDLER-404-009 Multiple FileFolder entities where found with a name of file:///secured: the identifiers of the returned entities are [aacc04e2-a2f1-4504-b49d-457efeee16de, 462058d8-7615-4540-8db4-9b831820ae30]; the calling method is addCSVFileToCatalog, the name parameter isd pathName and the server is cocoMDS1',\n",
       " 'exceptionSystemAction': 'The system is unable to process the request.',\n",
       " 'exceptionUserAction': 'Verify the access rights of the user.'}"
      ]
     },
     "execution_count": 57,
     "metadata": {},
     "output_type": "execute_result"
    }
   ],
   "source": [
    "server1CreateAssetURL = server1AssetOwnerURL + '/assets/data-files/csv'\n",
    "\n",
    "print (\" \")\n",
    "print (\"POST: \" + server1CreateAssetURL)\n",
    "\n",
    "jsonHeader = {'content-type':'application/json'}\n",
    "createAssetBody = {\n",
    "\t\"class\" : \"NewCSVFileAssetRequestBody\",\n",
    "\t\"displayName\" : \"Week 1: Drop Foot Clinical Trial Measurements\",\n",
    "\t\"description\" : \"One week's data covering foot angle, hip displacement and mobility measurements.\",\n",
    "\t\"fullPath\" : \"file://secured/research/clinical-trials/drop-foot/DropFootMeasurementsWeek1.csv\"\n",
    "}\n",
    "\n",
    "response=requests.post(server1CreateAssetURL, json=createAssetBody, headers=jsonHeader)\n",
    "\n",
    "response.json()\n"
   ]
  },
  {
   "cell_type": "markdown",
   "metadata": {},
   "source": [
    "----\n",
    "Notice the response includes a property called “guids”.  This is the list of unique identifiers of the chain of assets for the folder structure and the file itself.  We need to save the file's unique identifier (the last one in the list) in a variable to use later."
   ]
  },
  {
   "cell_type": "code",
   "execution_count": 34,
   "metadata": {},
   "outputs": [
    {
     "name": "stdout",
     "output_type": "stream",
     "text": [
      "Next GUID is ddce41af-5a1f-46b4-855b-66767cb7b521\n",
      "Next GUID is f440c7e7-a0b0-4044-a390-408129f74302\n",
      "Next GUID is f92f2704-15e0-4cca-9e1a-7d930d25644e\n",
      "Next GUID is cb058d70-c88e-40cc-bc76-1a6c5a435704\n",
      "Next GUID is 5cfb1b4f-d7ae-4bd0-8669-85f8787c6ee8\n",
      "Next GUID is ddce41af-5a1f-46b4-855b-66767cb7b521\n",
      "Next GUID is a6a3f1a2-4dbf-46b2-aeb6-ab10f06115fb\n",
      " \n",
      "The guid for asset 1 is: a6a3f1a2-4dbf-46b2-aeb6-ab10f06115fb\n",
      " \n"
     ]
    }
   ],
   "source": [
    "asset1guids=response.json().get('guids')\n",
    "\n",
    "for guid in asset1guids:\n",
    "    asset1guid=guid\n",
    "\n",
    "print (\" \")\n",
    "print (\"The guid for asset 1 is: \" + asset1guid)\n",
    "print (\" \")\n"
   ]
  },
  {
   "cell_type": "markdown",
   "metadata": {},
   "source": [
    "----\n",
    "Now let's take a look again at what assets are in the repository using the same get request we used earlier.\n"
   ]
  },
  {
   "cell_type": "code",
   "execution_count": 36,
   "metadata": {},
   "outputs": [
    {
     "name": "stdout",
     "output_type": "stream",
     "text": [
      " \n",
      "GET http://localhost:8081/servers/cocoMDS1/open-metadata/access-services/asset-owner/users/peterprofile/assets/by-name?startFrom=0&pageSize=50\n",
      "{ file }\n",
      " \n",
      "Returns:\n",
      "{\n",
      "    \"class\": \"AssetsResponse\",\n",
      "    \"relatedHTTPCode\": 200,\n",
      "    \"startingFromElement\": 0,\n",
      "    \"assets\": [\n",
      "        {\n",
      "            \"class\": \"Asset\",\n",
      "            \"type\": {\n",
      "                \"class\": \"ElementType\",\n",
      "                \"elementTypeId\": \"229ed5cc-de31-45fc-beb4-9919fd247398\",\n",
      "                \"elementTypeName\": \"FileFolder\",\n",
      "                \"elementSuperTypeNames\": [\n",
      "                    \"DataStore\",\n",
      "                    \"Asset\",\n",
      "                    \"Referenceable\"\n",
      "                ],\n",
      "                \"elementTypeVersion\": 1,\n",
      "                \"elementTypeDescription\": \"A description of a folder (directory) in a file system.\",\n",
      "                \"elementSourceServer\": \"cocoMDS1\",\n",
      "                \"elementOrigin\": \"LOCAL_COHORT\",\n",
      "                \"elementHomeMetadataCollectionId\": \"4e5355ba-564a-4802-ac4f-1b74eb993078\"\n",
      "            },\n",
      "            \"guid\": \"f92f2704-15e0-4cca-9e1a-7d930d25644e\",\n",
      "            \"qualifiedName\": \"FileFolder:file:///secured\",\n",
      "            \"displayName\": \"secured\",\n",
      "            \"owner\": \"peterprofile\",\n",
      "            \"ownerType\": \"USER_ID\",\n",
      "            \"zoneMembership\": [\n",
      "                \"quarantine\"\n",
      "            ],\n",
      "            \"latestChange\": \"Asset created\"\n",
      "        },\n",
      "        {\n",
      "            \"class\": \"Asset\",\n",
      "            \"type\": {\n",
      "                \"class\": \"ElementType\",\n",
      "                \"elementTypeId\": \"2ccb2117-9cee-47ca-8150-9b3a543adcec\",\n",
      "                \"elementTypeName\": \"CSVFile\",\n",
      "                \"elementSuperTypeNames\": [\n",
      "                    \"DataFile\",\n",
      "                    \"DataStore\",\n",
      "                    \"Asset\",\n",
      "                    \"Referenceable\"\n",
      "                ],\n",
      "                \"elementTypeVersion\": 1,\n",
      "                \"elementTypeDescription\": \"A description of a comma separated value (CSV) file\",\n",
      "                \"elementSourceServer\": \"cocoMDS1\",\n",
      "                \"elementOrigin\": \"LOCAL_COHORT\",\n",
      "                \"elementHomeMetadataCollectionId\": \"4e5355ba-564a-4802-ac4f-1b74eb993078\"\n",
      "            },\n",
      "            \"guid\": \"a6a3f1a2-4dbf-46b2-aeb6-ab10f06115fb\",\n",
      "            \"extendedProperties\": {\n",
      "                \"quoteCharacter\": \"\\\"\",\n",
      "                \"delimiterCharacter\": \",\",\n",
      "                \"fileType\": \"csv\"\n",
      "            },\n",
      "            \"qualifiedName\": \"CSVFile:file://secured/research/clinical-trials/drop-foot/DropFootMeasurementsWeek1.csv\",\n",
      "            \"displayName\": \"Week 1: Drop Foot Clinical Trial Measurements\",\n",
      "            \"description\": \"One week's data covering foot angle, hip displacement and mobility measurements.\",\n",
      "            \"owner\": \"peterprofile\",\n",
      "            \"ownerType\": \"USER_ID\",\n",
      "            \"zoneMembership\": [\n",
      "                \"quarantine\"\n",
      "            ],\n",
      "            \"latestChange\": \"Asset created\"\n",
      "        },\n",
      "        {\n",
      "            \"class\": \"Asset\",\n",
      "            \"type\": {\n",
      "                \"class\": \"ElementType\",\n",
      "                \"elementTypeId\": \"229ed5cc-de31-45fc-beb4-9919fd247398\",\n",
      "                \"elementTypeName\": \"FileFolder\",\n",
      "                \"elementSuperTypeNames\": [\n",
      "                    \"DataStore\",\n",
      "                    \"Asset\",\n",
      "                    \"Referenceable\"\n",
      "                ],\n",
      "                \"elementTypeVersion\": 1,\n",
      "                \"elementTypeDescription\": \"A description of a folder (directory) in a file system.\",\n",
      "                \"elementSourceServer\": \"cocoMDS1\",\n",
      "                \"elementOrigin\": \"LOCAL_COHORT\",\n",
      "                \"elementHomeMetadataCollectionId\": \"4e5355ba-564a-4802-ac4f-1b74eb993078\"\n",
      "            },\n",
      "            \"guid\": \"cb058d70-c88e-40cc-bc76-1a6c5a435704\",\n",
      "            \"qualifiedName\": \"FileFolder:file:///secured/research\",\n",
      "            \"displayName\": \"secured/research\",\n",
      "            \"owner\": \"peterprofile\",\n",
      "            \"ownerType\": \"USER_ID\",\n",
      "            \"zoneMembership\": [\n",
      "                \"quarantine\"\n",
      "            ],\n",
      "            \"latestChange\": \"Asset created\"\n",
      "        },\n",
      "        {\n",
      "            \"class\": \"Asset\",\n",
      "            \"type\": {\n",
      "                \"class\": \"ElementType\",\n",
      "                \"elementTypeId\": \"229ed5cc-de31-45fc-beb4-9919fd247398\",\n",
      "                \"elementTypeName\": \"FileFolder\",\n",
      "                \"elementSuperTypeNames\": [\n",
      "                    \"DataStore\",\n",
      "                    \"Asset\",\n",
      "                    \"Referenceable\"\n",
      "                ],\n",
      "                \"elementTypeVersion\": 1,\n",
      "                \"elementTypeDescription\": \"A description of a folder (directory) in a file system.\",\n",
      "                \"elementSourceServer\": \"cocoMDS1\",\n",
      "                \"elementOrigin\": \"LOCAL_COHORT\",\n",
      "                \"elementHomeMetadataCollectionId\": \"4e5355ba-564a-4802-ac4f-1b74eb993078\"\n",
      "            },\n",
      "            \"guid\": \"ddce41af-5a1f-46b4-855b-66767cb7b521\",\n",
      "            \"qualifiedName\": \"FileFolder:file:///secured/research/clinical-trials/drop-foot\",\n",
      "            \"displayName\": \"secured/research/clinical-trials/drop-foot\",\n",
      "            \"owner\": \"peterprofile\",\n",
      "            \"ownerType\": \"USER_ID\",\n",
      "            \"zoneMembership\": [\n",
      "                \"quarantine\"\n",
      "            ],\n",
      "            \"latestChange\": \"Asset created\"\n",
      "        },\n",
      "        {\n",
      "            \"class\": \"Asset\",\n",
      "            \"type\": {\n",
      "                \"class\": \"ElementType\",\n",
      "                \"elementTypeId\": \"229ed5cc-de31-45fc-beb4-9919fd247398\",\n",
      "                \"elementTypeName\": \"FileFolder\",\n",
      "                \"elementSuperTypeNames\": [\n",
      "                    \"DataStore\",\n",
      "                    \"Asset\",\n",
      "                    \"Referenceable\"\n",
      "                ],\n",
      "                \"elementTypeVersion\": 1,\n",
      "                \"elementTypeDescription\": \"A description of a folder (directory) in a file system.\",\n",
      "                \"elementSourceServer\": \"cocoMDS1\",\n",
      "                \"elementOrigin\": \"LOCAL_COHORT\",\n",
      "                \"elementHomeMetadataCollectionId\": \"4e5355ba-564a-4802-ac4f-1b74eb993078\"\n",
      "            },\n",
      "            \"guid\": \"5cfb1b4f-d7ae-4bd0-8669-85f8787c6ee8\",\n",
      "            \"qualifiedName\": \"FileFolder:file:///secured/research/clinical-trials\",\n",
      "            \"displayName\": \"secured/research/clinical-trials\",\n",
      "            \"owner\": \"peterprofile\",\n",
      "            \"ownerType\": \"USER_ID\",\n",
      "            \"zoneMembership\": [\n",
      "                \"quarantine\"\n",
      "            ],\n",
      "            \"latestChange\": \"Asset created\"\n",
      "        }\n",
      "    ]\n",
      "}\n",
      " \n",
      "5 assets found\n"
     ]
    }
   ],
   "source": [
    "\n",
    "print (\" \")\n",
    "print (\"GET \" + server1GetAssetsURL)\n",
    "print (\"{ \" + searchString + \" }\")\n",
    "print (\" \")\n",
    "\n",
    "response=requests.post(server1GetAssetsURL, data=searchString)\n",
    "\n",
    "print (\"Returns:\")\n",
    "prettyResponse = json.dumps(response.json(), indent=4)\n",
    "print (prettyResponse)\n",
    "print (\" \")\n",
    "\n",
    "if response.json().get('assets'):\n",
    "    if len(response.json().get('assets')) == 1:\n",
    "        print (\"1 asset found\")\n",
    "    else:\n",
    "        print (str(len(response.json().get('assets'))) + \" assets found\")\n",
    "else:\n",
    "    print (\"No assets found\")\n"
   ]
  },
  {
   "cell_type": "markdown",
   "metadata": {},
   "source": [
    "----\n",
    "\n",
    "Peter is now going to add the next two weeks of assets"
   ]
  },
  {
   "cell_type": "code",
   "execution_count": 43,
   "metadata": {},
   "outputs": [
    {
     "name": "stdout",
     "output_type": "stream",
     "text": [
      "Second request responded with: 200\n"
     ]
    },
    {
     "ename": "ConnectionError",
     "evalue": "HTTPConnectionPool(host='localhost', port=8081): Max retries exceeded with url: /servers/cocoMDS1/open-metadata/access-services/asset-owner/users/peterprofile/assets/data-files/csv (Caused by NewConnectionError('<urllib3.connection.HTTPConnection object at 0x7fa9600290f0>: Failed to establish a new connection: [Errno 61] Connection refused'))",
     "output_type": "error",
     "traceback": [
      "\u001b[0;31m---------------------------------------------------------------------------\u001b[0m",
      "\u001b[0;31mConnectionRefusedError\u001b[0m                    Traceback (most recent call last)",
      "\u001b[0;32m~/anaconda3/lib/python3.7/site-packages/urllib3/connection.py\u001b[0m in \u001b[0;36m_new_conn\u001b[0;34m(self)\u001b[0m\n\u001b[1;32m    158\u001b[0m             conn = connection.create_connection(\n\u001b[0;32m--> 159\u001b[0;31m                 (self._dns_host, self.port), self.timeout, **extra_kw)\n\u001b[0m\u001b[1;32m    160\u001b[0m \u001b[0;34m\u001b[0m\u001b[0m\n",
      "\u001b[0;32m~/anaconda3/lib/python3.7/site-packages/urllib3/util/connection.py\u001b[0m in \u001b[0;36mcreate_connection\u001b[0;34m(address, timeout, source_address, socket_options)\u001b[0m\n\u001b[1;32m     79\u001b[0m     \u001b[0;32mif\u001b[0m \u001b[0merr\u001b[0m \u001b[0;32mis\u001b[0m \u001b[0;32mnot\u001b[0m \u001b[0;32mNone\u001b[0m\u001b[0;34m:\u001b[0m\u001b[0;34m\u001b[0m\u001b[0;34m\u001b[0m\u001b[0m\n\u001b[0;32m---> 80\u001b[0;31m         \u001b[0;32mraise\u001b[0m \u001b[0merr\u001b[0m\u001b[0;34m\u001b[0m\u001b[0;34m\u001b[0m\u001b[0m\n\u001b[0m\u001b[1;32m     81\u001b[0m \u001b[0;34m\u001b[0m\u001b[0m\n",
      "\u001b[0;32m~/anaconda3/lib/python3.7/site-packages/urllib3/util/connection.py\u001b[0m in \u001b[0;36mcreate_connection\u001b[0;34m(address, timeout, source_address, socket_options)\u001b[0m\n\u001b[1;32m     69\u001b[0m                 \u001b[0msock\u001b[0m\u001b[0;34m.\u001b[0m\u001b[0mbind\u001b[0m\u001b[0;34m(\u001b[0m\u001b[0msource_address\u001b[0m\u001b[0;34m)\u001b[0m\u001b[0;34m\u001b[0m\u001b[0;34m\u001b[0m\u001b[0m\n\u001b[0;32m---> 70\u001b[0;31m             \u001b[0msock\u001b[0m\u001b[0;34m.\u001b[0m\u001b[0mconnect\u001b[0m\u001b[0;34m(\u001b[0m\u001b[0msa\u001b[0m\u001b[0;34m)\u001b[0m\u001b[0;34m\u001b[0m\u001b[0;34m\u001b[0m\u001b[0m\n\u001b[0m\u001b[1;32m     71\u001b[0m             \u001b[0;32mreturn\u001b[0m \u001b[0msock\u001b[0m\u001b[0;34m\u001b[0m\u001b[0;34m\u001b[0m\u001b[0m\n",
      "\u001b[0;31mConnectionRefusedError\u001b[0m: [Errno 61] Connection refused",
      "\nDuring handling of the above exception, another exception occurred:\n",
      "\u001b[0;31mNewConnectionError\u001b[0m                        Traceback (most recent call last)",
      "\u001b[0;32m~/anaconda3/lib/python3.7/site-packages/urllib3/connectionpool.py\u001b[0m in \u001b[0;36murlopen\u001b[0;34m(self, method, url, body, headers, retries, redirect, assert_same_host, timeout, pool_timeout, release_conn, chunked, body_pos, **response_kw)\u001b[0m\n\u001b[1;32m    599\u001b[0m                                                   \u001b[0mbody\u001b[0m\u001b[0;34m=\u001b[0m\u001b[0mbody\u001b[0m\u001b[0;34m,\u001b[0m \u001b[0mheaders\u001b[0m\u001b[0;34m=\u001b[0m\u001b[0mheaders\u001b[0m\u001b[0;34m,\u001b[0m\u001b[0;34m\u001b[0m\u001b[0;34m\u001b[0m\u001b[0m\n\u001b[0;32m--> 600\u001b[0;31m                                                   chunked=chunked)\n\u001b[0m\u001b[1;32m    601\u001b[0m \u001b[0;34m\u001b[0m\u001b[0m\n",
      "\u001b[0;32m~/anaconda3/lib/python3.7/site-packages/urllib3/connectionpool.py\u001b[0m in \u001b[0;36m_make_request\u001b[0;34m(self, conn, method, url, timeout, chunked, **httplib_request_kw)\u001b[0m\n\u001b[1;32m    353\u001b[0m         \u001b[0;32melse\u001b[0m\u001b[0;34m:\u001b[0m\u001b[0;34m\u001b[0m\u001b[0;34m\u001b[0m\u001b[0m\n\u001b[0;32m--> 354\u001b[0;31m             \u001b[0mconn\u001b[0m\u001b[0;34m.\u001b[0m\u001b[0mrequest\u001b[0m\u001b[0;34m(\u001b[0m\u001b[0mmethod\u001b[0m\u001b[0;34m,\u001b[0m \u001b[0murl\u001b[0m\u001b[0;34m,\u001b[0m \u001b[0;34m**\u001b[0m\u001b[0mhttplib_request_kw\u001b[0m\u001b[0;34m)\u001b[0m\u001b[0;34m\u001b[0m\u001b[0;34m\u001b[0m\u001b[0m\n\u001b[0m\u001b[1;32m    355\u001b[0m \u001b[0;34m\u001b[0m\u001b[0m\n",
      "\u001b[0;32m~/anaconda3/lib/python3.7/http/client.py\u001b[0m in \u001b[0;36mrequest\u001b[0;34m(self, method, url, body, headers, encode_chunked)\u001b[0m\n\u001b[1;32m   1228\u001b[0m         \u001b[0;34m\"\"\"Send a complete request to the server.\"\"\"\u001b[0m\u001b[0;34m\u001b[0m\u001b[0;34m\u001b[0m\u001b[0m\n\u001b[0;32m-> 1229\u001b[0;31m         \u001b[0mself\u001b[0m\u001b[0;34m.\u001b[0m\u001b[0m_send_request\u001b[0m\u001b[0;34m(\u001b[0m\u001b[0mmethod\u001b[0m\u001b[0;34m,\u001b[0m \u001b[0murl\u001b[0m\u001b[0;34m,\u001b[0m \u001b[0mbody\u001b[0m\u001b[0;34m,\u001b[0m \u001b[0mheaders\u001b[0m\u001b[0;34m,\u001b[0m \u001b[0mencode_chunked\u001b[0m\u001b[0;34m)\u001b[0m\u001b[0;34m\u001b[0m\u001b[0;34m\u001b[0m\u001b[0m\n\u001b[0m\u001b[1;32m   1230\u001b[0m \u001b[0;34m\u001b[0m\u001b[0m\n",
      "\u001b[0;32m~/anaconda3/lib/python3.7/http/client.py\u001b[0m in \u001b[0;36m_send_request\u001b[0;34m(self, method, url, body, headers, encode_chunked)\u001b[0m\n\u001b[1;32m   1274\u001b[0m             \u001b[0mbody\u001b[0m \u001b[0;34m=\u001b[0m \u001b[0m_encode\u001b[0m\u001b[0;34m(\u001b[0m\u001b[0mbody\u001b[0m\u001b[0;34m,\u001b[0m \u001b[0;34m'body'\u001b[0m\u001b[0;34m)\u001b[0m\u001b[0;34m\u001b[0m\u001b[0;34m\u001b[0m\u001b[0m\n\u001b[0;32m-> 1275\u001b[0;31m         \u001b[0mself\u001b[0m\u001b[0;34m.\u001b[0m\u001b[0mendheaders\u001b[0m\u001b[0;34m(\u001b[0m\u001b[0mbody\u001b[0m\u001b[0;34m,\u001b[0m \u001b[0mencode_chunked\u001b[0m\u001b[0;34m=\u001b[0m\u001b[0mencode_chunked\u001b[0m\u001b[0;34m)\u001b[0m\u001b[0;34m\u001b[0m\u001b[0;34m\u001b[0m\u001b[0m\n\u001b[0m\u001b[1;32m   1276\u001b[0m \u001b[0;34m\u001b[0m\u001b[0m\n",
      "\u001b[0;32m~/anaconda3/lib/python3.7/http/client.py\u001b[0m in \u001b[0;36mendheaders\u001b[0;34m(self, message_body, encode_chunked)\u001b[0m\n\u001b[1;32m   1223\u001b[0m             \u001b[0;32mraise\u001b[0m \u001b[0mCannotSendHeader\u001b[0m\u001b[0;34m(\u001b[0m\u001b[0;34m)\u001b[0m\u001b[0;34m\u001b[0m\u001b[0;34m\u001b[0m\u001b[0m\n\u001b[0;32m-> 1224\u001b[0;31m         \u001b[0mself\u001b[0m\u001b[0;34m.\u001b[0m\u001b[0m_send_output\u001b[0m\u001b[0;34m(\u001b[0m\u001b[0mmessage_body\u001b[0m\u001b[0;34m,\u001b[0m \u001b[0mencode_chunked\u001b[0m\u001b[0;34m=\u001b[0m\u001b[0mencode_chunked\u001b[0m\u001b[0;34m)\u001b[0m\u001b[0;34m\u001b[0m\u001b[0;34m\u001b[0m\u001b[0m\n\u001b[0m\u001b[1;32m   1225\u001b[0m \u001b[0;34m\u001b[0m\u001b[0m\n",
      "\u001b[0;32m~/anaconda3/lib/python3.7/http/client.py\u001b[0m in \u001b[0;36m_send_output\u001b[0;34m(self, message_body, encode_chunked)\u001b[0m\n\u001b[1;32m   1015\u001b[0m         \u001b[0;32mdel\u001b[0m \u001b[0mself\u001b[0m\u001b[0;34m.\u001b[0m\u001b[0m_buffer\u001b[0m\u001b[0;34m[\u001b[0m\u001b[0;34m:\u001b[0m\u001b[0;34m]\u001b[0m\u001b[0;34m\u001b[0m\u001b[0;34m\u001b[0m\u001b[0m\n\u001b[0;32m-> 1016\u001b[0;31m         \u001b[0mself\u001b[0m\u001b[0;34m.\u001b[0m\u001b[0msend\u001b[0m\u001b[0;34m(\u001b[0m\u001b[0mmsg\u001b[0m\u001b[0;34m)\u001b[0m\u001b[0;34m\u001b[0m\u001b[0;34m\u001b[0m\u001b[0m\n\u001b[0m\u001b[1;32m   1017\u001b[0m \u001b[0;34m\u001b[0m\u001b[0m\n",
      "\u001b[0;32m~/anaconda3/lib/python3.7/http/client.py\u001b[0m in \u001b[0;36msend\u001b[0;34m(self, data)\u001b[0m\n\u001b[1;32m    955\u001b[0m             \u001b[0;32mif\u001b[0m \u001b[0mself\u001b[0m\u001b[0;34m.\u001b[0m\u001b[0mauto_open\u001b[0m\u001b[0;34m:\u001b[0m\u001b[0;34m\u001b[0m\u001b[0;34m\u001b[0m\u001b[0m\n\u001b[0;32m--> 956\u001b[0;31m                 \u001b[0mself\u001b[0m\u001b[0;34m.\u001b[0m\u001b[0mconnect\u001b[0m\u001b[0;34m(\u001b[0m\u001b[0;34m)\u001b[0m\u001b[0;34m\u001b[0m\u001b[0;34m\u001b[0m\u001b[0m\n\u001b[0m\u001b[1;32m    957\u001b[0m             \u001b[0;32melse\u001b[0m\u001b[0;34m:\u001b[0m\u001b[0;34m\u001b[0m\u001b[0;34m\u001b[0m\u001b[0m\n",
      "\u001b[0;32m~/anaconda3/lib/python3.7/site-packages/urllib3/connection.py\u001b[0m in \u001b[0;36mconnect\u001b[0;34m(self)\u001b[0m\n\u001b[1;32m    180\u001b[0m     \u001b[0;32mdef\u001b[0m \u001b[0mconnect\u001b[0m\u001b[0;34m(\u001b[0m\u001b[0mself\u001b[0m\u001b[0;34m)\u001b[0m\u001b[0;34m:\u001b[0m\u001b[0;34m\u001b[0m\u001b[0;34m\u001b[0m\u001b[0m\n\u001b[0;32m--> 181\u001b[0;31m         \u001b[0mconn\u001b[0m \u001b[0;34m=\u001b[0m \u001b[0mself\u001b[0m\u001b[0;34m.\u001b[0m\u001b[0m_new_conn\u001b[0m\u001b[0;34m(\u001b[0m\u001b[0;34m)\u001b[0m\u001b[0;34m\u001b[0m\u001b[0;34m\u001b[0m\u001b[0m\n\u001b[0m\u001b[1;32m    182\u001b[0m         \u001b[0mself\u001b[0m\u001b[0;34m.\u001b[0m\u001b[0m_prepare_conn\u001b[0m\u001b[0;34m(\u001b[0m\u001b[0mconn\u001b[0m\u001b[0;34m)\u001b[0m\u001b[0;34m\u001b[0m\u001b[0;34m\u001b[0m\u001b[0m\n",
      "\u001b[0;32m~/anaconda3/lib/python3.7/site-packages/urllib3/connection.py\u001b[0m in \u001b[0;36m_new_conn\u001b[0;34m(self)\u001b[0m\n\u001b[1;32m    167\u001b[0m             raise NewConnectionError(\n\u001b[0;32m--> 168\u001b[0;31m                 self, \"Failed to establish a new connection: %s\" % e)\n\u001b[0m\u001b[1;32m    169\u001b[0m \u001b[0;34m\u001b[0m\u001b[0m\n",
      "\u001b[0;31mNewConnectionError\u001b[0m: <urllib3.connection.HTTPConnection object at 0x7fa9600290f0>: Failed to establish a new connection: [Errno 61] Connection refused",
      "\nDuring handling of the above exception, another exception occurred:\n",
      "\u001b[0;31mMaxRetryError\u001b[0m                             Traceback (most recent call last)",
      "\u001b[0;32m~/anaconda3/lib/python3.7/site-packages/requests/adapters.py\u001b[0m in \u001b[0;36msend\u001b[0;34m(self, request, stream, timeout, verify, cert, proxies)\u001b[0m\n\u001b[1;32m    448\u001b[0m                     \u001b[0mretries\u001b[0m\u001b[0;34m=\u001b[0m\u001b[0mself\u001b[0m\u001b[0;34m.\u001b[0m\u001b[0mmax_retries\u001b[0m\u001b[0;34m,\u001b[0m\u001b[0;34m\u001b[0m\u001b[0;34m\u001b[0m\u001b[0m\n\u001b[0;32m--> 449\u001b[0;31m                     \u001b[0mtimeout\u001b[0m\u001b[0;34m=\u001b[0m\u001b[0mtimeout\u001b[0m\u001b[0;34m\u001b[0m\u001b[0;34m\u001b[0m\u001b[0m\n\u001b[0m\u001b[1;32m    450\u001b[0m                 )\n",
      "\u001b[0;32m~/anaconda3/lib/python3.7/site-packages/urllib3/connectionpool.py\u001b[0m in \u001b[0;36murlopen\u001b[0;34m(self, method, url, body, headers, retries, redirect, assert_same_host, timeout, pool_timeout, release_conn, chunked, body_pos, **response_kw)\u001b[0m\n\u001b[1;32m    637\u001b[0m             retries = retries.increment(method, url, error=e, _pool=self,\n\u001b[0;32m--> 638\u001b[0;31m                                         _stacktrace=sys.exc_info()[2])\n\u001b[0m\u001b[1;32m    639\u001b[0m             \u001b[0mretries\u001b[0m\u001b[0;34m.\u001b[0m\u001b[0msleep\u001b[0m\u001b[0;34m(\u001b[0m\u001b[0;34m)\u001b[0m\u001b[0;34m\u001b[0m\u001b[0;34m\u001b[0m\u001b[0m\n",
      "\u001b[0;32m~/anaconda3/lib/python3.7/site-packages/urllib3/util/retry.py\u001b[0m in \u001b[0;36mincrement\u001b[0;34m(self, method, url, response, error, _pool, _stacktrace)\u001b[0m\n\u001b[1;32m    397\u001b[0m         \u001b[0;32mif\u001b[0m \u001b[0mnew_retry\u001b[0m\u001b[0;34m.\u001b[0m\u001b[0mis_exhausted\u001b[0m\u001b[0;34m(\u001b[0m\u001b[0;34m)\u001b[0m\u001b[0;34m:\u001b[0m\u001b[0;34m\u001b[0m\u001b[0;34m\u001b[0m\u001b[0m\n\u001b[0;32m--> 398\u001b[0;31m             \u001b[0;32mraise\u001b[0m \u001b[0mMaxRetryError\u001b[0m\u001b[0;34m(\u001b[0m\u001b[0m_pool\u001b[0m\u001b[0;34m,\u001b[0m \u001b[0murl\u001b[0m\u001b[0;34m,\u001b[0m \u001b[0merror\u001b[0m \u001b[0;32mor\u001b[0m \u001b[0mResponseError\u001b[0m\u001b[0;34m(\u001b[0m\u001b[0mcause\u001b[0m\u001b[0;34m)\u001b[0m\u001b[0;34m)\u001b[0m\u001b[0;34m\u001b[0m\u001b[0;34m\u001b[0m\u001b[0m\n\u001b[0m\u001b[1;32m    399\u001b[0m \u001b[0;34m\u001b[0m\u001b[0m\n",
      "\u001b[0;31mMaxRetryError\u001b[0m: HTTPConnectionPool(host='localhost', port=8081): Max retries exceeded with url: /servers/cocoMDS1/open-metadata/access-services/asset-owner/users/peterprofile/assets/data-files/csv (Caused by NewConnectionError('<urllib3.connection.HTTPConnection object at 0x7fa9600290f0>: Failed to establish a new connection: [Errno 61] Connection refused'))",
      "\nDuring handling of the above exception, another exception occurred:\n",
      "\u001b[0;31mConnectionError\u001b[0m                           Traceback (most recent call last)",
      "\u001b[0;32m<ipython-input-43-e1a80ec23b83>\u001b[0m in \u001b[0;36m<module>\u001b[0;34m\u001b[0m\n\u001b[1;32m     24\u001b[0m }\n\u001b[1;32m     25\u001b[0m \u001b[0;34m\u001b[0m\u001b[0m\n\u001b[0;32m---> 26\u001b[0;31m \u001b[0mresponse3\u001b[0m\u001b[0;34m=\u001b[0m\u001b[0mrequests\u001b[0m\u001b[0;34m.\u001b[0m\u001b[0mpost\u001b[0m\u001b[0;34m(\u001b[0m\u001b[0mserver1CreateAssetURL\u001b[0m\u001b[0;34m,\u001b[0m \u001b[0mjson\u001b[0m\u001b[0;34m=\u001b[0m\u001b[0mcsvbody3\u001b[0m\u001b[0;34m,\u001b[0m \u001b[0mheaders\u001b[0m\u001b[0;34m=\u001b[0m\u001b[0mjsonHeader\u001b[0m\u001b[0;34m)\u001b[0m\u001b[0;34m\u001b[0m\u001b[0;34m\u001b[0m\u001b[0m\n\u001b[0m\u001b[1;32m     27\u001b[0m \u001b[0;34m\u001b[0m\u001b[0m\n\u001b[1;32m     28\u001b[0m \u001b[0mprint\u001b[0m \u001b[0;34m(\u001b[0m\u001b[0;34m\"Third request responded with: \"\u001b[0m  \u001b[0;34m+\u001b[0m \u001b[0mstr\u001b[0m\u001b[0;34m(\u001b[0m\u001b[0mresponse3\u001b[0m\u001b[0;34m.\u001b[0m\u001b[0mstatus_code\u001b[0m\u001b[0;34m)\u001b[0m\u001b[0;34m)\u001b[0m\u001b[0;34m\u001b[0m\u001b[0;34m\u001b[0m\u001b[0m\n",
      "\u001b[0;32m~/anaconda3/lib/python3.7/site-packages/requests/api.py\u001b[0m in \u001b[0;36mpost\u001b[0;34m(url, data, json, **kwargs)\u001b[0m\n\u001b[1;32m    114\u001b[0m     \"\"\"\n\u001b[1;32m    115\u001b[0m \u001b[0;34m\u001b[0m\u001b[0m\n\u001b[0;32m--> 116\u001b[0;31m     \u001b[0;32mreturn\u001b[0m \u001b[0mrequest\u001b[0m\u001b[0;34m(\u001b[0m\u001b[0;34m'post'\u001b[0m\u001b[0;34m,\u001b[0m \u001b[0murl\u001b[0m\u001b[0;34m,\u001b[0m \u001b[0mdata\u001b[0m\u001b[0;34m=\u001b[0m\u001b[0mdata\u001b[0m\u001b[0;34m,\u001b[0m \u001b[0mjson\u001b[0m\u001b[0;34m=\u001b[0m\u001b[0mjson\u001b[0m\u001b[0;34m,\u001b[0m \u001b[0;34m**\u001b[0m\u001b[0mkwargs\u001b[0m\u001b[0;34m)\u001b[0m\u001b[0;34m\u001b[0m\u001b[0;34m\u001b[0m\u001b[0m\n\u001b[0m\u001b[1;32m    117\u001b[0m \u001b[0;34m\u001b[0m\u001b[0m\n\u001b[1;32m    118\u001b[0m \u001b[0;34m\u001b[0m\u001b[0m\n",
      "\u001b[0;32m~/anaconda3/lib/python3.7/site-packages/requests/api.py\u001b[0m in \u001b[0;36mrequest\u001b[0;34m(method, url, **kwargs)\u001b[0m\n\u001b[1;32m     58\u001b[0m     \u001b[0;31m# cases, and look like a memory leak in others.\u001b[0m\u001b[0;34m\u001b[0m\u001b[0;34m\u001b[0m\u001b[0;34m\u001b[0m\u001b[0m\n\u001b[1;32m     59\u001b[0m     \u001b[0;32mwith\u001b[0m \u001b[0msessions\u001b[0m\u001b[0;34m.\u001b[0m\u001b[0mSession\u001b[0m\u001b[0;34m(\u001b[0m\u001b[0;34m)\u001b[0m \u001b[0;32mas\u001b[0m \u001b[0msession\u001b[0m\u001b[0;34m:\u001b[0m\u001b[0;34m\u001b[0m\u001b[0;34m\u001b[0m\u001b[0m\n\u001b[0;32m---> 60\u001b[0;31m         \u001b[0;32mreturn\u001b[0m \u001b[0msession\u001b[0m\u001b[0;34m.\u001b[0m\u001b[0mrequest\u001b[0m\u001b[0;34m(\u001b[0m\u001b[0mmethod\u001b[0m\u001b[0;34m=\u001b[0m\u001b[0mmethod\u001b[0m\u001b[0;34m,\u001b[0m \u001b[0murl\u001b[0m\u001b[0;34m=\u001b[0m\u001b[0murl\u001b[0m\u001b[0;34m,\u001b[0m \u001b[0;34m**\u001b[0m\u001b[0mkwargs\u001b[0m\u001b[0;34m)\u001b[0m\u001b[0;34m\u001b[0m\u001b[0;34m\u001b[0m\u001b[0m\n\u001b[0m\u001b[1;32m     61\u001b[0m \u001b[0;34m\u001b[0m\u001b[0m\n\u001b[1;32m     62\u001b[0m \u001b[0;34m\u001b[0m\u001b[0m\n",
      "\u001b[0;32m~/anaconda3/lib/python3.7/site-packages/requests/sessions.py\u001b[0m in \u001b[0;36mrequest\u001b[0;34m(self, method, url, params, data, headers, cookies, files, auth, timeout, allow_redirects, proxies, hooks, stream, verify, cert, json)\u001b[0m\n\u001b[1;32m    531\u001b[0m         }\n\u001b[1;32m    532\u001b[0m         \u001b[0msend_kwargs\u001b[0m\u001b[0;34m.\u001b[0m\u001b[0mupdate\u001b[0m\u001b[0;34m(\u001b[0m\u001b[0msettings\u001b[0m\u001b[0;34m)\u001b[0m\u001b[0;34m\u001b[0m\u001b[0;34m\u001b[0m\u001b[0m\n\u001b[0;32m--> 533\u001b[0;31m         \u001b[0mresp\u001b[0m \u001b[0;34m=\u001b[0m \u001b[0mself\u001b[0m\u001b[0;34m.\u001b[0m\u001b[0msend\u001b[0m\u001b[0;34m(\u001b[0m\u001b[0mprep\u001b[0m\u001b[0;34m,\u001b[0m \u001b[0;34m**\u001b[0m\u001b[0msend_kwargs\u001b[0m\u001b[0;34m)\u001b[0m\u001b[0;34m\u001b[0m\u001b[0;34m\u001b[0m\u001b[0m\n\u001b[0m\u001b[1;32m    534\u001b[0m \u001b[0;34m\u001b[0m\u001b[0m\n\u001b[1;32m    535\u001b[0m         \u001b[0;32mreturn\u001b[0m \u001b[0mresp\u001b[0m\u001b[0;34m\u001b[0m\u001b[0;34m\u001b[0m\u001b[0m\n",
      "\u001b[0;32m~/anaconda3/lib/python3.7/site-packages/requests/sessions.py\u001b[0m in \u001b[0;36msend\u001b[0;34m(self, request, **kwargs)\u001b[0m\n\u001b[1;32m    644\u001b[0m \u001b[0;34m\u001b[0m\u001b[0m\n\u001b[1;32m    645\u001b[0m         \u001b[0;31m# Send the request\u001b[0m\u001b[0;34m\u001b[0m\u001b[0;34m\u001b[0m\u001b[0;34m\u001b[0m\u001b[0m\n\u001b[0;32m--> 646\u001b[0;31m         \u001b[0mr\u001b[0m \u001b[0;34m=\u001b[0m \u001b[0madapter\u001b[0m\u001b[0;34m.\u001b[0m\u001b[0msend\u001b[0m\u001b[0;34m(\u001b[0m\u001b[0mrequest\u001b[0m\u001b[0;34m,\u001b[0m \u001b[0;34m**\u001b[0m\u001b[0mkwargs\u001b[0m\u001b[0;34m)\u001b[0m\u001b[0;34m\u001b[0m\u001b[0;34m\u001b[0m\u001b[0m\n\u001b[0m\u001b[1;32m    647\u001b[0m \u001b[0;34m\u001b[0m\u001b[0m\n\u001b[1;32m    648\u001b[0m         \u001b[0;31m# Total elapsed time of the request (approximately)\u001b[0m\u001b[0;34m\u001b[0m\u001b[0;34m\u001b[0m\u001b[0;34m\u001b[0m\u001b[0m\n",
      "\u001b[0;32m~/anaconda3/lib/python3.7/site-packages/requests/adapters.py\u001b[0m in \u001b[0;36msend\u001b[0;34m(self, request, stream, timeout, verify, cert, proxies)\u001b[0m\n\u001b[1;32m    514\u001b[0m                 \u001b[0;32mraise\u001b[0m \u001b[0mSSLError\u001b[0m\u001b[0;34m(\u001b[0m\u001b[0me\u001b[0m\u001b[0;34m,\u001b[0m \u001b[0mrequest\u001b[0m\u001b[0;34m=\u001b[0m\u001b[0mrequest\u001b[0m\u001b[0;34m)\u001b[0m\u001b[0;34m\u001b[0m\u001b[0;34m\u001b[0m\u001b[0m\n\u001b[1;32m    515\u001b[0m \u001b[0;34m\u001b[0m\u001b[0m\n\u001b[0;32m--> 516\u001b[0;31m             \u001b[0;32mraise\u001b[0m \u001b[0mConnectionError\u001b[0m\u001b[0;34m(\u001b[0m\u001b[0me\u001b[0m\u001b[0;34m,\u001b[0m \u001b[0mrequest\u001b[0m\u001b[0;34m=\u001b[0m\u001b[0mrequest\u001b[0m\u001b[0;34m)\u001b[0m\u001b[0;34m\u001b[0m\u001b[0;34m\u001b[0m\u001b[0m\n\u001b[0m\u001b[1;32m    517\u001b[0m \u001b[0;34m\u001b[0m\u001b[0m\n\u001b[1;32m    518\u001b[0m         \u001b[0;32mexcept\u001b[0m \u001b[0mClosedPoolError\u001b[0m \u001b[0;32mas\u001b[0m \u001b[0me\u001b[0m\u001b[0;34m:\u001b[0m\u001b[0;34m\u001b[0m\u001b[0;34m\u001b[0m\u001b[0m\n",
      "\u001b[0;31mConnectionError\u001b[0m: HTTPConnectionPool(host='localhost', port=8081): Max retries exceeded with url: /servers/cocoMDS1/open-metadata/access-services/asset-owner/users/peterprofile/assets/data-files/csv (Caused by NewConnectionError('<urllib3.connection.HTTPConnection object at 0x7fa9600290f0>: Failed to establish a new connection: [Errno 61] Connection refused'))"
     ]
    }
   ],
   "source": [
    "\n",
    "csvbody2 = {\n",
    "\t\"class\" : \"NewCSVFileAssetRequestBody\",\n",
    "\t\"displayName\" : \"Week 2: Drop Foot Clinical Trial Measurements\",\n",
    "\t\"description\" : \"One week's data covering foot angle, hip displacement and mobility measurements.\",\n",
    "\t\"fullPath\" : \"file://secured/research/clinical-trials/drop-foot/DropFootMeasurementsWeek2.csv\"\n",
    "}\n",
    "\n",
    "response2=requests.post(server1CreateAssetURL, json=csvbody2, headers=jsonHeader)\n",
    "\n",
    "print (\"Second request responded with: \" + str(response2.status_code))\n",
    "\n",
    "asset2guids=response2.json().get('guids')\n",
    "\n",
    "for guid in asset2guids:\n",
    "    asset2guid=guid\n",
    "\n",
    "\n",
    "csvbody3 = {\n",
    "\t\"class\" : \"NewCSVFileAssetRequestBody\",\n",
    "\t\"displayName\" : \"Week 3: Drop Foot Clinical Trial Measurements\",\n",
    "\t\"description\" : \"One week's data covering foot angle, hip displacement and mobility measurements.\",\n",
    "\t\"fullPath\" : \"file://secured/research/clinical-trials/drop-foot/DropFootMeasurementsWeek3.csv\"\n",
    "}\n",
    "\n",
    "response3=requests.post(server1CreateAssetURL, json=csvbody3, headers=jsonHeader)\n",
    "\n",
    "print (\"Third request responded with: \"  + str(response3.status_code))\n",
    "\n",
    "asset3guids=response3.json().get('guids')\n",
    "\n",
    "for guid in asset3guids:\n",
    "    asset3guid=guid\n",
    "\n",
    "print (\" \")\n",
    "print ('Asset 1 guid is: ' + asset1guid)\n",
    "print ('Asset 2 guid is: ' + asset2guid)\n",
    "print ('Asset 3 guid is: ' + asset3guid)\n"
   ]
  },
  {
   "cell_type": "code",
   "execution_count": 42,
   "metadata": {},
   "outputs": [
    {
     "name": "stdout",
     "output_type": "stream",
     "text": [
      " \n",
      "Asset 1 guids is: ['ddce41af-5a1f-46b4-855b-66767cb7b521', 'f440c7e7-a0b0-4044-a390-408129f74302', 'f92f2704-15e0-4cca-9e1a-7d930d25644e', 'cb058d70-c88e-40cc-bc76-1a6c5a435704', '5cfb1b4f-d7ae-4bd0-8669-85f8787c6ee8', 'ddce41af-5a1f-46b4-855b-66767cb7b521', 'a6a3f1a2-4dbf-46b2-aeb6-ab10f06115fb']\n",
      "Asset 2 guids is: ['d0442a52-98ab-40ee-ad27-290bc6bec544', '93e73568-14d2-429a-8f45-9adad3553fc7', '10cf04b7-48b8-4daf-90f8-7b38554abb52', '94e8dcdb-dc92-4bbd-937f-8034c2727784', 'a92be820-b2dc-4380-8006-345d975c4852', 'd0442a52-98ab-40ee-ad27-290bc6bec544', '97e11745-2217-4ed3-9162-2778a97e88fa']\n",
      "Asset 3 guids is: ['346aba8f-4f2a-44f6-a4fb-e645693f9459', '0ea68beb-78c0-4036-baac-b790de9e0e23', '45c24948-d157-44d3-812a-ccb0c796d90a', '8cf520b2-d380-4d2c-95f1-c7ffdd3037d1', '3f255553-e519-4d5c-923e-72eac74af0bb', '346aba8f-4f2a-44f6-a4fb-e645693f9459', '5f1a63c8-16d9-47c9-a0e8-95c1420429e7']\n"
     ]
    }
   ],
   "source": [
    "print (\" \")\n",
    "print ('Asset 1 guids is: ' + str(asset1guids))\n",
    "print ('Asset 2 guids is: ' + str(asset2guids))\n",
    "print ('Asset 3 guids is: ' + str(asset3guids))"
   ]
  },
  {
   "cell_type": "markdown",
   "metadata": {},
   "source": [
    "----\n",
    "Peter has successfully onboarded three file assets:"
   ]
  },
  {
   "cell_type": "code",
   "execution_count": null,
   "metadata": {},
   "outputs": [],
   "source": [
    "\n",
    "print (\" \")\n",
    "print (\"GET \" + server1GetAssetsURL)\n",
    "print (\"{ \" + searchString + \" }\")\n",
    "print (\" \")\n",
    "\n",
    "response=requests.post(server1GetAssetsURL, data=searchString)\n",
    "\n",
    "print (\"Returns:\")\n",
    "prettyResponse = json.dumps(response.json(), indent=4)\n",
    "print (prettyResponse)\n",
    "print (\" \")\n",
    "\n",
    "if response.json().get('assets'):\n",
    "    if len(response.json().get('assets')) == 1:\n",
    "        print (\"1 asset found\")\n",
    "    else:\n",
    "        print (str(len(response.json().get('assets'))) + \" assets found\")\n",
    "else:\n",
    "    print (\"No assets found\")\n",
    "    "
   ]
  },
  {
   "cell_type": "markdown",
   "metadata": {},
   "source": [
    "----\n",
    "## Exercise 2 - Sharing the catalog and adding feedback"
   ]
  },
  {
   "cell_type": "markdown",
   "metadata": {},
   "source": [
    "In this next exercise Erin is going to work with the assets that Peter created.  Erin is part of the governance team.  She is accessing\n",
    "metadata using the `cocoMDS2` server.  It sits on the core OMAG Server Platform.\n",
    "\n",
    "![Figure 1](../images/coco-pharmaceuticals-systems-omag-server-platforms.png)\n",
    "> **Figure 1:** Coco Pharmaceuticals' OMAG Server Platforms (repeat)"
   ]
  },
  {
   "cell_type": "code",
   "execution_count": null,
   "metadata": {},
   "outputs": [],
   "source": [
    "server2            = \"cocoMDS2\"\n",
    "server2PlatformURL = corePlatformURL"
   ]
  },
  {
   "cell_type": "markdown",
   "metadata": {},
   "source": [
    "This next code checks that cocoMDS2 is running ..."
   ]
  },
  {
   "cell_type": "code",
   "execution_count": null,
   "metadata": {},
   "outputs": [],
   "source": [
    "\n",
    "isServer2ActiveURL = server2PlatformURL + \"/open-metadata/platform-services/users/\" + adminUserId + \"/server-platform/servers/\" + server2 + \"/status\"\n",
    "\n",
    "print (\" \")\n",
    "print (\"GET \" + isServer2ActiveURL)\n",
    "print (\" \")\n",
    "\n",
    "response = requests.get(isServer2ActiveURL)\n",
    "\n",
    "print (\"Returns:\")\n",
    "prettyResponse = json.dumps(response.json(), indent=4)\n",
    "print (prettyResponse)\n",
    "print (\" \")\n",
    "\n",
    "serverStatus = response.json().get('active')\n",
    "if serverStatus == True:\n",
    "    print(\"Server \" + server2 + \" is active - ready to begin\")\n",
    "else:\n",
    "    print(\"Server \" + server2 + \" is down - start it before proceeding\")\n"
   ]
  },
  {
   "cell_type": "markdown",
   "metadata": {},
   "source": [
    "----\n",
    "If you see Server cocoMDS2 is active - ready to begin then the server is running. If the server is down, follow the instructions in the **Managing Servers** notebook to start the server.\n",
    "\n",
    "----\n",
    "The metadata servers `cocoMDS1` and `cocoMDS2` are part of the same open metadata cohort called `cocoCohort`.  This means that they are actively sharing metadata.\n",
    "\n",
    "![Figure 2](../images/coco-pharmaceuticals-systems-metadata-servers.png)\n",
    "> **Figure 2:** Membership of Coco Pharmaceuticals' cohorts\n",
    "\n",
    "----\n",
    "Even though Erin is connected to a different server to Peter, she can see the same assets."
   ]
  },
  {
   "cell_type": "code",
   "execution_count": null,
   "metadata": {},
   "outputs": [],
   "source": [
    "\n",
    "server2AssetConsumerURL = server2PlatformURL + '/servers/' + server2 + '/open-metadata/access-services/asset-consumer/users/' + erinsUserId \n",
    "server2GetAssetsURL = server2AssetConsumerURL + '/assets/by-name?startFrom=0&pageSize=50'\n",
    "\n",
    "print (\" \")\n",
    "print (\"GET \" + server2GetAssetsURL)\n",
    "print (\"{ \" + searchString + \" }\")\n",
    "print (\" \")\n",
    "\n",
    "response=requests.post(server2GetAssetsURL, data=searchString)\n",
    "\n",
    "print (\"Returns:\")\n",
    "prettyResponse = json.dumps(response.json(), indent=4)\n",
    "print (prettyResponse)\n",
    "print (\" \")\n",
    "\n",
    "if response.json().get('assets'):\n",
    "    if len(response.json().get('assets')) == 1:\n",
    "        print (\"1 asset found\")\n",
    "    else:\n",
    "        print (str(len(response.json().get('assets'))) + \" assets found\")\n",
    "else:\n",
    "    print (\"No assets found\")\n"
   ]
  },
  {
   "cell_type": "markdown",
   "metadata": {},
   "source": [
    "----\n",
    "Erin looks at the new assets that Peter has defined and has a question.  She adds a comment to the first asset."
   ]
  },
  {
   "cell_type": "code",
   "execution_count": null,
   "metadata": {},
   "outputs": [],
   "source": [
    "\n",
    "server2AddCommentURL = server2AssetConsumerURL + '/assets/' + asset1guid + '/comments'\n",
    "\n",
    "print(\"\")\n",
    "print (\"POST \" + server2AddCommentURL)\n",
    "\n",
    "commentBody={\n",
    "\t\"class\" : \"CommentRequestBody\",\n",
    "\t\"commentType\" : \"QUESTION\",\n",
    "\t\"commentText\" : \"This file has much less data than normal.  Did the hospital provide any additional information about this batch to explain it?\",\n",
    "    \"isPublic\" : True\n",
    "}\n",
    "addCommentResponse = requests.post(server2AddCommentURL, json=commentBody, headers=jsonHeader)\n",
    "\n",
    "addCommentResponse.json()"
   ]
  },
  {
   "cell_type": "code",
   "execution_count": null,
   "metadata": {},
   "outputs": [],
   "source": [
    "commentGUID = addCommentResponse.json().get('guid')\n",
    "\n",
    "print (\" \")\n",
    "print ('Erin\\'s comment guid is: ' + commentGUID)"
   ]
  },
  {
   "cell_type": "markdown",
   "metadata": {},
   "source": [
    "----\n",
    "The comment is attached to the asset.  Peter can query an asset's comments as follows:"
   ]
  },
  {
   "cell_type": "code",
   "execution_count": null,
   "metadata": {},
   "outputs": [],
   "source": [
    "\n",
    "server1ConnectedAssetURL = server1PlatformURL + '/servers/' + server1 + '/open-metadata/common-services/asset-consumer/connected-asset/users/' + petersUserId \n",
    "server1CommentQuery = server1ConnectedAssetURL + '/assets/' + asset1guid + '/comments?elementStart=0&maxElements=50'\n",
    "\n",
    "print (\" \")\n",
    "print (\"GET \" + server1CommentQuery)\n",
    "\n",
    "getCommentsResponse = requests.get(server1CommentQuery)\n",
    "getCommentsResponse.json()\n"
   ]
  },
  {
   "cell_type": "markdown",
   "metadata": {},
   "source": [
    "----\n",
    "He replies to Erin's question"
   ]
  },
  {
   "cell_type": "code",
   "execution_count": null,
   "metadata": {},
   "outputs": [],
   "source": [
    "\n",
    "server1AssetConsumerURL = server1PlatformURL + '/servers/' + server1 + '/open-metadata/access-services/asset-consumer/users/' + petersUserId \n",
    "server1CommentReplyURL = server1AssetConsumerURL + '/assets/' + asset1guid + '/comments/' + commentGUID + '/replies'\n",
    "\n",
    "print (\" \")\n",
    "print (\"POST \" + server1CommentReplyURL)\n",
    "\n",
    "commentReplyBody={\n",
    "\t\"class\" : \"CommentRequestBody\",\n",
    "\t\"commentType\" : \"ANSWER\",\n",
    "\t\"commentText\" : \"I checked back with Bobbie Records and they had an air conditioning failure that caused them to cancel patient appointments for 2 days - hence less data.  They are working to catch up on their waiting list so expect increased data for the next few weeks.\",\n",
    "    \"isPublic\" : True\n",
    "}\n",
    "\n",
    "addCommentReplyResponse = requests.post(server1CommentReplyURL, json=commentReplyBody, headers=jsonHeader)\n",
    "addCommentReplyResponse.json()"
   ]
  },
  {
   "cell_type": "markdown",
   "metadata": {},
   "source": [
    "----\n",
    "Erin views the reply."
   ]
  },
  {
   "cell_type": "code",
   "execution_count": null,
   "metadata": {},
   "outputs": [],
   "source": [
    "server2ConnectedAssetURL = server2PlatformURL + '/servers/' + server2 + '/open-metadata/common-services/asset-consumer/connected-asset/users/' + erinsUserId \n",
    "server2CommentReplyQuery = server2ConnectedAssetURL + '/assets/' + asset1guid + '/comments/' + commentGUID + '/replies?elementStart=0&maxElements=50'\n",
    "\n",
    "print (\" \")\n",
    "print (\"GET \" + server2CommentReplyQuery)\n",
    "\n",
    "getCommentRepliesResponse = requests.get(server2CommentReplyQuery)\n",
    "\n",
    "getCommentRepliesResponse.json()"
   ]
  },
  {
   "cell_type": "markdown",
   "metadata": {},
   "source": [
    "----\n",
    "This is the current information known about the first asset:"
   ]
  },
  {
   "cell_type": "code",
   "execution_count": null,
   "metadata": {},
   "outputs": [],
   "source": [
    "server2GetAsset1 = server2ConnectedAssetURL + '/assets/' + asset1guid\n",
    "\n",
    "print (\" \")\n",
    "print (\"GET \" + server2GetAsset1)\n",
    "\n",
    "getAssetResponse = requests.get(server2GetAsset1)\n",
    "\n",
    "getAssetResponse.json()"
   ]
  },
  {
   "cell_type": "code",
   "execution_count": null,
   "metadata": {},
   "outputs": [],
   "source": [
    "server2GetRelatedAssets1 = server2ConnectedAssetURL + '/assets/' + asset1guid + '/related-assets?elementStart=0&maxElements=50'\n",
    "\n",
    "print (\" \")\n",
    "print (\"GET \" + server2GetRelatedAssets1)\n",
    "\n",
    "getAssetResponse = requests.get(server2GetRelatedAssets1)\n",
    "\n",
    "getAssetResponse.json()"
   ]
  },
  {
   "cell_type": "markdown",
   "metadata": {},
   "source": [
    "## Summary of Exercise 1 and 2\n",
    "\n",
    "In the first two exercises of this hands-on lab you have shown that two servers with their own repositories can share and extend the metadata contributed by the other.  It began by Peter creating three assets in cocoMDS1.  Erin then connected to cocoMDS2 and she could also see these assets.  Then Erin was able to attach a comment to one of those assets through cocoMDS2 and Peter was then able to response through cocoMDS1.\n",
    "\n",
    "Hence this is a truly distributed catalogue.\n",
    "\n",
    "\n",
    "![Figure 3](../images/distributed-asset-with-comments.png)\n",
    "> **Figure 3:** Asset and Comments distributed across 2 servers\n"
   ]
  },
  {
   "cell_type": "markdown",
   "metadata": {},
   "source": [
    "----\n",
    "## Exercise 3 - controlling access to assets\n",
    "\n",
    "In the next exercise we will consider how organizations control the visability of assets.\n",
    "Peter and Erin are joined by their colleague Callie Quartile, a data scientist working in the research team.\n",
    "\n",
    "![Callie Quartile](https://raw.githubusercontent.com/odpi/data-governance/master/docs/coco-pharmaceuticals/personas/callie-quartile.png)\n",
    "\n",
    "Callie's userId is `calliequartile`."
   ]
  },
  {
   "cell_type": "code",
   "execution_count": null,
   "metadata": {},
   "outputs": [],
   "source": [
    "calliesUserId = 'calliequartile'"
   ]
  },
  {
   "cell_type": "markdown",
   "metadata": {},
   "source": [
    "----\n",
    "## Bonus material\n",
    "\n",
    "This final section is an opportunity to dig a little deeper into the workings of Egeria.\n",
    "\n",
    "The APIs used in the exercises above are from the access services - or Open Metadata Access Services (OMASs) to give them their formal name.  These APIs are domain specific - designed to use by tools, engines and platforms.\n",
    "\n",
    "Underneath the access services are the repository services (Open Metadata Repository Services (OMRS)) and the platform services (Open Metadata and Governance (OMAG) Server Platform Services).\n",
    "\n",
    "The repository services manage the exchange of metadata between servers.  The platform services provide a platform for running Egeria servers such as cocoMDS1 and cocoMDS2.\n"
   ]
  },
  {
   "cell_type": "markdown",
   "metadata": {},
   "source": [
    "### Repository services\n",
    "\n",
    "The repository services provide the ability for metadata to be accessed and exchanged from different servers.\n",
    "Each server that has a repository (store) of metadata is assigned a **metadata collection id**.  This is a unique identifer that is associated with all metadata that originates from that repository.\n",
    "\n",
    "The command below extracts the metadata collection id for cocoMDS1."
   ]
  },
  {
   "cell_type": "code",
   "execution_count": null,
   "metadata": {},
   "outputs": [],
   "source": [
    "server1RepositoryServicesURL = server1PlatformURL + '/servers/' + server1 + '/open-metadata/repository-services/users/' + adminUserId \n",
    "server1MetadataColectionIdQuery = server1RepositoryServicesURL + '/metadata-collection-id'\n",
    "\n",
    "print (\" \")\n",
    "print (\"GET \" + server1MetadataColectionIdQuery)\n",
    "\n",
    "response = requests.get(server1MetadataColectionIdQuery)\n",
    "\n",
    "print (\"Returns:\")\n",
    "prettyResponse = json.dumps(response.json(), indent=4)\n",
    "print (prettyResponse)\n",
    "print (\" \")\n",
    "\n",
    "serverStatus = response.json().get('relatedHTTPCode')\n",
    "if serverStatus == 200:\n",
    "    cocoMDS1MetadataCollectionId = response.json().get('metadataCollectionId')\n",
    "    print(\"Metadata collection id for \" + server1 + \" is \" + cocoMDS1MetadataCollectionId)\n",
    "else:\n",
    "    print(\"Server \" + server1 + \" is not able to supply a metadata collection id\")"
   ]
  },
  {
   "cell_type": "markdown",
   "metadata": {},
   "source": [
    "----\n",
    "Now we extract the metadata collection id for cocoMDS2."
   ]
  },
  {
   "cell_type": "code",
   "execution_count": null,
   "metadata": {},
   "outputs": [],
   "source": [
    "server2RepositoryServicesURL = server2PlatformURL + '/servers/' + server2 + '/open-metadata/repository-services/users/' + adminUserId \n",
    "server2MetadataColectionIdQuery = server2RepositoryServicesURL + '/metadata-collection-id'\n",
    "\n",
    "print (\" \")\n",
    "print (\"GET \" + server2MetadataColectionIdQuery)\n",
    "\n",
    "response = requests.get(server2MetadataColectionIdQuery)\n",
    "\n",
    "print (\"Returns:\")\n",
    "prettyResponse = json.dumps(response.json(), indent=4)\n",
    "print (prettyResponse)\n",
    "print (\" \")\n",
    "\n",
    "serverStatus = response.json().get('relatedHTTPCode')\n",
    "if serverStatus == 200:\n",
    "    cocoMDS2MetadataCollectionId = response.json().get('metadataCollectionId')\n",
    "    print(\"Metadata collection id for \" + server2 + \" is \" + cocoMDS2MetadataCollectionId)\n",
    "else:\n",
    "    print(\"Server \" + server2 + \" is not able to supply a metadata collection id\")"
   ]
  },
  {
   "cell_type": "markdown",
   "metadata": {},
   "source": [
    "----\n",
    "\n",
    "The metadata collection id is allocated when the server is first configured.  Once the server starts sharing metadata, the metadata collection id must never change as it is used in the metadata repository to identify where each piece of metadata came from.\n",
    "\n",
    "The cocoMDS4 server does not have a repository and uses federated queries to retrieve metadata from other servers."
   ]
  },
  {
   "cell_type": "code",
   "execution_count": null,
   "metadata": {},
   "outputs": [],
   "source": [
    "server4            = \"cocoMDS4\"\n",
    "server4PlatformURL = dataLakePlatformURL\n",
    "\n",
    "server4RepositoryServicesURL = server4PlatformURL + '/servers/' + server4 + '/open-metadata/repository-services/users/' + adminUserId \n",
    "server4MetadataColectionIdQuery = server4RepositoryServicesURL + '/metadata-collection-id'\n",
    "\n",
    "print (\" \")\n",
    "print (\"GET \" + server4MetadataColectionIdQuery)\n",
    "\n",
    "response = requests.get(server4MetadataColectionIdQuery)\n",
    "\n",
    "print (\"Returns:\")\n",
    "prettyResponse = json.dumps(response.json(), indent=4)\n",
    "print (prettyResponse)\n",
    "print (\" \")\n",
    "\n",
    "serverStatus = response.json().get('relatedHTTPCode')\n",
    "if serverStatus == 200:\n",
    "    cocoMDS2MetadataCollectionId = response.json().get('metadataCollectionId')\n",
    "    print(\"Metadata collection id for \" + server4 + \" is \" + cocoMDS4MetadataCollectionId)\n",
    "else:\n",
    "    print(\"Server \" + server4 + \" is not able to supply a metadata collection id\")"
   ]
  },
  {
   "cell_type": "markdown",
   "metadata": {},
   "source": [
    "----\n",
    "This result is also a demonstration of the error handling in Egeria. All errors consist of a message, system action and user response."
   ]
  },
  {
   "cell_type": "markdown",
   "metadata": {},
   "source": [
    "----\n",
    "Metadata instances such as the Assets and Comments that you were working with in Exercises 1 and 2 are stored in the repository as entities.  These entities are linked together with relationships (it is a logical graph model).\n",
    "\n",
    "The command below uses the respository services to retrieve one of the assets created in exercise 1"
   ]
  },
  {
   "cell_type": "code",
   "execution_count": null,
   "metadata": {},
   "outputs": [],
   "source": [
    "server2AssetEntityQuery = server2RepositoryServicesURL + '/instances/entity/' + asset1guid\n",
    "\n",
    "print (\" \")\n",
    "print (\"GET \" + server2AssetEntityQuery)\n",
    "\n",
    "response = requests.get(server2AssetEntityQuery)\n",
    "\n",
    "print (\"Returns:\")\n",
    "prettyResponse = json.dumps(response.json(), indent=4)\n",
    "print (prettyResponse)\n",
    "print (\" \")"
   ]
  },
  {
   "cell_type": "markdown",
   "metadata": {},
   "source": [
    "The entity includes its type definition and the properties of the asset.  Also notice the metadata collection id for cocoMDS1 around the middle of the structure.\n",
    "\n",
    "Contrast the asset entity with the comment that Erin created.  Notice the type information is different, and the metadata collection id for cocoMDS2."
   ]
  },
  {
   "cell_type": "code",
   "execution_count": null,
   "metadata": {},
   "outputs": [],
   "source": [
    "server2CommentEntityQuery = server2RepositoryServicesURL + '/instances/entity/' + commentGUID\n",
    "\n",
    "print (\" \")\n",
    "print (\"GET \" + server2CommentEntityQuery)\n",
    "\n",
    "response = requests.get(server2CommentEntityQuery)\n",
    "\n",
    "print (\"Returns:\")\n",
    "prettyResponse = json.dumps(response.json(), indent=4)\n",
    "print (prettyResponse)\n",
    "print (\" \")"
   ]
  },
  {
   "cell_type": "markdown",
   "metadata": {},
   "source": [
    "----\n",
    "Finally, consider the relationship between the asset and the comment.  It includes summary information about the two entities (called an **entity proxy**).  This is how it is possible to transmit and even store relationships independently of the entities."
   ]
  },
  {
   "cell_type": "code",
   "execution_count": null,
   "metadata": {},
   "outputs": [],
   "source": [
    "server2AssetRelationshipQuery = server2RepositoryServicesURL + '/instances/entity/' + asset1guid + '/relationships'\n",
    "\n",
    "print (\" \")\n",
    "print (\"POST \" + server2AssetRelationshipQuery)\n",
    "\n",
    "relationshipRequestBody={\n",
    "\t\"class\" : \"TypeLimitedFindRequest\",\n",
    "\t\"offset\" : \"0\",\n",
    "\t\"pageSize\" : \"100\" \n",
    "}\n",
    "response = requests.post(server2AssetRelationshipQuery, json=relationshipRequestBody, headers=jsonHeader)\n",
    "\n",
    "print (\"Returns:\")\n",
    "prettyResponse = json.dumps(response.json(), indent=4)\n",
    "print (prettyResponse)\n",
    "print (\" \")\n",
    "\n"
   ]
  },
  {
   "cell_type": "markdown",
   "metadata": {},
   "source": [
    "Which server was the relationship created in?"
   ]
  },
  {
   "cell_type": "markdown",
   "metadata": {},
   "source": [
    "----\n",
    "#### Open Metadata Cohorts\n",
    "\n",
    "The metadata exchange between the servers is a peer-to-peer protocol.  Each server registers with one or more open metadata cohorts.  \n",
    "\n",
    "Figure 4 shows which metadata servers belong to each cohort.\n",
    "\n",
    "![Figure 4](../images/coco-pharmaceuticals-systems-metadata-servers.png)\n",
    "> **Figure 4:** Membership of Coco Pharmaceuticals' cohorts\n",
    "\n",
    "----\n",
    "The command below queries cocoMDS2's view of the cohorts"
   ]
  },
  {
   "cell_type": "code",
   "execution_count": null,
   "metadata": {},
   "outputs": [],
   "source": [
    "server2cohortURLcore =  server2RepositoryServicesURL + '/metadata-highway'\n",
    "\n",
    "import pprint\n",
    "import json\n",
    "\n",
    "print (\" \")\n",
    "print (\"Querying cohorts for \" + server2 + \" ...\")\n",
    "url = server2cohortURLcore + '/cohort-descriptions'\n",
    "print (\"GET \" + url)\n",
    "\n",
    "response = requests.get(url)\n",
    "\n",
    "print (\" \")\n",
    "\n",
    "serverStatus = response.json().get('relatedHTTPCode')\n",
    "if serverStatus == 200:\n",
    "    cohorts = response.json().get('cohorts')\n",
    "    cohort1 = cohorts[0]\n",
    "    cohort1Name = cohort1.get('cohortName')\n",
    "    print(\"Cohort 1 for \" + server2 + \" is \" + cohort1Name)\n",
    "    cohort2 = cohorts[1]\n",
    "    cohort2Name = cohort2.get('cohortName')\n",
    "    print(\"Cohort 2 for \" + server2 + \" is \" + cohort2Name)\n",
    "    cohort3 = cohorts[2]\n",
    "    cohort3Name = cohort3.get('cohortName')\n",
    "    print(\"Cohort 3 for \" + server2 + \" is \" + cohort3Name)\n",
    "else:\n",
    "    prettyResponse = json.dumps(response.json(), indent=4)\n",
    "    print (prettyResponse)\n",
    "    print (\" \")"
   ]
  },
  {
   "cell_type": "markdown",
   "metadata": {},
   "source": [
    "----\n",
    "There are more examples and explanation about the way that the cohorts work in the **Understanding Cohorts** notebook.\n"
   ]
  },
  {
   "cell_type": "markdown",
   "metadata": {},
   "source": [
    "----\n",
    "### Metadata security\n",
    "\n",
    "Security of metadata is extremely important.  Egeria has multiple levels of security so that access to individual metadata instances can be controlled.  The command below is a simple test when an unauthorized user tries to access one of Coco Pharmaceutical metadata servers.\n"
   ]
  },
  {
   "cell_type": "code",
   "execution_count": null,
   "metadata": {},
   "outputs": [],
   "source": [
    "unauthorizedUserQuery = server2PlatformURL + '/servers/' + server2 + '/open-metadata/repository-services/users/evilEdna/metadata-collection-id'\n",
    "\n",
    "print (\" \")\n",
    "print (\"GET \" + unauthorizedUserQuery)\n",
    "\n",
    "response = requests.get(unauthorizedUserQuery)\n",
    "\n",
    "print (\"Returns:\")\n",
    "prettyResponse = json.dumps(response.json(), indent=4)\n",
    "print (prettyResponse)\n",
    "print (\" \")"
   ]
  },
  {
   "cell_type": "markdown",
   "metadata": {},
   "source": [
    "----\n",
    "### Platform services\n",
    "\n",
    "The platform services are for the infrastructure team running an Egeria service.  In the case of a cloud service, this may be a different organization to the metadata owners.  As a result, there is a separation of users able to work with the platform services verses the access and repository services.\n",
    "\n",
    "This first command queries the servers running on a platform."
   ]
  },
  {
   "cell_type": "code",
   "execution_count": null,
   "metadata": {},
   "outputs": [],
   "source": [
    "corePlatformServices = corePlatformURL + '/open-metadata/platform-services/users/' + adminUserId + '/server-platform'\n",
    "corePlatformServers  = corePlatformServices + '/servers'\n",
    "\n",
    "print (\" \")\n",
    "print (\"CorePlatform's Servers \")\n",
    "print (\"GET \" + corePlatformServers)\n",
    "\n",
    "response = requests.get(corePlatformServers)\n",
    "\n",
    "print (\"Returns:\")\n",
    "prettyResponse = json.dumps(response.json(), indent=4)\n",
    "print (prettyResponse)\n",
    "print (\" \")\n",
    "\n",
    "dataLakePlatformServices = dataLakePlatformURL + '/open-metadata/platform-services/users/' + adminUserId + '/server-platform'\n",
    "dataLakePlatformServers  = dataLakePlatformServices + '/servers'\n",
    "\n",
    "print (\" \")\n",
    "print (\"DataLakePlatform's Servers \")\n",
    "print (\"GET \" + dataLakePlatformServers)\n",
    "\n",
    "response = requests.get(dataLakePlatformServers)\n",
    "\n",
    "print (\"Returns:\")\n",
    "prettyResponse = json.dumps(response.json(), indent=4)\n",
    "print (prettyResponse)\n",
    "print (\" \")"
   ]
  },
  {
   "cell_type": "markdown",
   "metadata": {},
   "source": [
    "----\n",
    "This last command queries the services active on server 1"
   ]
  },
  {
   "cell_type": "code",
   "execution_count": null,
   "metadata": {},
   "outputs": [],
   "source": [
    "server1Services = dataLakePlatformServices + '/servers/' + server1 + '/services'\n",
    "\n",
    "print (\" \")\n",
    "print (server1 + \" services \")\n",
    "print (\"GET \" + server1Services)\n",
    "\n",
    "response = requests.get(server1Services)\n",
    "\n",
    "print (\"Returns:\")\n",
    "prettyResponse = json.dumps(response.json(), indent=4)\n",
    "print (prettyResponse)\n",
    "print (\" \")"
   ]
  },
  {
   "cell_type": "code",
   "execution_count": null,
   "metadata": {},
   "outputs": [],
   "source": []
  }
 ],
 "metadata": {
  "kernelspec": {
   "display_name": "Python 3",
   "language": "python",
   "name": "python3"
  },
  "language_info": {
   "codemirror_mode": {
    "name": "ipython",
    "version": 3
   },
   "file_extension": ".py",
   "mimetype": "text/x-python",
   "name": "python",
   "nbconvert_exporter": "python",
   "pygments_lexer": "ipython3",
   "version": "3.7.3"
  }
 },
 "nbformat": 4,
 "nbformat_minor": 2
}
