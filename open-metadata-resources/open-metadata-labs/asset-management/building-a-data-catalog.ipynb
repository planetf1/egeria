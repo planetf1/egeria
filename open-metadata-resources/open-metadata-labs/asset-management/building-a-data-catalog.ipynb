{
 "cells": [
  {
   "cell_type": "markdown",
   "metadata": {},
   "source": [
    "![Egeria Logo](https://raw.githubusercontent.com/odpi/egeria/master/assets/img/ODPi_Egeria_Logo_color.png)\n",
    "\n",
    "### ODPi Egeria Hands-On Lab\n",
    "# Welcome to the Building a Data Catalog Lab"
   ]
  },
  {
   "cell_type": "markdown",
   "metadata": {},
   "source": [
    "## Introduction\n",
    "\n",
    "ODPi Egeria is an open source project that provides open standards and implementation libraries to connect tools, catalogues and platforms together so they can share information about data and technology (called metadata).\n",
    "\n",
    "In this hands-on lab you will get a chance to run an Egeria metadata server, build a simple catalog of data sets, connect this server to another Egeria metadata server and then experiment with attaching feedback (comments) to the catalog entries from either server.  This feedback can be seen linked to the catalog entries from both servers."
   ]
  },
  {
   "cell_type": "markdown",
   "metadata": {},
   "source": [
    "## The Scenario\n",
    "\n",
    "The ODPi Egeria team use the personas from the fictitious company called Coco Pharmaceuticals.  (See https://opengovernance.odpi.org/coco-pharmaceuticals/ for more information).\n",
    "\n",
    "The two main character engaged in this scenario are Peter Profile and Erin Overview.\n",
    "\n",
    "![Peter and Erin](../images/peter-and-erin.png)"
   ]
  },
  {
   "cell_type": "code",
   "execution_count": null,
   "metadata": {},
   "outputs": [],
   "source": [
    "petersUserId = \"peterprofile\"\n",
    "erinsUserId  = \"erinoverview\""
   ]
  },
  {
   "cell_type": "markdown",
   "metadata": {},
   "source": [
    "Peter and Erin are cataloguing new data sets that have been received from a hospital.  These data sets are part of a clinical trial that the hospital is participating in."
   ]
  },
  {
   "cell_type": "markdown",
   "metadata": {},
   "source": [
    "## Setting up\n",
    "\n",
    "Coco Pharmaceuticals make widespread use of ODPi Egeria for tracking and managing their data and related assets.\n",
    "Figure 1 below shows the metadata servers and the platforms that are hosting them.\n",
    "\n",
    "![Figure 1](../images/coco-pharmaceuticals-systems-omag-server-platforms.png)\n",
    "> **Figure 1:** Coco Pharmaceuticals' OMAG Server Platforms\n",
    "\n",
    "Peter is using the data lake operations metadata server called `cocoMDS1`. This server is hosted on the Data Lake OMAG Server Platform."
   ]
  },
  {
   "cell_type": "code",
   "execution_count": null,
   "metadata": {},
   "outputs": [],
   "source": [
    "server1            = \"cocoMDS1\"\n",
    "server1PlatformURL = \"http://localhost:8081\""
   ]
  },
  {
   "cell_type": "markdown",
   "metadata": {},
   "source": [
    "The following request checks that this server is running."
   ]
  },
  {
   "cell_type": "code",
   "execution_count": null,
   "metadata": {},
   "outputs": [],
   "source": [
    "import requests\n",
    "import pprint\n",
    "import json\n",
    "\n",
    "adminUserId = \"garygeeke\"\n",
    "\n",
    "isServer1ActiveURL = server1PlatformURL + \"/open-metadata/platform-services/users/\" + adminUserId + \"/server-platform/servers/\" + server1 + \"/status\"\n",
    "\n",
    "print (\" \")\n",
    "print (\"GET \" + isServer1ActiveURL)\n",
    "print (\" \")\n",
    "\n",
    "response = requests.get(isServer1ActiveURL)\n",
    "\n",
    "print (\"Returns:\")\n",
    "prettyResponse = json.dumps(response.json(), indent=4)\n",
    "print (prettyResponse)\n",
    "print (\" \")\n",
    "\n",
    "serverStatus = response.json().get('active')\n",
    "if serverStatus == True:\n",
    "    print(\"Server \" + server1 + \" is active - ready to begin\")\n",
    "else:\n",
    "    print(\"Server \" + server1 + \" is down - start it before proceeding\")\n"
   ]
  },
  {
   "cell_type": "markdown",
   "metadata": {},
   "source": [
    "----\n",
    "If you see `Server cocoMDS1 is active - ready to begin` then the server is running.  If the server is down, follow the instructions in the **Managing Servers** to start the server."
   ]
  },
  {
   "cell_type": "markdown",
   "metadata": {},
   "source": [
    "## Exercise 1\n",
    "\n",
    "### Adding assets to the catalog\n",
    "\n",
    "In the first exercise, Peter Profile is adding new data sets (assets) to the catalog. "
   ]
  },
  {
   "cell_type": "markdown",
   "metadata": {},
   "source": [
    "Peter needs to use the **Asset Owner** Open Metadata Access Service (OMAS) to manage assets in the catalog.  All of the request for the Asset Owner OMAS begin with the following URL root."
   ]
  },
  {
   "cell_type": "code",
   "execution_count": null,
   "metadata": {},
   "outputs": [],
   "source": [
    "server1AssetOwnerURL = server1PlatformURL + '/servers/' + server1 + '/open-metadata/access-services/asset-owner/users/' + petersUserId "
   ]
  },
  {
   "cell_type": "markdown",
   "metadata": {},
   "source": [
    "First Peter will query the current list of Clinical Trial Assets from cocoMDS1"
   ]
  },
  {
   "cell_type": "code",
   "execution_count": null,
   "metadata": {},
   "outputs": [],
   "source": [
    "\n",
    "getAssetsURL = server1AssetOwnerURL + '/assets/by-name?startFrom=0&pageSize=50'\n",
    "searchString=\"Drop Foot\"\n",
    "\n",
    "print (\" \")\n",
    "print (\"GET \" + getAssetsURL)\n",
    "print (\"{ \" + searchString + \" }\")\n",
    "print (\" \")\n",
    "\n",
    "response=requests.post(getAssetsURL, data=searchString)\n",
    "\n",
    "print (\"Returns:\")\n",
    "prettyResponse = json.dumps(response.json(), indent=4)\n",
    "print (prettyResponse)\n",
    "print (\" \")\n",
    "\n",
    "if response.json().get('assets'):\n",
    "    if len(response.json().get('assets')) == 1:\n",
    "        print (\"1 asset found\")\n",
    "    else:\n",
    "        print (str(len(response.json().get('assets'))) + \" assets found\")\n",
    "else:\n",
    "    print (\"No assets found\")\n"
   ]
  },
  {
   "cell_type": "markdown",
   "metadata": {},
   "source": [
    "----\n",
    "We can see here that no assets are returned as the repository is empty."
   ]
  },
  {
   "cell_type": "markdown",
   "metadata": {},
   "source": [
    "#### Adding weekly clinical trial assets\n"
   ]
  },
  {
   "cell_type": "markdown",
   "metadata": {},
   "source": [
    "Peter is now going to create three weeks of clinical asset data. These are 3 data sets. We'll start with week 1"
   ]
  },
  {
   "cell_type": "code",
   "execution_count": null,
   "metadata": {},
   "outputs": [],
   "source": [
    "createAssetURL = server1AssetOwnerURL + '/assets/csv-files'\n",
    "print (createAssetURL)\n",
    "\n",
    "jsonHeader = {'content-type':'application/json'}\n",
    "body = {\n",
    "\t\"class\" : \"NewFileAssetRequestBody\",\n",
    "\t\"displayName\" : \"Week 1: Drop Foot Clinical Trial Measurements\",\n",
    "\t\"description\" : \"One week's data covering foot angle, hip displacement and mobility measurements.\",\n",
    "\t\"fullPath\" : \"file://secured/research/clinical-trials/drop-foot/DropFootMeasurementsWeek1.csv\"\n",
    "}\n",
    "\n",
    "response=requests.post(createAssetURL, json=body, headers=jsonHeader)\n",
    "\n",
    "response.json()\n"
   ]
  },
  {
   "cell_type": "markdown",
   "metadata": {},
   "source": [
    "----\n",
    "Notice the response includes a property called “guid”.  This is the unique identifier of the asset and we need to save it away in a variable to use later"
   ]
  },
  {
   "cell_type": "code",
   "execution_count": null,
   "metadata": {},
   "outputs": [],
   "source": [
    "asset1guid=response.json().get('guid')\n",
    "\n",
    "print (\" \")\n",
    "print (\"The guid for asset 1 is: \" + asset1guid)\n",
    "print (\" \")\n"
   ]
  },
  {
   "cell_type": "markdown",
   "metadata": {},
   "source": [
    "----\n",
    "Now let's take a look again at what assets are in the repository using the same get request we used earlier.\n"
   ]
  },
  {
   "cell_type": "code",
   "execution_count": null,
   "metadata": {},
   "outputs": [],
   "source": [
    "\n",
    "print (\" \")\n",
    "print (\"GET \" + getAssetsURL)\n",
    "print (\"{ \" + searchString + \" }\")\n",
    "print (\" \")\n",
    "\n",
    "response=requests.post(getAssetsURL, data=searchString)\n",
    "\n",
    "print (\"Returns:\")\n",
    "prettyResponse = json.dumps(response.json(), indent=4)\n",
    "print (prettyResponse)\n",
    "print (\" \")\n",
    "\n",
    "if response.json().get('assets'):\n",
    "    if len(response.json().get('assets')) == 1:\n",
    "        print (\"1 asset found\")\n",
    "    else:\n",
    "        print (str(len(response.json().get('assets'))) + \" assets found\")\n",
    "else:\n",
    "    print (\"No assets found\")\n"
   ]
  },
  {
   "cell_type": "markdown",
   "metadata": {},
   "source": [
    "----\n",
    "\n",
    "Peter is now going to add the next two weeks of assets"
   ]
  },
  {
   "cell_type": "code",
   "execution_count": null,
   "metadata": {},
   "outputs": [],
   "source": [
    "\n",
    "\n",
    "csvbody2 = {\n",
    "\t\"class\" : \"NewFileAssetRequestBody\",\n",
    "\t\"displayName\" : \"Week 2: Drop Foot Clinical Trial Measurements\",\n",
    "\t\"description\" : \"One week's data covering foot angle, hip displacement and mobility measurements.\",\n",
    "\t\"fullPath\" : \"file://secured/research/clinical-trials/drop-foot/DropFootMeasurementsWeek2.csv\"\n",
    "}\n",
    "\n",
    "response2=requests.post(createAssetURL, json=csvbody2, headers=jsonHeader)\n",
    "\n",
    "print (\"Second request responded with:\" + str(response2.status_code))\n",
    "\n",
    "asset2guid=response2.json().get('guid')\n",
    "\n",
    "\n",
    "csvbody3 = {\n",
    "\t\"class\" : \"NewFileAssetRequestBody\",\n",
    "\t\"displayName\" : \"Week 3: Drop Foot Clinical Trial Measurements\",\n",
    "\t\"description\" : \"One week's data covering foot angle, hip displacement and mobility measurements.\",\n",
    "\t\"fullPath\" : \"file://secured/research/clinical-trials/drop-foot/DropFootMeasurementsWeek3.csv\"\n",
    "}\n",
    "\n",
    "response3=requests.post(createAssetURL, json=csvbody3, headers=jsonHeader)\n",
    "\n",
    "print (\"Third request responded with:\"  + str(response3.status_code))\n",
    "\n",
    "asset3guid=response3.json().get('guid')\n",
    "\n",
    "print (\" \")\n",
    "print ('Asset 1 guid is: ' + asset1guid)\n",
    "print ('Asset 2 guid is: ' + asset2guid)\n",
    "print ('Asset 3 guid is: ' + asset3guid)\n"
   ]
  },
  {
   "cell_type": "markdown",
   "metadata": {},
   "source": [
    "----\n",
    "And let's look again at the assets we have:"
   ]
  },
  {
   "cell_type": "code",
   "execution_count": null,
   "metadata": {},
   "outputs": [],
   "source": [
    "\n",
    "print (\" \")\n",
    "print (\"GET \" + getAssetsURL)\n",
    "print (\"{ \" + searchString + \" }\")\n",
    "print (\" \")\n",
    "\n",
    "response=requests.post(getAssetsURL, data=searchString)\n",
    "\n",
    "print (\"Returns:\")\n",
    "prettyResponse = json.dumps(response.json(), indent=4)\n",
    "print (prettyResponse)\n",
    "print (\" \")\n",
    "\n",
    "if response.json().get('assets'):\n",
    "    if len(response.json().get('assets')) == 1:\n",
    "        print (\"1 asset found\")\n",
    "    else:\n",
    "        print (str(len(response.json().get('assets'))) + \" assets found\")\n",
    "else:\n",
    "    print (\"No assets found\")\n"
   ]
  },
  {
   "cell_type": "markdown",
   "metadata": {},
   "source": [
    "----\n",
    "Peter has successfully created three assets:"
   ]
  },
  {
   "cell_type": "code",
   "execution_count": null,
   "metadata": {},
   "outputs": [],
   "source": [
    "print (\" \")\n",
    "print ('Asset 1 guid is: ' + asset1guid)\n",
    "print ('Asset 2 guid is: ' + asset2guid)\n",
    "print ('Asset 3 guid is: ' + asset3guid)"
   ]
  },
  {
   "cell_type": "markdown",
   "metadata": {},
   "source": [
    "## Exercise 2 - Sharing the catalog and adding feedback"
   ]
  },
  {
   "cell_type": "markdown",
   "metadata": {},
   "source": [
    "In exercise 2 we are going to start working with a second metadata repository server called cocoMDS2.  We will connect it to the same open metadata repository cohort as cocoMDS1 and show that they can share metadata in both directions."
   ]
  },
  {
   "cell_type": "markdown",
   "metadata": {},
   "source": [
    "### Bringing cocoMDS2 into the cohort\n",
    "\n",
    "First let us test that the repository is empty and disconnected.\n",
    "\n",
    "We'll begin like before with gary starting up a server, but it will be another user, Erin that looks up metadata in the server - and finds it empty\n"
   ]
  },
  {
   "cell_type": "code",
   "execution_count": null,
   "metadata": {},
   "outputs": [],
   "source": [
    "print('Starting server 2 ....')\n",
    "\n",
    "coreURLroot = \"http://localhost:8081\"\n",
    "server2=\"cocoMDS2\"\n",
    "\n",
    "url=coreURLroot + '/open-metadata/admin-services/users/' + adminUserId + '/servers/' + server2 + '/instance'\n",
    "\n",
    "print (url)\n",
    "\n",
    "response=requests.post(url)\n",
    "\n",
    "response.json()\n"
   ]
  },
  {
   "cell_type": "code",
   "execution_count": null,
   "metadata": {},
   "outputs": [],
   "source": [
    "print ('Checking contents of server (Erin)')\n",
    "\n",
    "\n",
    "\n",
    "assetUrl=coreURLroot + '/servers/' + server2 + '/open-metadata/access-services/asset-owner/users/' + erinsUserId \n",
    "url=assetUrl + '/assets/by-name?startFrom=0&pageSize=50'\n",
    "print (url)\n",
    "\n",
    "body=\"Drop Foot\"\n",
    "response=requests.post(url,data=body)\n",
    "\n",
    "response.json()"
   ]
  },
  {
   "cell_type": "markdown",
   "metadata": {},
   "source": [
    "Now we are going to shutdown cocoMDS2 in order to join it to the cohort\n"
   ]
  },
  {
   "cell_type": "code",
   "execution_count": null,
   "metadata": {},
   "outputs": [],
   "source": [
    "print('Stopping server 2 ....')\n",
    "\n",
    "url=coreURLroot + '/open-metadata/admin-services/users/' + adminUserId + '/servers/' + server2 + '/instance'\n",
    "\n",
    "print (url)\n",
    "\n",
    "response=requests.delete(url)\n",
    "\n",
    "response.json()"
   ]
  },
  {
   "cell_type": "markdown",
   "metadata": {},
   "source": [
    "Now we are going to add server 2 into the cohort"
   ]
  },
  {
   "cell_type": "code",
   "execution_count": null,
   "metadata": {},
   "outputs": [],
   "source": [
    "cohortName=\"cocoCohort\"\n",
    "url=coreURLroot + '/open-metadata/admin-services/users/' + adminUserId + '/servers/' + server2 + '/cohorts/' + cohortName\n",
    "\n",
    "print (url)\n",
    "\n",
    "response=requests.delete(url)\n",
    "\n",
    "response.json()"
   ]
  },
  {
   "cell_type": "markdown",
   "metadata": {},
   "source": [
    "Now we'll restart the server and allow it to join into the cohort"
   ]
  },
  {
   "cell_type": "code",
   "execution_count": null,
   "metadata": {},
   "outputs": [],
   "source": [
    "print('Starting server 2 ....')\n",
    "\n",
    "url=coreURLroot + '/open-metadata/admin-services/users/' + adminUserId + '/servers/' + server2 + '/instance'\n",
    "\n",
    "print (url)\n",
    "\n",
    "response=requests.post(url)\n",
    "\n",
    "response.json()\n"
   ]
  },
  {
   "cell_type": "markdown",
   "metadata": {},
   "source": [
    "Let's see what assets server2 now knows about"
   ]
  },
  {
   "cell_type": "code",
   "execution_count": null,
   "metadata": {},
   "outputs": [],
   "source": [
    "assetUrl=coreURLroot + '/servers/' + server2 + '/open-metadata/access-services/asset-owner/users/' + erinsUserId \n",
    "url=assetUrl + '/assets/by-name?startFrom=0&pageSize=50'\n",
    "print (url)\n",
    "\n",
    "body=\"Drop Foot\"\n",
    "response=requests.post(url,data=body)\n",
    "\n",
    "print (\"Returns:\")\n",
    "prettyResponse = json.dumps(response.json(), indent=4)\n",
    "print (prettyResponse)\n",
    "print (\" \")"
   ]
  },
  {
   "cell_type": "markdown",
   "metadata": {},
   "source": [
    "Let's see what the configuration of the server is\n"
   ]
  },
  {
   "cell_type": "code",
   "execution_count": null,
   "metadata": {},
   "outputs": [],
   "source": [
    "url=platformURLroot + '/open-metadata/admin-services/users/' + adminUserId + '/servers/' + server1 + '/configuration'\n",
    "\n",
    "print (url)\n",
    "\n",
    "response=requests.get(url)\n",
    "\n",
    "response.json()"
   ]
  },
  {
   "cell_type": "markdown",
   "metadata": {},
   "source": []
  },
  {
   "cell_type": "code",
   "execution_count": null,
   "metadata": {},
   "outputs": [],
   "source": [
    "corePlatformURL     = \"http://localhost:8080\""
   ]
  }
 ],
 "metadata": {
  "kernelspec": {
   "display_name": "Python 3",
   "language": "python",
   "name": "python3"
  },
  "language_info": {
   "codemirror_mode": {
    "name": "ipython",
    "version": 3
   },
   "file_extension": ".py",
   "mimetype": "text/x-python",
   "name": "python",
   "nbconvert_exporter": "python",
   "pygments_lexer": "ipython3",
   "version": "3.7.3"
  }
 },
 "nbformat": 4,
 "nbformat_minor": 2
}
