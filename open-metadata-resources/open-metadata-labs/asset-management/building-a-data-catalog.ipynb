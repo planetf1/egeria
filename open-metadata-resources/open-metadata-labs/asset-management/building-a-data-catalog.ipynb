{
 "cells": [
  {
   "cell_type": "markdown",
   "metadata": {},
   "source": [
    "![Egeria Logo](https://raw.githubusercontent.com/odpi/egeria/master/assets/img/ODPi_Egeria_Logo_color.png)\n",
    "\n",
    "### ODPi Egeria Hands-On Lab\n",
    "# Welcome to the Building a Data Catalog Lab"
   ]
  },
  {
   "cell_type": "markdown",
   "metadata": {},
   "source": [
    "## Introduction\n",
    "\n",
    "ODPi Egeria is an open source project that provides open standards and implementation libraries to connect tools, catalogues and platforms together so they can share information about data and technology (called metadata).\n",
    "\n",
    "In this hands-on lab you will get a chance to work with three ODPi Egeria metadata servers to build a distributed catalog of data assets and then experiment with attaching feedback (comments) to the catalog entries from different servers."
   ]
  },
  {
   "cell_type": "markdown",
   "metadata": {},
   "source": [
    "## The Scenario\n",
    "\n",
    "The ODPi Egeria team use the personas from the fictitious company called Coco Pharmaceuticals.  (See https://opengovernance.odpi.org/coco-pharmaceuticals/ for more information).\n",
    "\n",
    "The two main character engaged in this scenario are Peter Profile and Erin Overview.\n",
    "\n",
    "![Peter and Erin](../images/peter-and-erin.png)"
   ]
  },
  {
   "cell_type": "code",
   "execution_count": 1,
   "metadata": {},
   "outputs": [],
   "source": [
    "petersUserId = \"peterprofile\"\n",
    "erinsUserId  = \"erinoverview\""
   ]
  },
  {
   "cell_type": "markdown",
   "metadata": {},
   "source": [
    "Peter and Erin are cataloguing new data sets that have been received from a hospital.  These data sets are part of a clinical trial that the hospital is participating in."
   ]
  },
  {
   "cell_type": "markdown",
   "metadata": {},
   "source": [
    "## Setting up\n",
    "\n",
    "Coco Pharmaceuticals make widespread use of ODPi Egeria for tracking and managing their data and related assets.\n",
    "Figure 1 below shows their metadata servers and the platforms that are hosting them.\n",
    "\n",
    "![Figure 1](../images/coco-pharmaceuticals-systems-omag-server-platforms.png)\n",
    "> **Figure 1:** Coco Pharmaceuticals' OMAG Server Platforms"
   ]
  },
  {
   "cell_type": "code",
   "execution_count": 2,
   "metadata": {},
   "outputs": [],
   "source": [
    "import os\n",
    "\n",
    "corePlatformURL     = os.environ.get('corePlatformURL','http://localhost:8080') \n",
    "dataLakePlatformURL = os.environ.get('dataLakePlatformURL','http://localhost:8081') \n",
    "devPlatformURL      = os.environ.get('devPlatformURL','http://localhost:8082')"
   ]
  },
  {
   "cell_type": "markdown",
   "metadata": {},
   "source": [
    "Peter is using the data lake operations metadata server called `cocoMDS1`. This server is hosted on the Data Lake OMAG Server Platform."
   ]
  },
  {
   "cell_type": "code",
   "execution_count": 3,
   "metadata": {},
   "outputs": [],
   "source": [
    "server1            = \"cocoMDS1\"\n",
    "server1PlatformURL = dataLakePlatformURL"
   ]
  },
  {
   "cell_type": "markdown",
   "metadata": {},
   "source": [
    "The following request checks that this server is running."
   ]
  },
  {
   "cell_type": "code",
   "execution_count": 4,
   "metadata": {},
   "outputs": [
    {
     "name": "stdout",
     "output_type": "stream",
     "text": [
      " \n",
      "GET http://localhost:8081/open-metadata/platform-services/users/garygeeke/server-platform/servers/cocoMDS1/status\n",
      " \n",
      "Returns:\n",
      "{\n",
      "    \"relatedHTTPCode\": 200,\n",
      "    \"serverName\": \"cocoMDS1\",\n",
      "    \"serverStartTime\": \"2019-08-14T13:31:35.391+0000\",\n",
      "    \"serverHistory\": [\n",
      "        {\n",
      "            \"startTime\": \"2019-08-14T13:28:59.519+0000\",\n",
      "            \"endTime\": \"2019-08-14T13:29:02.852+0000\"\n",
      "        },\n",
      "        {\n",
      "            \"startTime\": \"2019-08-14T13:29:03.409+0000\",\n",
      "            \"endTime\": \"2019-08-14T13:29:03.905+0000\"\n",
      "        }\n",
      "    ],\n",
      "    \"active\": true\n",
      "}\n",
      " \n",
      "Server cocoMDS1 is active - ready to begin\n"
     ]
    }
   ],
   "source": [
    "import requests\n",
    "import pprint\n",
    "import json\n",
    "\n",
    "adminUserId = \"garygeeke\"\n",
    "\n",
    "isServer1ActiveURL = server1PlatformURL + \"/open-metadata/platform-services/users/\" + adminUserId + \"/server-platform/servers/\" + server1 + \"/status\"\n",
    "\n",
    "print (\" \")\n",
    "print (\"GET \" + isServer1ActiveURL)\n",
    "print (\" \")\n",
    "\n",
    "response = requests.get(isServer1ActiveURL)\n",
    "\n",
    "print (\"Returns:\")\n",
    "prettyResponse = json.dumps(response.json(), indent=4)\n",
    "print (prettyResponse)\n",
    "print (\" \")\n",
    "\n",
    "serverStatus = response.json().get('active')\n",
    "if serverStatus == True:\n",
    "    print(\"Server \" + server1 + \" is active - ready to begin\")\n",
    "else:\n",
    "    print(\"Server \" + server1 + \" is down - start it before proceeding\")\n"
   ]
  },
  {
   "cell_type": "markdown",
   "metadata": {},
   "source": [
    "----\n",
    "If you see `Server cocoMDS1 is active - ready to begin` then the server is running.  If the server is down, follow the instructions in the **Managing Servers** notebook to start the server."
   ]
  },
  {
   "cell_type": "markdown",
   "metadata": {},
   "source": [
    "----\n",
    "## Exercise 1\n",
    "\n",
    "### Adding assets to the catalog\n",
    "\n",
    "In the first exercise, Peter Profile is adding some new data sets (assets) to the catalog. "
   ]
  },
  {
   "cell_type": "markdown",
   "metadata": {},
   "source": [
    "Peter uses the **Asset Owner** Open Metadata Access Service (OMAS) API to manage assets in the catalog.  All of the request for the Asset Owner OMAS begin with the following URL root."
   ]
  },
  {
   "cell_type": "code",
   "execution_count": 5,
   "metadata": {},
   "outputs": [],
   "source": [
    "server1AssetOwnerURL = server1PlatformURL + '/servers/' + server1 + '/open-metadata/access-services/asset-owner/users/' + petersUserId "
   ]
  },
  {
   "cell_type": "markdown",
   "metadata": {},
   "source": [
    "First Peter will query the current list of Clinical Trial Assets from cocoMDS1."
   ]
  },
  {
   "cell_type": "code",
   "execution_count": 6,
   "metadata": {},
   "outputs": [
    {
     "name": "stdout",
     "output_type": "stream",
     "text": [
      " \n",
      "GET http://localhost:8081/servers/cocoMDS1/open-metadata/access-services/asset-owner/users/peterprofile/assets/by-name?startFrom=0&pageSize=50\n",
      "{ Drop Foot }\n",
      " \n",
      "Returns:\n",
      "{\n",
      "    \"class\": \"AssetsResponse\",\n",
      "    \"relatedHTTPCode\": 200,\n",
      "    \"startingFromElement\": 0\n",
      "}\n",
      " \n",
      "No assets found\n"
     ]
    }
   ],
   "source": [
    "\n",
    "server1GetAssetsURL = server1AssetOwnerURL + '/assets/by-name?startFrom=0&pageSize=50'\n",
    "searchString=\"Drop Foot\"\n",
    "\n",
    "print (\" \")\n",
    "print (\"GET \" + server1GetAssetsURL)\n",
    "print (\"{ \" + searchString + \" }\")\n",
    "print (\" \")\n",
    "\n",
    "response=requests.post(server1GetAssetsURL, data=searchString)\n",
    "\n",
    "print (\"Returns:\")\n",
    "prettyResponse = json.dumps(response.json(), indent=4)\n",
    "print (prettyResponse)\n",
    "print (\" \")\n",
    "\n",
    "if response.json().get('assets'):\n",
    "    if len(response.json().get('assets')) == 1:\n",
    "        print (\"1 asset found\")\n",
    "    else:\n",
    "        print (str(len(response.json().get('assets'))) + \" assets found\")\n",
    "else:\n",
    "    print (\"No assets found\")\n"
   ]
  },
  {
   "cell_type": "markdown",
   "metadata": {},
   "source": [
    "----\n",
    "We can see here that no assets are returned as the repository is empty."
   ]
  },
  {
   "cell_type": "markdown",
   "metadata": {},
   "source": [
    "#### Adding weekly clinical trial assets\n"
   ]
  },
  {
   "cell_type": "markdown",
   "metadata": {},
   "source": [
    "Peter is now going to create three weeks of clinical asset data. These are 3 data sets. We'll start with week 1"
   ]
  },
  {
   "cell_type": "code",
   "execution_count": 7,
   "metadata": {},
   "outputs": [
    {
     "name": "stdout",
     "output_type": "stream",
     "text": [
      "http://localhost:8081/servers/cocoMDS1/open-metadata/access-services/asset-owner/users/peterprofile/assets/csv-files\n"
     ]
    },
    {
     "data": {
      "text/plain": [
       "{'relatedHTTPCode': 200, 'guid': 'd365afda-6607-4604-b4db-96e388937b37'}"
      ]
     },
     "execution_count": 7,
     "metadata": {},
     "output_type": "execute_result"
    }
   ],
   "source": [
    "server1CreateAssetURL = server1AssetOwnerURL + '/assets/csv-files'\n",
    "\n",
    "print (\" \")\n",
    "print (\"POST: \" + server1CreateAssetURL)\n",
    "\n",
    "jsonHeader = {'content-type':'application/json'}\n",
    "createAssetBody = {\n",
    "\t\"class\" : \"NewFileAssetRequestBody\",\n",
    "\t\"displayName\" : \"Week 1: Drop Foot Clinical Trial Measurements\",\n",
    "\t\"description\" : \"One week's data covering foot angle, hip displacement and mobility measurements.\",\n",
    "\t\"fullPath\" : \"file://secured/research/clinical-trials/drop-foot/DropFootMeasurementsWeek1.csv\"\n",
    "}\n",
    "\n",
    "response=requests.post(server1CreateAssetURL, json=createAssetBody, headers=jsonHeader)\n",
    "\n",
    "response.json()\n"
   ]
  },
  {
   "cell_type": "markdown",
   "metadata": {},
   "source": [
    "----\n",
    "Notice the response includes a property called “guid”.  This is the unique identifier of the asset and we need to save it away in a variable to use later"
   ]
  },
  {
   "cell_type": "code",
   "execution_count": 8,
   "metadata": {},
   "outputs": [
    {
     "name": "stdout",
     "output_type": "stream",
     "text": [
      " \n",
      "The guid for asset 1 is: d365afda-6607-4604-b4db-96e388937b37\n",
      " \n"
     ]
    }
   ],
   "source": [
    "asset1guid=response.json().get('guid')\n",
    "\n",
    "print (\" \")\n",
    "print (\"The guid for asset 1 is: \" + asset1guid)\n",
    "print (\" \")\n"
   ]
  },
  {
   "cell_type": "markdown",
   "metadata": {},
   "source": [
    "----\n",
    "Now let's take a look again at what assets are in the repository using the same get request we used earlier.\n"
   ]
  },
  {
   "cell_type": "code",
   "execution_count": 9,
   "metadata": {},
   "outputs": [
    {
     "name": "stdout",
     "output_type": "stream",
     "text": [
      " \n",
      "GET http://localhost:8081/servers/cocoMDS1/open-metadata/access-services/asset-owner/users/peterprofile/assets/by-name?startFrom=0&pageSize=50\n",
      "{ Drop Foot }\n",
      " \n",
      "Returns:\n",
      "{\n",
      "    \"class\": \"AssetsResponse\",\n",
      "    \"relatedHTTPCode\": 200,\n",
      "    \"startingFromElement\": 0,\n",
      "    \"assets\": [\n",
      "        {\n",
      "            \"class\": \"Asset\",\n",
      "            \"type\": {\n",
      "                \"class\": \"ElementType\",\n",
      "                \"elementTypeId\": \"2ccb2117-9cee-47ca-8150-9b3a543adcec\",\n",
      "                \"elementTypeName\": \"CSVFile\",\n",
      "                \"elementTypeVersion\": 1,\n",
      "                \"elementTypeDescription\": \"A description of a comma separated value (CSV) file\",\n",
      "                \"elementSourceServer\": \"cocoMDS1\",\n",
      "                \"elementOrigin\": \"LOCAL_COHORT\",\n",
      "                \"elementHomeMetadataCollectionId\": \"45d07079-1793-4ea1-9a50-2bedc7ed4e32\"\n",
      "            },\n",
      "            \"guid\": \"d365afda-6607-4604-b4db-96e388937b37\",\n",
      "            \"extendedProperties\": {\n",
      "                \"quoteCharacter\": \"\\\"\",\n",
      "                \"delimiterCharacter\": \",\"\n",
      "            },\n",
      "            \"qualifiedName\": \"CSVFile:file://secured/research/clinical-trials/drop-foot/DropFootMeasurementsWeek1.csv\",\n",
      "            \"displayName\": \"Week 1: Drop Foot Clinical Trial Measurements\",\n",
      "            \"description\": \"One week's data covering foot angle, hip displacement and mobility measurements.\",\n",
      "            \"owner\": \"peterprofile\",\n",
      "            \"ownerType\": \"USER_ID\",\n",
      "            \"zoneMembership\": [\n",
      "                \"quarantine\"\n",
      "            ],\n",
      "            \"latestChange\": \"Asset created\"\n",
      "        }\n",
      "    ]\n",
      "}\n",
      " \n",
      "1 asset found\n"
     ]
    }
   ],
   "source": [
    "\n",
    "print (\" \")\n",
    "print (\"GET \" + server1GetAssetsURL)\n",
    "print (\"{ \" + searchString + \" }\")\n",
    "print (\" \")\n",
    "\n",
    "response=requests.post(server1GetAssetsURL, data=searchString)\n",
    "\n",
    "print (\"Returns:\")\n",
    "prettyResponse = json.dumps(response.json(), indent=4)\n",
    "print (prettyResponse)\n",
    "print (\" \")\n",
    "\n",
    "if response.json().get('assets'):\n",
    "    if len(response.json().get('assets')) == 1:\n",
    "        print (\"1 asset found\")\n",
    "    else:\n",
    "        print (str(len(response.json().get('assets'))) + \" assets found\")\n",
    "else:\n",
    "    print (\"No assets found\")\n"
   ]
  },
  {
   "cell_type": "markdown",
   "metadata": {},
   "source": [
    "----\n",
    "\n",
    "Peter is now going to add the next two weeks of assets"
   ]
  },
  {
   "cell_type": "code",
   "execution_count": 11,
   "metadata": {},
   "outputs": [
    {
     "name": "stdout",
     "output_type": "stream",
     "text": [
      "Second request responded with: 200\n",
      "Third request responded with: 200\n",
      " \n",
      "Asset 1 guid is: d365afda-6607-4604-b4db-96e388937b37\n",
      "Asset 2 guid is: 2246f0a5-7cd9-47f9-a241-4682b14a717c\n",
      "Asset 3 guid is: 94dec571-c878-4be2-8a34-71b3eb9df242\n"
     ]
    }
   ],
   "source": [
    "\n",
    "csvbody2 = {\n",
    "\t\"class\" : \"NewFileAssetRequestBody\",\n",
    "\t\"displayName\" : \"Week 2: Drop Foot Clinical Trial Measurements\",\n",
    "\t\"description\" : \"One week's data covering foot angle, hip displacement and mobility measurements.\",\n",
    "\t\"fullPath\" : \"file://secured/research/clinical-trials/drop-foot/DropFootMeasurementsWeek2.csv\"\n",
    "}\n",
    "\n",
    "response2=requests.post(createAssetURL, json=csvbody2, headers=jsonHeader)\n",
    "\n",
    "print (\"Second request responded with: \" + str(response2.status_code))\n",
    "\n",
    "asset2guid=response2.json().get('guid')\n",
    "\n",
    "\n",
    "csvbody3 = {\n",
    "\t\"class\" : \"NewFileAssetRequestBody\",\n",
    "\t\"displayName\" : \"Week 3: Drop Foot Clinical Trial Measurements\",\n",
    "\t\"description\" : \"One week's data covering foot angle, hip displacement and mobility measurements.\",\n",
    "\t\"fullPath\" : \"file://secured/research/clinical-trials/drop-foot/DropFootMeasurementsWeek3.csv\"\n",
    "}\n",
    "\n",
    "response3=requests.post(createAssetURL, json=csvbody3, headers=jsonHeader)\n",
    "\n",
    "print (\"Third request responded with: \"  + str(response3.status_code))\n",
    "\n",
    "asset3guid=response3.json().get('guid')\n",
    "\n",
    "print (\" \")\n",
    "print ('Asset 1 guid is: ' + asset1guid)\n",
    "print ('Asset 2 guid is: ' + asset2guid)\n",
    "print ('Asset 3 guid is: ' + asset3guid)\n"
   ]
  },
  {
   "cell_type": "markdown",
   "metadata": {},
   "source": [
    "----\n",
    "Peter has successfully created three assets:"
   ]
  },
  {
   "cell_type": "code",
   "execution_count": 12,
   "metadata": {},
   "outputs": [
    {
     "name": "stdout",
     "output_type": "stream",
     "text": [
      " \n",
      "GET http://localhost:8081/servers/cocoMDS1/open-metadata/access-services/asset-owner/users/peterprofile/assets/by-name?startFrom=0&pageSize=50\n",
      "{ Drop Foot }\n",
      " \n",
      "Returns:\n",
      "{\n",
      "    \"class\": \"AssetsResponse\",\n",
      "    \"relatedHTTPCode\": 200,\n",
      "    \"startingFromElement\": 0,\n",
      "    \"assets\": [\n",
      "        {\n",
      "            \"class\": \"Asset\",\n",
      "            \"type\": {\n",
      "                \"class\": \"ElementType\",\n",
      "                \"elementTypeId\": \"2ccb2117-9cee-47ca-8150-9b3a543adcec\",\n",
      "                \"elementTypeName\": \"CSVFile\",\n",
      "                \"elementTypeVersion\": 1,\n",
      "                \"elementTypeDescription\": \"A description of a comma separated value (CSV) file\",\n",
      "                \"elementSourceServer\": \"cocoMDS1\",\n",
      "                \"elementOrigin\": \"LOCAL_COHORT\",\n",
      "                \"elementHomeMetadataCollectionId\": \"45d07079-1793-4ea1-9a50-2bedc7ed4e32\"\n",
      "            },\n",
      "            \"guid\": \"5a65110c-e478-4ef7-81ef-8d19e31659b0\",\n",
      "            \"extendedProperties\": {\n",
      "                \"quoteCharacter\": \"\\\"\",\n",
      "                \"delimiterCharacter\": \",\"\n",
      "            },\n",
      "            \"qualifiedName\": \"CSVFile:file://secured/research/clinical-trials/drop-foot/DropFootMeasurementsWeek3.csv\",\n",
      "            \"displayName\": \"Week 3: Drop Foot Clinical Trial Measurements\",\n",
      "            \"description\": \"One week's data covering foot angle, hip displacement and mobility measurements.\",\n",
      "            \"owner\": \"peterprofile\",\n",
      "            \"ownerType\": \"USER_ID\",\n",
      "            \"zoneMembership\": [\n",
      "                \"quarantine\"\n",
      "            ],\n",
      "            \"latestChange\": \"Asset created\"\n",
      "        },\n",
      "        {\n",
      "            \"class\": \"Asset\",\n",
      "            \"type\": {\n",
      "                \"class\": \"ElementType\",\n",
      "                \"elementTypeId\": \"2ccb2117-9cee-47ca-8150-9b3a543adcec\",\n",
      "                \"elementTypeName\": \"CSVFile\",\n",
      "                \"elementTypeVersion\": 1,\n",
      "                \"elementTypeDescription\": \"A description of a comma separated value (CSV) file\",\n",
      "                \"elementSourceServer\": \"cocoMDS1\",\n",
      "                \"elementOrigin\": \"LOCAL_COHORT\",\n",
      "                \"elementHomeMetadataCollectionId\": \"45d07079-1793-4ea1-9a50-2bedc7ed4e32\"\n",
      "            },\n",
      "            \"guid\": \"d365afda-6607-4604-b4db-96e388937b37\",\n",
      "            \"extendedProperties\": {\n",
      "                \"quoteCharacter\": \"\\\"\",\n",
      "                \"delimiterCharacter\": \",\"\n",
      "            },\n",
      "            \"qualifiedName\": \"CSVFile:file://secured/research/clinical-trials/drop-foot/DropFootMeasurementsWeek1.csv\",\n",
      "            \"displayName\": \"Week 1: Drop Foot Clinical Trial Measurements\",\n",
      "            \"description\": \"One week's data covering foot angle, hip displacement and mobility measurements.\",\n",
      "            \"owner\": \"peterprofile\",\n",
      "            \"ownerType\": \"USER_ID\",\n",
      "            \"zoneMembership\": [\n",
      "                \"quarantine\"\n",
      "            ],\n",
      "            \"latestChange\": \"Asset created\"\n",
      "        },\n",
      "        {\n",
      "            \"class\": \"Asset\",\n",
      "            \"type\": {\n",
      "                \"class\": \"ElementType\",\n",
      "                \"elementTypeId\": \"2ccb2117-9cee-47ca-8150-9b3a543adcec\",\n",
      "                \"elementTypeName\": \"CSVFile\",\n",
      "                \"elementTypeVersion\": 1,\n",
      "                \"elementTypeDescription\": \"A description of a comma separated value (CSV) file\",\n",
      "                \"elementSourceServer\": \"cocoMDS1\",\n",
      "                \"elementOrigin\": \"LOCAL_COHORT\",\n",
      "                \"elementHomeMetadataCollectionId\": \"45d07079-1793-4ea1-9a50-2bedc7ed4e32\"\n",
      "            },\n",
      "            \"guid\": \"94dec571-c878-4be2-8a34-71b3eb9df242\",\n",
      "            \"extendedProperties\": {\n",
      "                \"quoteCharacter\": \"\\\"\",\n",
      "                \"delimiterCharacter\": \",\"\n",
      "            },\n",
      "            \"qualifiedName\": \"CSVFile:file://secured/research/clinical-trials/drop-foot/DropFootMeasurementsWeek3.csv\",\n",
      "            \"displayName\": \"Week 3: Drop Foot Clinical Trial Measurements\",\n",
      "            \"description\": \"One week's data covering foot angle, hip displacement and mobility measurements.\",\n",
      "            \"owner\": \"peterprofile\",\n",
      "            \"ownerType\": \"USER_ID\",\n",
      "            \"zoneMembership\": [\n",
      "                \"quarantine\"\n",
      "            ],\n",
      "            \"latestChange\": \"Asset created\"\n",
      "        },\n",
      "        {\n",
      "            \"class\": \"Asset\",\n",
      "            \"type\": {\n",
      "                \"class\": \"ElementType\",\n",
      "                \"elementTypeId\": \"2ccb2117-9cee-47ca-8150-9b3a543adcec\",\n",
      "                \"elementTypeName\": \"CSVFile\",\n",
      "                \"elementTypeVersion\": 1,\n",
      "                \"elementTypeDescription\": \"A description of a comma separated value (CSV) file\",\n",
      "                \"elementSourceServer\": \"cocoMDS1\",\n",
      "                \"elementOrigin\": \"LOCAL_COHORT\",\n",
      "                \"elementHomeMetadataCollectionId\": \"45d07079-1793-4ea1-9a50-2bedc7ed4e32\"\n",
      "            },\n",
      "            \"guid\": \"2246f0a5-7cd9-47f9-a241-4682b14a717c\",\n",
      "            \"extendedProperties\": {\n",
      "                \"quoteCharacter\": \"\\\"\",\n",
      "                \"delimiterCharacter\": \",\"\n",
      "            },\n",
      "            \"qualifiedName\": \"CSVFile:file://secured/research/clinical-trials/drop-foot/DropFootMeasurementsWeek2.csv\",\n",
      "            \"displayName\": \"Week 2: Drop Foot Clinical Trial Measurements\",\n",
      "            \"description\": \"One week's data covering foot angle, hip displacement and mobility measurements.\",\n",
      "            \"owner\": \"peterprofile\",\n",
      "            \"ownerType\": \"USER_ID\",\n",
      "            \"zoneMembership\": [\n",
      "                \"quarantine\"\n",
      "            ],\n",
      "            \"latestChange\": \"Asset created\"\n",
      "        },\n",
      "        {\n",
      "            \"class\": \"Asset\",\n",
      "            \"type\": {\n",
      "                \"class\": \"ElementType\",\n",
      "                \"elementTypeId\": \"2ccb2117-9cee-47ca-8150-9b3a543adcec\",\n",
      "                \"elementTypeName\": \"CSVFile\",\n",
      "                \"elementTypeVersion\": 1,\n",
      "                \"elementTypeDescription\": \"A description of a comma separated value (CSV) file\",\n",
      "                \"elementSourceServer\": \"cocoMDS1\",\n",
      "                \"elementOrigin\": \"LOCAL_COHORT\",\n",
      "                \"elementHomeMetadataCollectionId\": \"45d07079-1793-4ea1-9a50-2bedc7ed4e32\"\n",
      "            },\n",
      "            \"guid\": \"915c0b16-21e3-4fc1-8fb5-f7b0bc287fbb\",\n",
      "            \"extendedProperties\": {\n",
      "                \"quoteCharacter\": \"\\\"\",\n",
      "                \"delimiterCharacter\": \",\"\n",
      "            },\n",
      "            \"qualifiedName\": \"CSVFile:file://secured/research/clinical-trials/drop-foot/DropFootMeasurementsWeek2.csv\",\n",
      "            \"displayName\": \"Week 2: Drop Foot Clinical Trial Measurements\",\n",
      "            \"description\": \"One week's data covering foot angle, hip displacement and mobility measurements.\",\n",
      "            \"owner\": \"peterprofile\",\n",
      "            \"ownerType\": \"USER_ID\",\n",
      "            \"zoneMembership\": [\n",
      "                \"quarantine\"\n",
      "            ],\n",
      "            \"latestChange\": \"Asset created\"\n",
      "        }\n",
      "    ]\n",
      "}\n",
      " \n",
      "5 assets found\n"
     ]
    }
   ],
   "source": [
    "\n",
    "print (\" \")\n",
    "print (\"GET \" + server1GetAssetsURL)\n",
    "print (\"{ \" + searchString + \" }\")\n",
    "print (\" \")\n",
    "\n",
    "response=requests.post(server1GetAssetsURL, data=searchString)\n",
    "\n",
    "print (\"Returns:\")\n",
    "prettyResponse = json.dumps(response.json(), indent=4)\n",
    "print (prettyResponse)\n",
    "print (\" \")\n",
    "\n",
    "if response.json().get('assets'):\n",
    "    if len(response.json().get('assets')) == 1:\n",
    "        print (\"1 asset found\")\n",
    "    else:\n",
    "        print (str(len(response.json().get('assets'))) + \" assets found\")\n",
    "else:\n",
    "    print (\"No assets found\")\n",
    "    "
   ]
  },
  {
   "cell_type": "markdown",
   "metadata": {},
   "source": [
    "----\n",
    "## Exercise 2 - Sharing the catalog and adding feedback"
   ]
  },
  {
   "cell_type": "markdown",
   "metadata": {},
   "source": [
    "In this next exercise Erin is going to work with the assets that Peter created.  Erin is part of the governance team.  She is accessing\n",
    "metadata using the `cocoMDS2` server.  It sits on the core OMAG Server Platform.\n",
    "\n",
    "![Figure 1](../images/coco-pharmaceuticals-systems-omag-server-platforms.png)\n",
    "> **Figure 1:** Coco Pharmaceuticals' OMAG Server Platforms (repeat)"
   ]
  },
  {
   "cell_type": "code",
   "execution_count": 13,
   "metadata": {},
   "outputs": [],
   "source": [
    "server2            = \"cocoMDS2\"\n",
    "server2PlatformURL = corePlatformURL"
   ]
  },
  {
   "cell_type": "markdown",
   "metadata": {},
   "source": [
    "This next code checks that cocoMDS2 is running ..."
   ]
  },
  {
   "cell_type": "code",
   "execution_count": 39,
   "metadata": {},
   "outputs": [
    {
     "name": "stdout",
     "output_type": "stream",
     "text": [
      " \n",
      "GET http://localhost:8080/open-metadata/platform-services/users/garygeeke/server-platform/servers/cocoMDS2/status\n",
      " \n",
      "Returns:\n",
      "{\n",
      "    \"relatedHTTPCode\": 200,\n",
      "    \"serverName\": \"cocoMDS2\",\n",
      "    \"serverStartTime\": \"2019-08-14T13:29:01.872+0000\",\n",
      "    \"active\": true\n",
      "}\n",
      " \n",
      "Server cocoMDS2 is active - ready to begin\n"
     ]
    }
   ],
   "source": [
    "\n",
    "isServer2ActiveURL = server2PlatformURL + \"/open-metadata/platform-services/users/\" + adminUserId + \"/server-platform/servers/\" + server2 + \"/status\"\n",
    "\n",
    "print (\" \")\n",
    "print (\"GET \" + isServer2ActiveURL)\n",
    "print (\" \")\n",
    "\n",
    "response = requests.get(isServer2ActiveURL)\n",
    "\n",
    "print (\"Returns:\")\n",
    "prettyResponse = json.dumps(response.json(), indent=4)\n",
    "print (prettyResponse)\n",
    "print (\" \")\n",
    "\n",
    "serverStatus = response.json().get('active')\n",
    "if serverStatus == True:\n",
    "    print(\"Server \" + server2 + \" is active - ready to begin\")\n",
    "else:\n",
    "    print(\"Server \" + server2 + \" is down - start it before proceeding\")\n"
   ]
  },
  {
   "cell_type": "markdown",
   "metadata": {},
   "source": [
    "----\n",
    "If you see Server cocoMDS2 is active - ready to begin then the server is running. If the server is down, follow the instructions in the **Managing Servers** notebook to start the server.\n",
    "\n",
    "----\n",
    "The metadata servers `cocoMDS1` and `cocoMDS2` are part of the same open metadata cohort called `cocoCohort`.  This means that they are actively sharing metadata.\n",
    "\n",
    "![Figure 2](../images/coco-pharmaceuticals-systems-metadata-servers.png)\n",
    "> **Figure 2:** Membership of Coco Pharmaceuticals' cohorts\n",
    "\n",
    "----\n",
    "Even though Erin is connected to a different server to Peter, she can see the same assets."
   ]
  },
  {
   "cell_type": "code",
   "execution_count": 41,
   "metadata": {},
   "outputs": [
    {
     "name": "stdout",
     "output_type": "stream",
     "text": [
      " \n",
      "POST http://localhost:8080/servers/cocoMDS2/open-metadata/access-services/asset-consumer/users/erinoverview/assets/by-name?startFrom=0&pageSize=50\n",
      "Returns:\n",
      "{\n",
      "    \"class\": \"AssetsResponse\",\n",
      "    \"relatedHTTPCode\": 200,\n",
      "    \"startingFromElement\": 0,\n",
      "    \"assets\": [\n",
      "        {\n",
      "            \"class\": \"Asset\",\n",
      "            \"type\": {\n",
      "                \"class\": \"ElementType\",\n",
      "                \"elementTypeId\": \"2ccb2117-9cee-47ca-8150-9b3a543adcec\",\n",
      "                \"elementTypeName\": \"CSVFile\",\n",
      "                \"elementTypeVersion\": 1,\n",
      "                \"elementTypeDescription\": \"A description of a comma separated value (CSV) file\",\n",
      "                \"elementSourceServer\": \"cocoMDS1\",\n",
      "                \"elementOrigin\": \"LOCAL_COHORT\",\n",
      "                \"elementHomeMetadataCollectionId\": \"45d07079-1793-4ea1-9a50-2bedc7ed4e32\"\n",
      "            },\n",
      "            \"guid\": \"5a65110c-e478-4ef7-81ef-8d19e31659b0\",\n",
      "            \"extendedProperties\": {\n",
      "                \"quoteCharacter\": \"\\\"\",\n",
      "                \"delimiterCharacter\": \",\"\n",
      "            },\n",
      "            \"qualifiedName\": \"CSVFile:file://secured/research/clinical-trials/drop-foot/DropFootMeasurementsWeek3.csv\",\n",
      "            \"displayName\": \"Week 3: Drop Foot Clinical Trial Measurements\",\n",
      "            \"description\": \"One week's data covering foot angle, hip displacement and mobility measurements.\",\n",
      "            \"owner\": \"peterprofile\",\n",
      "            \"ownerType\": \"USER_ID\",\n",
      "            \"zoneMembership\": [\n",
      "                \"quarantine\"\n",
      "            ],\n",
      "            \"latestChange\": \"Asset created\"\n",
      "        },\n",
      "        {\n",
      "            \"class\": \"Asset\",\n",
      "            \"type\": {\n",
      "                \"class\": \"ElementType\",\n",
      "                \"elementTypeId\": \"2ccb2117-9cee-47ca-8150-9b3a543adcec\",\n",
      "                \"elementTypeName\": \"CSVFile\",\n",
      "                \"elementTypeVersion\": 1,\n",
      "                \"elementTypeDescription\": \"A description of a comma separated value (CSV) file\",\n",
      "                \"elementSourceServer\": \"cocoMDS1\",\n",
      "                \"elementOrigin\": \"LOCAL_COHORT\",\n",
      "                \"elementHomeMetadataCollectionId\": \"45d07079-1793-4ea1-9a50-2bedc7ed4e32\"\n",
      "            },\n",
      "            \"guid\": \"d365afda-6607-4604-b4db-96e388937b37\",\n",
      "            \"extendedProperties\": {\n",
      "                \"quoteCharacter\": \"\\\"\",\n",
      "                \"delimiterCharacter\": \",\"\n",
      "            },\n",
      "            \"qualifiedName\": \"CSVFile:file://secured/research/clinical-trials/drop-foot/DropFootMeasurementsWeek1.csv\",\n",
      "            \"displayName\": \"Week 1: Drop Foot Clinical Trial Measurements\",\n",
      "            \"description\": \"One week's data covering foot angle, hip displacement and mobility measurements.\",\n",
      "            \"owner\": \"peterprofile\",\n",
      "            \"ownerType\": \"USER_ID\",\n",
      "            \"zoneMembership\": [\n",
      "                \"quarantine\"\n",
      "            ],\n",
      "            \"latestChange\": \"Asset created\"\n",
      "        },\n",
      "        {\n",
      "            \"class\": \"Asset\",\n",
      "            \"type\": {\n",
      "                \"class\": \"ElementType\",\n",
      "                \"elementTypeId\": \"2ccb2117-9cee-47ca-8150-9b3a543adcec\",\n",
      "                \"elementTypeName\": \"CSVFile\",\n",
      "                \"elementTypeVersion\": 1,\n",
      "                \"elementTypeDescription\": \"A description of a comma separated value (CSV) file\",\n",
      "                \"elementSourceServer\": \"cocoMDS1\",\n",
      "                \"elementOrigin\": \"LOCAL_COHORT\",\n",
      "                \"elementHomeMetadataCollectionId\": \"45d07079-1793-4ea1-9a50-2bedc7ed4e32\"\n",
      "            },\n",
      "            \"guid\": \"94dec571-c878-4be2-8a34-71b3eb9df242\",\n",
      "            \"extendedProperties\": {\n",
      "                \"quoteCharacter\": \"\\\"\",\n",
      "                \"delimiterCharacter\": \",\"\n",
      "            },\n",
      "            \"qualifiedName\": \"CSVFile:file://secured/research/clinical-trials/drop-foot/DropFootMeasurementsWeek3.csv\",\n",
      "            \"displayName\": \"Week 3: Drop Foot Clinical Trial Measurements\",\n",
      "            \"description\": \"One week's data covering foot angle, hip displacement and mobility measurements.\",\n",
      "            \"owner\": \"peterprofile\",\n",
      "            \"ownerType\": \"USER_ID\",\n",
      "            \"zoneMembership\": [\n",
      "                \"quarantine\"\n",
      "            ],\n",
      "            \"latestChange\": \"Asset created\"\n",
      "        },\n",
      "        {\n",
      "            \"class\": \"Asset\",\n",
      "            \"type\": {\n",
      "                \"class\": \"ElementType\",\n",
      "                \"elementTypeId\": \"2ccb2117-9cee-47ca-8150-9b3a543adcec\",\n",
      "                \"elementTypeName\": \"CSVFile\",\n",
      "                \"elementTypeVersion\": 1,\n",
      "                \"elementTypeDescription\": \"A description of a comma separated value (CSV) file\",\n",
      "                \"elementSourceServer\": \"cocoMDS1\",\n",
      "                \"elementOrigin\": \"LOCAL_COHORT\",\n",
      "                \"elementHomeMetadataCollectionId\": \"45d07079-1793-4ea1-9a50-2bedc7ed4e32\"\n",
      "            },\n",
      "            \"guid\": \"2246f0a5-7cd9-47f9-a241-4682b14a717c\",\n",
      "            \"extendedProperties\": {\n",
      "                \"quoteCharacter\": \"\\\"\",\n",
      "                \"delimiterCharacter\": \",\"\n",
      "            },\n",
      "            \"qualifiedName\": \"CSVFile:file://secured/research/clinical-trials/drop-foot/DropFootMeasurementsWeek2.csv\",\n",
      "            \"displayName\": \"Week 2: Drop Foot Clinical Trial Measurements\",\n",
      "            \"description\": \"One week's data covering foot angle, hip displacement and mobility measurements.\",\n",
      "            \"owner\": \"peterprofile\",\n",
      "            \"ownerType\": \"USER_ID\",\n",
      "            \"zoneMembership\": [\n",
      "                \"quarantine\"\n",
      "            ],\n",
      "            \"latestChange\": \"Asset created\"\n",
      "        },\n",
      "        {\n",
      "            \"class\": \"Asset\",\n",
      "            \"type\": {\n",
      "                \"class\": \"ElementType\",\n",
      "                \"elementTypeId\": \"2ccb2117-9cee-47ca-8150-9b3a543adcec\",\n",
      "                \"elementTypeName\": \"CSVFile\",\n",
      "                \"elementTypeVersion\": 1,\n",
      "                \"elementTypeDescription\": \"A description of a comma separated value (CSV) file\",\n",
      "                \"elementSourceServer\": \"cocoMDS1\",\n",
      "                \"elementOrigin\": \"LOCAL_COHORT\",\n",
      "                \"elementHomeMetadataCollectionId\": \"45d07079-1793-4ea1-9a50-2bedc7ed4e32\"\n",
      "            },\n",
      "            \"guid\": \"915c0b16-21e3-4fc1-8fb5-f7b0bc287fbb\",\n",
      "            \"extendedProperties\": {\n",
      "                \"quoteCharacter\": \"\\\"\",\n",
      "                \"delimiterCharacter\": \",\"\n",
      "            },\n",
      "            \"qualifiedName\": \"CSVFile:file://secured/research/clinical-trials/drop-foot/DropFootMeasurementsWeek2.csv\",\n",
      "            \"displayName\": \"Week 2: Drop Foot Clinical Trial Measurements\",\n",
      "            \"description\": \"One week's data covering foot angle, hip displacement and mobility measurements.\",\n",
      "            \"owner\": \"peterprofile\",\n",
      "            \"ownerType\": \"USER_ID\",\n",
      "            \"zoneMembership\": [\n",
      "                \"quarantine\"\n",
      "            ],\n",
      "            \"latestChange\": \"Asset created\"\n",
      "        }\n",
      "    ]\n",
      "}\n",
      " \n"
     ]
    }
   ],
   "source": [
    "\n",
    "server2AssetConsumerURL = server2PlatformURL + '/servers/' + server2 + '/open-metadata/access-services/asset-consumer/users/' + erinsUserId \n",
    "server2GetAssetsURL = server2AssetConsumerURL + '/assets/by-name?startFrom=0&pageSize=50'\n",
    "\n",
    "print (\" \")\n",
    "print (\"GET \" + server2GetAssetsURL)\n",
    "print (\"{ \" + searchString + \" }\")\n",
    "print (\" \")\n",
    "\n",
    "response=requests.post(server2GetAssetsURL, data=searchString)\n",
    "\n",
    "print (\"Returns:\")\n",
    "prettyResponse = json.dumps(response.json(), indent=4)\n",
    "print (prettyResponse)\n",
    "print (\" \")\n",
    "\n",
    "if response.json().get('assets'):\n",
    "    if len(response.json().get('assets')) == 1:\n",
    "        print (\"1 asset found\")\n",
    "    else:\n",
    "        print (str(len(response.json().get('assets'))) + \" assets found\")\n",
    "else:\n",
    "    print (\"No assets found\")\n"
   ]
  },
  {
   "cell_type": "markdown",
   "metadata": {},
   "source": [
    "----\n",
    "Erin looks at the new assets that Peter has defined and has a question.  She adds a comment to the first asset."
   ]
  },
  {
   "cell_type": "code",
   "execution_count": 18,
   "metadata": {},
   "outputs": [],
   "source": [
    "\n",
    "server2AddCommentURL = server2AssetConsumerURL + '/assets/' + asset1guid + '/comments'\n",
    "\n",
    "print(\"\")\n",
    "print (\"POST \" + server2AddCommentURL)\n",
    "\n",
    "commentBody={\n",
    "\t\"class\" : \"CommentRequestBody\",\n",
    "\t\"commentType\" : \"QUESTION\",\n",
    "\t\"commentText\" : \"This file has much less data than normal.  Did the hospital provide any additional information about this batch to explain it?\"\n",
    "}\n",
    "addCommentResponse = requests.post(server2AddCommentURL, json=commentBody, headers=jsonHeader)\n",
    "\n",
    "addCommentResponse.json()"
   ]
  },
  {
   "cell_type": "code",
   "execution_count": 24,
   "metadata": {},
   "outputs": [
    {
     "name": "stdout",
     "output_type": "stream",
     "text": [
      " \n",
      "Erin's comment guid is: c99ba7c0-3d43-4321-8ef5-96ab4af1ad9b\n"
     ]
    }
   ],
   "source": [
    "commentGUID = addCommentResponse.json().get('guid')\n",
    "\n",
    "print (\" \")\n",
    "print ('Erin\\'s comment guid is: ' + commentGUID)"
   ]
  },
  {
   "cell_type": "markdown",
   "metadata": {},
   "source": [
    "----\n",
    "The comment is attached to the asset.  Peter can query an asset's comments as follows:"
   ]
  },
  {
   "cell_type": "code",
   "execution_count": 31,
   "metadata": {},
   "outputs": [
    {
     "name": "stdout",
     "output_type": "stream",
     "text": [
      "\n",
      "GET http://localhost:8081/servers/cocoMDS1/open-metadata/common-services/asset-consumer/connected-asset/users/peterprofile/assets/d365afda-6607-4604-b4db-96e388937b37/comments?elementStart=0&maxElements=50\n"
     ]
    },
    {
     "data": {
      "text/plain": [
       "{'class': 'CommentsResponse',\n",
       " 'relatedHTTPCode': 200,\n",
       " 'startingFromElement': 0,\n",
       " 'list': [{'class': 'CommentResponse',\n",
       "   'relatedHTTPCode': 200,\n",
       "   'comment': {'class': 'Comment',\n",
       "    'type': {'class': 'ElementType',\n",
       "     'elementTypeId': '1a226073-9c84-40e4-a422-fbddb9b84278',\n",
       "     'elementTypeName': 'Comment',\n",
       "     'elementTypeVersion': 1,\n",
       "     'elementTypeDescription': 'Descriptive feedback or discussion related to an item.',\n",
       "     'elementSourceServer': 'cocoMDS2',\n",
       "     'elementOrigin': 'LOCAL_COHORT',\n",
       "     'elementHomeMetadataCollectionId': 'c40654a7-c798-43fa-a305-6984f1c3c054'},\n",
       "    'guid': 'c99ba7c0-3d43-4321-8ef5-96ab4af1ad9b',\n",
       "    'commentType': 'QUESTION',\n",
       "    'commentText': 'This file has much less data than normal.  Did the hospital provide any additional information about this batch to explain it?',\n",
       "    'user': 'erinoverview',\n",
       "    'public': False},\n",
       "   'replyCount': 1}]}"
      ]
     },
     "execution_count": 31,
     "metadata": {},
     "output_type": "execute_result"
    }
   ],
   "source": [
    "\n",
    "server1ConnectedAssetURL = server1PlatformURL + '/servers/' + server1 + '/open-metadata/common-services/asset-consumer/connected-asset/users/' + petersUserId \n",
    "server1CommentQuery = server1ConnectedAssetURL + '/assets/' + asset1guid + '/comments?elementStart=0&maxElements=50'\n",
    "\n",
    "print (\" \")\n",
    "print (\"GET \" + server1CommentQuery)\n",
    "\n",
    "getCommentsResponse = requests.get(server1CommentQuery)\n",
    "getCommentsResponse.json()\n"
   ]
  },
  {
   "cell_type": "markdown",
   "metadata": {},
   "source": [
    "----\n",
    "He replies to Erin's question"
   ]
  },
  {
   "cell_type": "code",
   "execution_count": 33,
   "metadata": {},
   "outputs": [
    {
     "name": "stdout",
     "output_type": "stream",
     "text": [
      "\n",
      "POST http://localhost:8081/servers/cocoMDS1/open-metadata/access-services/asset-consumer/users/peterprofile/assets/d365afda-6607-4604-b4db-96e388937b37/comments/c99ba7c0-3d43-4321-8ef5-96ab4af1ad9b/replies\n"
     ]
    },
    {
     "data": {
      "text/plain": [
       "{'relatedHTTPCode': 200, 'guid': '6f600c46-21b9-43ea-a8d3-57f893aa2806'}"
      ]
     },
     "execution_count": 33,
     "metadata": {},
     "output_type": "execute_result"
    }
   ],
   "source": [
    "\n",
    "server1AssetConsumerURL = server1PlatformURL + '/servers/' + server1 + '/open-metadata/access-services/asset-consumer/users/' + petersUserId \n",
    "server1CommentReplyURL = server1AssetConsumerURL + '/assets/' + asset1guid + '/comments/' + commentGUID + '/replies'\n",
    "\n",
    "print (\" \")\n",
    "print (\"POST \" + server1CommentReplyURL)\n",
    "\n",
    "commentReplyBody={\n",
    "\t\"class\" : \"CommentRequestBody\",\n",
    "\t\"commentType\" : \"ANSWER\",\n",
    "\t\"commentText\" : \"I checked back with Bobbie Records and they had an air conditioning failure that caused them to cancel patient appointments for 2 days - hence less data.  They are working to catch up on their waiting list so expect increased data for the next few weeks.\"\n",
    "}\n",
    "\n",
    "addCommentReplyResponse = requests.post(server1CommentReplyURL, json=commentReplyBody, headers=jsonHeader)\n",
    "addCommentReplyResponse.json()"
   ]
  },
  {
   "cell_type": "markdown",
   "metadata": {},
   "source": [
    "----\n",
    "Erin views the reply."
   ]
  },
  {
   "cell_type": "code",
   "execution_count": 43,
   "metadata": {},
   "outputs": [
    {
     "name": "stdout",
     "output_type": "stream",
     "text": [
      " \n",
      "GET http://localhost:8080/servers/cocoMDS2/open-metadata/common-services/asset-consumer/connected-asset/users/erinoverview/assets/d365afda-6607-4604-b4db-96e388937b37/comments/c99ba7c0-3d43-4321-8ef5-96ab4af1ad9b/replies?elementStart=0&maxElements=50\n"
     ]
    },
    {
     "data": {
      "text/plain": [
       "{'class': 'CommentsResponse',\n",
       " 'relatedHTTPCode': 200,\n",
       " 'startingFromElement': 0,\n",
       " 'list': [{'class': 'CommentResponse',\n",
       "   'relatedHTTPCode': 200,\n",
       "   'comment': {'class': 'Comment',\n",
       "    'type': {'class': 'ElementType',\n",
       "     'elementTypeId': '1a226073-9c84-40e4-a422-fbddb9b84278',\n",
       "     'elementTypeName': 'Comment',\n",
       "     'elementTypeVersion': 1,\n",
       "     'elementTypeDescription': 'Descriptive feedback or discussion related to an item.',\n",
       "     'elementSourceServer': 'cocoMDS2',\n",
       "     'elementOrigin': 'LOCAL_COHORT',\n",
       "     'elementHomeMetadataCollectionId': 'c40654a7-c798-43fa-a305-6984f1c3c054'},\n",
       "    'guid': 'c99ba7c0-3d43-4321-8ef5-96ab4af1ad9b',\n",
       "    'commentType': 'QUESTION',\n",
       "    'commentText': 'This file has much less data than normal.  Did the hospital provide any additional information about this batch to explain it?',\n",
       "    'user': 'erinoverview',\n",
       "    'public': False},\n",
       "   'replyCount': 2},\n",
       "  {'class': 'CommentResponse',\n",
       "   'relatedHTTPCode': 200,\n",
       "   'comment': {'class': 'Comment',\n",
       "    'type': {'class': 'ElementType',\n",
       "     'elementTypeId': '1a226073-9c84-40e4-a422-fbddb9b84278',\n",
       "     'elementTypeName': 'Comment',\n",
       "     'elementTypeVersion': 1,\n",
       "     'elementTypeDescription': 'Descriptive feedback or discussion related to an item.',\n",
       "     'elementSourceServer': 'cocoMDS1',\n",
       "     'elementOrigin': 'LOCAL_COHORT',\n",
       "     'elementHomeMetadataCollectionId': '45d07079-1793-4ea1-9a50-2bedc7ed4e32'},\n",
       "    'guid': '6f600c46-21b9-43ea-a8d3-57f893aa2806',\n",
       "    'commentType': 'ANSWER',\n",
       "    'commentText': 'I checked back with Bobbie Records and they had an air conditioning failure that caused them to cancel patient appointments for 2 days - hence less data.  They are working to catch up on their waiting list so expect increased data for the next few weeks.',\n",
       "    'user': 'peterprofile',\n",
       "    'public': False},\n",
       "   'replyCount': 1}]}"
      ]
     },
     "execution_count": 43,
     "metadata": {},
     "output_type": "execute_result"
    }
   ],
   "source": [
    "server2ConnectedAssetURL = server2PlatformURL + '/servers/' + server2 + '/open-metadata/common-services/asset-consumer/connected-asset/users/' + erinsUserId \n",
    "server2CommentReplyQuery = server2ConnectedAssetURL + '/assets/' + asset1guid + '/comments/' + commentGUID + '/replies?elementStart=0&maxElements=50'\n",
    "\n",
    "print (\" \")\n",
    "print (\"GET \" + server2CommentReplyQuery)\n",
    "\n",
    "getCommentRepliesResponse = requests.get(server2CommentReplyQuery)\n",
    "\n",
    "getCommentRepliesResponse.json()"
   ]
  },
  {
   "cell_type": "markdown",
   "metadata": {},
   "source": [
    "----\n",
    "This is the current information known about the first asset:"
   ]
  },
  {
   "cell_type": "code",
   "execution_count": 47,
   "metadata": {},
   "outputs": [
    {
     "name": "stdout",
     "output_type": "stream",
     "text": [
      " \n",
      "GET http://localhost:8080/servers/cocoMDS2/open-metadata/common-services/asset-consumer/connected-asset/users/erinoverview/assets/d365afda-6607-4604-b4db-96e388937b37\n"
     ]
    },
    {
     "data": {
      "text/plain": [
       "{'class': 'AssetResponse',\n",
       " 'relatedHTTPCode': 200,\n",
       " 'asset': {'class': 'Asset',\n",
       "  'type': {'class': 'ElementType',\n",
       "   'elementTypeId': '2ccb2117-9cee-47ca-8150-9b3a543adcec',\n",
       "   'elementTypeName': 'CSVFile',\n",
       "   'elementTypeVersion': 1,\n",
       "   'elementTypeDescription': 'A description of a comma separated value (CSV) file',\n",
       "   'elementSourceServer': 'cocoMDS1',\n",
       "   'elementOrigin': 'LOCAL_COHORT',\n",
       "   'elementHomeMetadataCollectionId': '45d07079-1793-4ea1-9a50-2bedc7ed4e32'},\n",
       "  'guid': 'd365afda-6607-4604-b4db-96e388937b37',\n",
       "  'extendedProperties': {'quoteCharacter': '\"', 'delimiterCharacter': ','},\n",
       "  'qualifiedName': 'CSVFile:file://secured/research/clinical-trials/drop-foot/DropFootMeasurementsWeek1.csv',\n",
       "  'displayName': 'Week 1: Drop Foot Clinical Trial Measurements',\n",
       "  'description': \"One week's data covering foot angle, hip displacement and mobility measurements.\",\n",
       "  'owner': 'peterprofile',\n",
       "  'ownerType': 'USER_ID',\n",
       "  'zoneMembership': ['quarantine'],\n",
       "  'latestChange': 'Asset created'},\n",
       " 'certificationCount': 0,\n",
       " 'commentCount': 1,\n",
       " 'connectionCount': 1,\n",
       " 'externalIdentifierCount': 0,\n",
       " 'externalReferencesCount': 0,\n",
       " 'informalTagCount': 0,\n",
       " 'licenseCount': 0,\n",
       " 'likeCount': 0,\n",
       " 'knownLocationsCount': 0,\n",
       " 'noteLogsCount': 0,\n",
       " 'ratingsCount': 0,\n",
       " 'relatedAssetCount': 2,\n",
       " 'relatedMediaReferenceCount': 0}"
      ]
     },
     "execution_count": 47,
     "metadata": {},
     "output_type": "execute_result"
    }
   ],
   "source": [
    "server2GetAsset1 = server2ConnectedAssetURL + '/assets/' + asset1guid\n",
    "\n",
    "print (\" \")\n",
    "print (\"GET \" + server2GetAsset1)\n",
    "\n",
    "getAssetResponse = requests.get(server2GetAsset1)\n",
    "\n",
    "getAssetResponse.json()"
   ]
  },
  {
   "cell_type": "code",
   "execution_count": 46,
   "metadata": {},
   "outputs": [
    {
     "name": "stdout",
     "output_type": "stream",
     "text": [
      " \n",
      "GET http://localhost:8080/servers/cocoMDS2/open-metadata/common-services/asset-consumer/connected-asset/users/erinoverview/assets/d365afda-6607-4604-b4db-96e388937b37\n",
      " \n",
      "GET http://localhost:8080/servers/cocoMDS2/open-metadata/common-services/asset-consumer/connected-asset/users/erinoverview/assets/d365afda-6607-4604-b4db-96e388937b37/related-assets?elementStart=0&maxElements=50\n"
     ]
    },
    {
     "data": {
      "text/plain": [
       "{'class': 'RelatedAssetsResponse',\n",
       " 'relatedHTTPCode': 200,\n",
       " 'startingFromElement': 0,\n",
       " 'list': [{'class': 'RelatedAsset',\n",
       "   'typeName': 'Comment',\n",
       "   'attributeName': 'comments',\n",
       "   'relatedAsset': {'class': 'Asset',\n",
       "    'type': {'class': 'ElementType',\n",
       "     'elementTypeId': '1a226073-9c84-40e4-a422-fbddb9b84278',\n",
       "     'elementTypeName': 'Comment',\n",
       "     'elementTypeVersion': 1,\n",
       "     'elementTypeDescription': 'Descriptive feedback or discussion related to an item.',\n",
       "     'elementSourceServer': 'cocoMDS2',\n",
       "     'elementOrigin': 'LOCAL_COHORT',\n",
       "     'elementHomeMetadataCollectionId': 'c40654a7-c798-43fa-a305-6984f1c3c054'},\n",
       "    'guid': 'c99ba7c0-3d43-4321-8ef5-96ab4af1ad9b',\n",
       "    'extendedProperties': {'type': 'Question',\n",
       "     'text': 'This file has much less data than normal.  Did the hospital provide any additional information about this batch to explain it?'},\n",
       "    'ownerType': 'OTHER'}},\n",
       "  {'class': 'RelatedAsset',\n",
       "   'typeName': 'Connection',\n",
       "   'attributeName': 'connections',\n",
       "   'relatedAsset': {'class': 'Asset',\n",
       "    'type': {'class': 'ElementType',\n",
       "     'elementTypeId': '114e9f8f-5ff3-4c32-bd37-a7eb42712253',\n",
       "     'elementTypeName': 'Connection',\n",
       "     'elementTypeVersion': 1,\n",
       "     'elementTypeDescription': 'A set of properties to identify and configure a connector instance.',\n",
       "     'elementSourceServer': 'cocoMDS1',\n",
       "     'elementOrigin': 'LOCAL_COHORT',\n",
       "     'elementHomeMetadataCollectionId': '45d07079-1793-4ea1-9a50-2bedc7ed4e32'},\n",
       "    'guid': 'bf64c2f5-9e59-4a4c-bfaf-67758e4e0adb',\n",
       "    'extendedProperties': {'configurationProperties': {'instancePropertyCategory': 'MAP',\n",
       "      'mapValues': {'class': 'InstanceProperties',\n",
       "       'instanceProperties': {'quoteCharacter': {'class': 'PrimitivePropertyValue',\n",
       "         'instancePropertyCategory': 'PRIMITIVE',\n",
       "         'typeGUID': 'b0abebe5-cf85-4065-86ad-f3c6360ed9c7',\n",
       "         'typeName': 'char',\n",
       "         'primitiveDefCategory': 'OM_PRIMITIVE_TYPE_CHAR',\n",
       "         'primitiveValue': '\"'},\n",
       "        'delimiterCharacter': {'class': 'PrimitivePropertyValue',\n",
       "         'instancePropertyCategory': 'PRIMITIVE',\n",
       "         'typeGUID': 'b0abebe5-cf85-4065-86ad-f3c6360ed9c7',\n",
       "         'typeName': 'char',\n",
       "         'primitiveDefCategory': 'OM_PRIMITIVE_TYPE_CHAR',\n",
       "         'primitiveValue': ','}},\n",
       "       'propertyNames': ['delimiterCharacter', 'quoteCharacter'],\n",
       "       'propertyCount': 2},\n",
       "      'mapElementCount': 2},\n",
       "     'displayName': 'file://secured/research/clinical-trials/drop-foot/DropFootMeasurementsWeek1.csvStructured File Store Connection'},\n",
       "    'qualifiedName': 'file://secured/research/clinical-trials/drop-foot/DropFootMeasurementsWeek1.csvStructured File Store Connection',\n",
       "    'description': 'StructuredFileStore connection.',\n",
       "    'ownerType': 'OTHER'}}]}"
      ]
     },
     "execution_count": 46,
     "metadata": {},
     "output_type": "execute_result"
    }
   ],
   "source": [
    "server2GetRelatedAssets1 = server2ConnectedAssetURL + '/assets/' + asset1guid + '/related-assets?elementStart=0&maxElements=50'\n",
    "\n",
    "print (\" \")\n",
    "print (\"GET \" + server2GetRelatedAssets1)\n",
    "\n",
    "getAssetResponse = requests.get(server2GetRelatedAssets1)\n",
    "\n",
    "getAssetResponse.json()"
   ]
  },
  {
   "cell_type": "markdown",
   "metadata": {},
   "source": [
    "----\n",
    "## Exercise 3 - controlling access to assets\n",
    "\n"
   ]
  }
 ],
 "metadata": {
  "kernelspec": {
   "display_name": "Python 3",
   "language": "python",
   "name": "python3"
  },
  "language_info": {
   "codemirror_mode": {
    "name": "ipython",
    "version": 3
   },
   "file_extension": ".py",
   "mimetype": "text/x-python",
   "name": "python",
   "nbconvert_exporter": "python",
   "pygments_lexer": "ipython3",
   "version": "3.7.3"
  }
 },
 "nbformat": 4,
 "nbformat_minor": 2
}
