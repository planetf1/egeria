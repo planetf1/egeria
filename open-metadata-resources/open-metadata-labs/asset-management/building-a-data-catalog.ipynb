{
 "cells": [
  {
   "cell_type": "markdown",
   "metadata": {},
   "source": [
    "![Egeria Logo](https://raw.githubusercontent.com/odpi/egeria/master/assets/img/ODPi_Egeria_Logo_color.png)\n",
    "\n",
    "### ODPi Egeria Hands-On Lab\n",
    "# Welcome to the Building a Data Catalog Lab"
   ]
  },
  {
   "cell_type": "markdown",
   "metadata": {},
   "source": [
    "## Introduction\n",
    "\n",
    "ODPi Egeria is an open source project that provides open standards and implementation libraries to connect tools, catalogues and platforms together so they can share information about data and technology (called metadata).\n",
    "\n",
    "In this hands-on lab you will get a chance to work with three ODPi Egeria metadata servers to build a distributed catalog of data assets and then experiment with attaching feedback (comments) to the catalog entries from different servers."
   ]
  },
  {
   "cell_type": "markdown",
   "metadata": {},
   "source": [
    "## The Scenario\n",
    "\n",
    "The ODPi Egeria team use the personas from the fictitious company called Coco Pharmaceuticals.  (See https://opengovernance.odpi.org/coco-pharmaceuticals/ for more information).\n",
    "\n",
    "The two main character engaged in this scenario are Peter Profile and Erin Overview.\n",
    "\n",
    "![Peter and Erin](../images/peter-and-erin.png)"
   ]
  },
  {
   "cell_type": "code",
   "execution_count": null,
   "metadata": {},
   "outputs": [],
   "source": [
    "petersUserId = \"peterprofile\"\n",
    "erinsUserId  = \"erinoverview\""
   ]
  },
  {
   "cell_type": "markdown",
   "metadata": {},
   "source": [
    "Peter and Erin are cataloguing new data sets that have been received from a hospital.  These data sets are part of a clinical trial that the hospital is participating in."
   ]
  },
  {
   "cell_type": "markdown",
   "metadata": {},
   "source": [
    "## Setting up\n",
    "\n",
    "Coco Pharmaceuticals make widespread use of ODPi Egeria for tracking and managing their data and related assets.\n",
    "Figure 1 below shows their metadata servers and the platforms that are hosting them.\n",
    "\n",
    "![Figure 1](../images/coco-pharmaceuticals-systems-omag-server-platforms.png)\n",
    "> **Figure 1:** Coco Pharmaceuticals' OMAG Server Platforms"
   ]
  },
  {
   "cell_type": "code",
   "execution_count": null,
   "metadata": {},
   "outputs": [],
   "source": [
    "import os\n",
    "\n",
    "corePlatformURL     = os.environ.get('corePlatformURL','http://localhost:8080') \n",
    "dataLakePlatformURL = os.environ.get('dataLakePlatformURL','http://localhost:8081') \n",
    "devPlatformURL      = os.environ.get('devPlatformURL','http://localhost:8082')"
   ]
  },
  {
   "cell_type": "markdown",
   "metadata": {},
   "source": [
    "Peter is using the data lake operations metadata server called `cocoMDS1`. This server is hosted on the Data Lake OMAG Server Platform."
   ]
  },
  {
   "cell_type": "code",
   "execution_count": null,
   "metadata": {},
   "outputs": [],
   "source": [
    "server1            = \"cocoMDS1\"\n",
    "server1PlatformURL = dataLakePlatformURL"
   ]
  },
  {
   "cell_type": "markdown",
   "metadata": {},
   "source": [
    "The following request checks that this server is running."
   ]
  },
  {
   "cell_type": "code",
   "execution_count": null,
   "metadata": {},
   "outputs": [],
   "source": [
    "import requests\n",
    "import pprint\n",
    "import json\n",
    "\n",
    "adminUserId = \"garygeeke\"\n",
    "\n",
    "isServer1ActiveURL = server1PlatformURL + \"/open-metadata/platform-services/users/\" + adminUserId + \"/server-platform/servers/\" + server1 + \"/status\"\n",
    "\n",
    "print (\" \")\n",
    "print (\"GET \" + isServer1ActiveURL)\n",
    "print (\" \")\n",
    "\n",
    "response = requests.get(isServer1ActiveURL)\n",
    "\n",
    "print (\"Returns:\")\n",
    "prettyResponse = json.dumps(response.json(), indent=4)\n",
    "print (prettyResponse)\n",
    "print (\" \")\n",
    "\n",
    "serverStatus = response.json().get('active')\n",
    "if serverStatus == True:\n",
    "    print(\"Server \" + server1 + \" is active - ready to begin\")\n",
    "else:\n",
    "    print(\"Server \" + server1 + \" is down - start it before proceeding\")\n"
   ]
  },
  {
   "cell_type": "markdown",
   "metadata": {},
   "source": [
    "----\n",
    "If you see `Server cocoMDS1 is active - ready to begin` then the server is running.  If the server is down, follow the instructions in the **Managing Servers** notebook to start the server."
   ]
  },
  {
   "cell_type": "markdown",
   "metadata": {},
   "source": [
    "----\n",
    "## Exercise 1\n",
    "\n",
    "### Adding assets to the catalog\n",
    "\n",
    "In the first exercise, Peter Profile is adding some new data sets (assets) to the catalog. "
   ]
  },
  {
   "cell_type": "markdown",
   "metadata": {},
   "source": [
    "Peter uses the **Asset Owner** Open Metadata Access Service (OMAS) API to manage assets in the catalog.  All of the request for the Asset Owner OMAS begin with the following URL root."
   ]
  },
  {
   "cell_type": "code",
   "execution_count": null,
   "metadata": {},
   "outputs": [],
   "source": [
    "server1AssetOwnerURL = server1PlatformURL + '/servers/' + server1 + '/open-metadata/access-services/asset-owner/users/' + petersUserId "
   ]
  },
  {
   "cell_type": "markdown",
   "metadata": {},
   "source": [
    "First Peter will query the current list of Clinical Trial Assets from cocoMDS1."
   ]
  },
  {
   "cell_type": "code",
   "execution_count": null,
   "metadata": {},
   "outputs": [],
   "source": [
    "\n",
    "server1GetAssetsURL = server1AssetOwnerURL + '/assets/by-name?startFrom=0&pageSize=50'\n",
    "searchString=\"Drop Foot\"\n",
    "\n",
    "print (\" \")\n",
    "print (\"GET \" + server1GetAssetsURL)\n",
    "print (\"{ \" + searchString + \" }\")\n",
    "print (\" \")\n",
    "\n",
    "response=requests.post(server1GetAssetsURL, data=searchString)\n",
    "\n",
    "print (\"Returns:\")\n",
    "prettyResponse = json.dumps(response.json(), indent=4)\n",
    "print (prettyResponse)\n",
    "print (\" \")\n",
    "\n",
    "if response.json().get('assets'):\n",
    "    if len(response.json().get('assets')) == 1:\n",
    "        print (\"1 asset found\")\n",
    "    else:\n",
    "        print (str(len(response.json().get('assets'))) + \" assets found\")\n",
    "else:\n",
    "    print (\"No assets found\")\n"
   ]
  },
  {
   "cell_type": "markdown",
   "metadata": {},
   "source": [
    "----\n",
    "We can see here that no assets are returned as the repository is empty."
   ]
  },
  {
   "cell_type": "markdown",
   "metadata": {},
   "source": [
    "#### Adding weekly clinical trial assets\n"
   ]
  },
  {
   "cell_type": "markdown",
   "metadata": {},
   "source": [
    "Peter is now going to create three weeks of clinical asset data. These are 3 data sets. We'll start with week 1"
   ]
  },
  {
   "cell_type": "code",
   "execution_count": null,
   "metadata": {},
   "outputs": [],
   "source": [
    "server1CreateAssetURL = server1AssetOwnerURL + '/assets/csv-files'\n",
    "\n",
    "print (\" \")\n",
    "print (\"POST: \" + server1CreateAssetURL)\n",
    "\n",
    "jsonHeader = {'content-type':'application/json'}\n",
    "createAssetBody = {\n",
    "\t\"class\" : \"NewFileAssetRequestBody\",\n",
    "\t\"displayName\" : \"Week 1: Drop Foot Clinical Trial Measurements\",\n",
    "\t\"description\" : \"One week's data covering foot angle, hip displacement and mobility measurements.\",\n",
    "\t\"fullPath\" : \"file://secured/research/clinical-trials/drop-foot/DropFootMeasurementsWeek1.csv\"\n",
    "}\n",
    "\n",
    "response=requests.post(server1CreateAssetURL, json=createAssetBody, headers=jsonHeader)\n",
    "\n",
    "response.json()\n"
   ]
  },
  {
   "cell_type": "markdown",
   "metadata": {},
   "source": [
    "----\n",
    "Notice the response includes a property called “guid”.  This is the unique identifier of the asset and we need to save it away in a variable to use later"
   ]
  },
  {
   "cell_type": "code",
   "execution_count": null,
   "metadata": {},
   "outputs": [],
   "source": [
    "asset1guid=response.json().get('guid')\n",
    "\n",
    "print (\" \")\n",
    "print (\"The guid for asset 1 is: \" + asset1guid)\n",
    "print (\" \")\n"
   ]
  },
  {
   "cell_type": "markdown",
   "metadata": {},
   "source": [
    "----\n",
    "Now let's take a look again at what assets are in the repository using the same get request we used earlier.\n"
   ]
  },
  {
   "cell_type": "code",
   "execution_count": null,
   "metadata": {},
   "outputs": [],
   "source": [
    "\n",
    "print (\" \")\n",
    "print (\"GET \" + server1GetAssetsURL)\n",
    "print (\"{ \" + searchString + \" }\")\n",
    "print (\" \")\n",
    "\n",
    "response=requests.post(server1GetAssetsURL, data=searchString)\n",
    "\n",
    "print (\"Returns:\")\n",
    "prettyResponse = json.dumps(response.json(), indent=4)\n",
    "print (prettyResponse)\n",
    "print (\" \")\n",
    "\n",
    "if response.json().get('assets'):\n",
    "    if len(response.json().get('assets')) == 1:\n",
    "        print (\"1 asset found\")\n",
    "    else:\n",
    "        print (str(len(response.json().get('assets'))) + \" assets found\")\n",
    "else:\n",
    "    print (\"No assets found\")\n"
   ]
  },
  {
   "cell_type": "markdown",
   "metadata": {},
   "source": [
    "----\n",
    "\n",
    "Peter is now going to add the next two weeks of assets"
   ]
  },
  {
   "cell_type": "code",
   "execution_count": null,
   "metadata": {},
   "outputs": [],
   "source": [
    "\n",
    "csvbody2 = {\n",
    "\t\"class\" : \"NewFileAssetRequestBody\",\n",
    "\t\"displayName\" : \"Week 2: Drop Foot Clinical Trial Measurements\",\n",
    "\t\"description\" : \"One week's data covering foot angle, hip displacement and mobility measurements.\",\n",
    "\t\"fullPath\" : \"file://secured/research/clinical-trials/drop-foot/DropFootMeasurementsWeek2.csv\"\n",
    "}\n",
    "\n",
    "response2=requests.post(server1CreateAssetURL, json=csvbody2, headers=jsonHeader)\n",
    "\n",
    "print (\"Second request responded with: \" + str(response2.status_code))\n",
    "\n",
    "asset2guid=response2.json().get('guid')\n",
    "\n",
    "\n",
    "csvbody3 = {\n",
    "\t\"class\" : \"NewFileAssetRequestBody\",\n",
    "\t\"displayName\" : \"Week 3: Drop Foot Clinical Trial Measurements\",\n",
    "\t\"description\" : \"One week's data covering foot angle, hip displacement and mobility measurements.\",\n",
    "\t\"fullPath\" : \"file://secured/research/clinical-trials/drop-foot/DropFootMeasurementsWeek3.csv\"\n",
    "}\n",
    "\n",
    "response3=requests.post(server1CreateAssetURL, json=csvbody3, headers=jsonHeader)\n",
    "\n",
    "print (\"Third request responded with: \"  + str(response3.status_code))\n",
    "\n",
    "asset3guid=response3.json().get('guid')\n",
    "\n",
    "print (\" \")\n",
    "print ('Asset 1 guid is: ' + asset1guid)\n",
    "print ('Asset 2 guid is: ' + asset2guid)\n",
    "print ('Asset 3 guid is: ' + asset3guid)\n"
   ]
  },
  {
   "cell_type": "markdown",
   "metadata": {},
   "source": [
    "----\n",
    "Peter has successfully created three assets:"
   ]
  },
  {
   "cell_type": "code",
   "execution_count": null,
   "metadata": {},
   "outputs": [],
   "source": [
    "\n",
    "print (\" \")\n",
    "print (\"GET \" + server1GetAssetsURL)\n",
    "print (\"{ \" + searchString + \" }\")\n",
    "print (\" \")\n",
    "\n",
    "response=requests.post(server1GetAssetsURL, data=searchString)\n",
    "\n",
    "print (\"Returns:\")\n",
    "prettyResponse = json.dumps(response.json(), indent=4)\n",
    "print (prettyResponse)\n",
    "print (\" \")\n",
    "\n",
    "if response.json().get('assets'):\n",
    "    if len(response.json().get('assets')) == 1:\n",
    "        print (\"1 asset found\")\n",
    "    else:\n",
    "        print (str(len(response.json().get('assets'))) + \" assets found\")\n",
    "else:\n",
    "    print (\"No assets found\")\n",
    "    "
   ]
  },
  {
   "cell_type": "markdown",
   "metadata": {},
   "source": [
    "----\n",
    "## Exercise 2 - Sharing the catalog and adding feedback"
   ]
  },
  {
   "cell_type": "markdown",
   "metadata": {},
   "source": [
    "In this next exercise Erin is going to work with the assets that Peter created.  Erin is part of the governance team.  She is accessing\n",
    "metadata using the `cocoMDS2` server.  It sits on the core OMAG Server Platform.\n",
    "\n",
    "![Figure 1](../images/coco-pharmaceuticals-systems-omag-server-platforms.png)\n",
    "> **Figure 1:** Coco Pharmaceuticals' OMAG Server Platforms (repeat)"
   ]
  },
  {
   "cell_type": "code",
   "execution_count": null,
   "metadata": {},
   "outputs": [],
   "source": [
    "server2            = \"cocoMDS2\"\n",
    "server2PlatformURL = corePlatformURL"
   ]
  },
  {
   "cell_type": "markdown",
   "metadata": {},
   "source": [
    "This next code checks that cocoMDS2 is running ..."
   ]
  },
  {
   "cell_type": "code",
   "execution_count": null,
   "metadata": {},
   "outputs": [],
   "source": [
    "\n",
    "isServer2ActiveURL = server2PlatformURL + \"/open-metadata/platform-services/users/\" + adminUserId + \"/server-platform/servers/\" + server2 + \"/status\"\n",
    "\n",
    "print (\" \")\n",
    "print (\"GET \" + isServer2ActiveURL)\n",
    "print (\" \")\n",
    "\n",
    "response = requests.get(isServer2ActiveURL)\n",
    "\n",
    "print (\"Returns:\")\n",
    "prettyResponse = json.dumps(response.json(), indent=4)\n",
    "print (prettyResponse)\n",
    "print (\" \")\n",
    "\n",
    "serverStatus = response.json().get('active')\n",
    "if serverStatus == True:\n",
    "    print(\"Server \" + server2 + \" is active - ready to begin\")\n",
    "else:\n",
    "    print(\"Server \" + server2 + \" is down - start it before proceeding\")\n"
   ]
  },
  {
   "cell_type": "markdown",
   "metadata": {},
   "source": [
    "----\n",
    "If you see Server cocoMDS2 is active - ready to begin then the server is running. If the server is down, follow the instructions in the **Managing Servers** notebook to start the server.\n",
    "\n",
    "----\n",
    "The metadata servers `cocoMDS1` and `cocoMDS2` are part of the same open metadata cohort called `cocoCohort`.  This means that they are actively sharing metadata.\n",
    "\n",
    "![Figure 2](../images/coco-pharmaceuticals-systems-metadata-servers.png)\n",
    "> **Figure 2:** Membership of Coco Pharmaceuticals' cohorts\n",
    "\n",
    "----\n",
    "Even though Erin is connected to a different server to Peter, she can see the same assets."
   ]
  },
  {
   "cell_type": "code",
   "execution_count": null,
   "metadata": {},
   "outputs": [],
   "source": [
    "\n",
    "server2AssetConsumerURL = server2PlatformURL + '/servers/' + server2 + '/open-metadata/access-services/asset-consumer/users/' + erinsUserId \n",
    "server2GetAssetsURL = server2AssetConsumerURL + '/assets/by-name?startFrom=0&pageSize=50'\n",
    "\n",
    "print (\" \")\n",
    "print (\"GET \" + server2GetAssetsURL)\n",
    "print (\"{ \" + searchString + \" }\")\n",
    "print (\" \")\n",
    "\n",
    "response=requests.post(server2GetAssetsURL, data=searchString)\n",
    "\n",
    "print (\"Returns:\")\n",
    "prettyResponse = json.dumps(response.json(), indent=4)\n",
    "print (prettyResponse)\n",
    "print (\" \")\n",
    "\n",
    "if response.json().get('assets'):\n",
    "    if len(response.json().get('assets')) == 1:\n",
    "        print (\"1 asset found\")\n",
    "    else:\n",
    "        print (str(len(response.json().get('assets'))) + \" assets found\")\n",
    "else:\n",
    "    print (\"No assets found\")\n"
   ]
  },
  {
   "cell_type": "markdown",
   "metadata": {},
   "source": [
    "----\n",
    "Erin looks at the new assets that Peter has defined and has a question.  She adds a comment to the first asset."
   ]
  },
  {
   "cell_type": "code",
   "execution_count": null,
   "metadata": {},
   "outputs": [],
   "source": [
    "\n",
    "server2AddCommentURL = server2AssetConsumerURL + '/assets/' + asset1guid + '/comments'\n",
    "\n",
    "print(\"\")\n",
    "print (\"POST \" + server2AddCommentURL)\n",
    "\n",
    "commentBody={\n",
    "\t\"class\" : \"CommentRequestBody\",\n",
    "\t\"commentType\" : \"QUESTION\",\n",
    "\t\"commentText\" : \"This file has much less data than normal.  Did the hospital provide any additional information about this batch to explain it?\",\n",
    "    \"isPublic\" : True\n",
    "}\n",
    "addCommentResponse = requests.post(server2AddCommentURL, json=commentBody, headers=jsonHeader)\n",
    "\n",
    "addCommentResponse.json()"
   ]
  },
  {
   "cell_type": "code",
   "execution_count": null,
   "metadata": {},
   "outputs": [],
   "source": [
    "commentGUID = addCommentResponse.json().get('guid')\n",
    "\n",
    "print (\" \")\n",
    "print ('Erin\\'s comment guid is: ' + commentGUID)"
   ]
  },
  {
   "cell_type": "markdown",
   "metadata": {},
   "source": [
    "----\n",
    "The comment is attached to the asset.  Peter can query an asset's comments as follows:"
   ]
  },
  {
   "cell_type": "code",
   "execution_count": null,
   "metadata": {},
   "outputs": [],
   "source": [
    "\n",
    "server1ConnectedAssetURL = server1PlatformURL + '/servers/' + server1 + '/open-metadata/common-services/asset-consumer/connected-asset/users/' + petersUserId \n",
    "server1CommentQuery = server1ConnectedAssetURL + '/assets/' + asset1guid + '/comments?elementStart=0&maxElements=50'\n",
    "\n",
    "print (\" \")\n",
    "print (\"GET \" + server1CommentQuery)\n",
    "\n",
    "getCommentsResponse = requests.get(server1CommentQuery)\n",
    "getCommentsResponse.json()\n"
   ]
  },
  {
   "cell_type": "markdown",
   "metadata": {},
   "source": [
    "----\n",
    "He replies to Erin's question"
   ]
  },
  {
   "cell_type": "code",
   "execution_count": null,
   "metadata": {},
   "outputs": [],
   "source": [
    "\n",
    "server1AssetConsumerURL = server1PlatformURL + '/servers/' + server1 + '/open-metadata/access-services/asset-consumer/users/' + petersUserId \n",
    "server1CommentReplyURL = server1AssetConsumerURL + '/assets/' + asset1guid + '/comments/' + commentGUID + '/replies'\n",
    "\n",
    "print (\" \")\n",
    "print (\"POST \" + server1CommentReplyURL)\n",
    "\n",
    "commentReplyBody={\n",
    "\t\"class\" : \"CommentRequestBody\",\n",
    "\t\"commentType\" : \"ANSWER\",\n",
    "\t\"commentText\" : \"I checked back with Bobbie Records and they had an air conditioning failure that caused them to cancel patient appointments for 2 days - hence less data.  They are working to catch up on their waiting list so expect increased data for the next few weeks.\",\n",
    "    \"isPublic\" : True\n",
    "}\n",
    "\n",
    "addCommentReplyResponse = requests.post(server1CommentReplyURL, json=commentReplyBody, headers=jsonHeader)\n",
    "addCommentReplyResponse.json()"
   ]
  },
  {
   "cell_type": "markdown",
   "metadata": {},
   "source": [
    "----\n",
    "Erin views the reply."
   ]
  },
  {
   "cell_type": "code",
   "execution_count": null,
   "metadata": {},
   "outputs": [],
   "source": [
    "server2ConnectedAssetURL = server2PlatformURL + '/servers/' + server2 + '/open-metadata/common-services/asset-consumer/connected-asset/users/' + erinsUserId \n",
    "server2CommentReplyQuery = server2ConnectedAssetURL + '/assets/' + asset1guid + '/comments/' + commentGUID + '/replies?elementStart=0&maxElements=50'\n",
    "\n",
    "print (\" \")\n",
    "print (\"GET \" + server2CommentReplyQuery)\n",
    "\n",
    "getCommentRepliesResponse = requests.get(server2CommentReplyQuery)\n",
    "\n",
    "getCommentRepliesResponse.json()"
   ]
  },
  {
   "cell_type": "markdown",
   "metadata": {},
   "source": [
    "----\n",
    "This is the current information known about the first asset:"
   ]
  },
  {
   "cell_type": "code",
   "execution_count": null,
   "metadata": {},
   "outputs": [],
   "source": [
    "server2GetAsset1 = server2ConnectedAssetURL + '/assets/' + asset1guid\n",
    "\n",
    "print (\" \")\n",
    "print (\"GET \" + server2GetAsset1)\n",
    "\n",
    "getAssetResponse = requests.get(server2GetAsset1)\n",
    "\n",
    "getAssetResponse.json()"
   ]
  },
  {
   "cell_type": "code",
   "execution_count": null,
   "metadata": {},
   "outputs": [],
   "source": [
    "server2GetRelatedAssets1 = server2ConnectedAssetURL + '/assets/' + asset1guid + '/related-assets?elementStart=0&maxElements=50'\n",
    "\n",
    "print (\" \")\n",
    "print (\"GET \" + server2GetRelatedAssets1)\n",
    "\n",
    "getAssetResponse = requests.get(server2GetRelatedAssets1)\n",
    "\n",
    "getAssetResponse.json()"
   ]
  },
  {
   "cell_type": "markdown",
   "metadata": {},
   "source": [
    "----\n",
    "## Exercise 3 - controlling access to assets\n",
    "\n"
   ]
  }
 ],
 "metadata": {
  "kernelspec": {
   "display_name": "Python 3",
   "language": "python",
   "name": "python3"
  },
  "language_info": {
   "codemirror_mode": {
    "name": "ipython",
    "version": 3
   },
   "file_extension": ".py",
   "mimetype": "text/x-python",
   "name": "python",
   "nbconvert_exporter": "python",
   "pygments_lexer": "ipython3",
   "version": "3.7.3"
  }
 },
 "nbformat": 4,
 "nbformat_minor": 2
}
