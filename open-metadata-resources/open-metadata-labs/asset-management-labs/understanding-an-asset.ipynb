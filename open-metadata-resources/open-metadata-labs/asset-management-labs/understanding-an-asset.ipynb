{
 "cells": [
  {
   "cell_type": "markdown",
   "metadata": {},
   "source": [
    "![Egeria Logo](https://raw.githubusercontent.com/odpi/egeria/master/assets/img/ODPi_Egeria_Logo_color.png)\n",
    "\n",
    "### ODPi Egeria Hands-On Lab\n",
    "# Welcome to the Understanding an Asset Lab"
   ]
  },
  {
   "cell_type": "markdown",
   "metadata": {},
   "source": [
    "## Introduction\n",
    "\n",
    "ODPi Egeria is an open source project that provides open standards and implementation libraries to connect tools, catalogues and platforms together so they can share information about data and technology (called metadata).\n",
    "\n",
    "In this hands-on lab you will get a chance to explore the types of properties (metadata) that can be stored about an asset."
   ]
  },
  {
   "cell_type": "markdown",
   "metadata": {},
   "source": [
    "## The scenario\n",
    "\n",
    "Callie Quartile is a data scientist at Coco Pharmaceuticals.  She is responsible for analysing the data that is generated during a clinical trial.\n",
    "\n",
    "![Callie Quartile](https://raw.githubusercontent.com/odpi/data-governance/master/docs/coco-pharmaceuticals/personas/callie-quartile.png)\n",
    "\n",
    "Callie's userId is `calliequartile`."
   ]
  },
  {
   "cell_type": "code",
   "execution_count": null,
   "metadata": {},
   "outputs": [],
   "source": [
    "calliesUserId = \"calliequartile\""
   ]
  },
  {
   "cell_type": "markdown",
   "metadata": {},
   "source": [
    "Clinical trial data is stored in Coco Pharmaceutical's data lake as **data sets**.  A data set is a collection of related data.  For example, a data set may be the names, addresses of all patients in a clinical trail.  Or it may be the measurements from a particular test,\n",
    "of the notes from a physician as a result of a patient consultation.  There is no upper or lower limit on the\n",
    "size of a data set.  It just has to contain a useful collection of data.\n",
    "\n",
    "In this hands-on lab Callie wants to create clusters of patients involved in the trial based on their characteristics.\n",
    "This will help her look for patterns in the measurement data they receive through the clinical trial."
   ]
  },
  {
   "cell_type": "markdown",
   "metadata": {},
   "source": [
    "# Setting up\n",
    "\n",
    "Coco Pharmaceuticals make widespread use of ODPi Egeria for tracking and managing their data and related assets.\n",
    "Figure 1 below shows the metadata servers and the platforms that are hosting them.\n",
    "\n",
    "![Figure 1](../images/coco-pharmaceuticals-systems-omag-server-platforms.png)\n",
    "> **Figure 1:** Coco Pharmaceuticals' OMAG Server Platforms"
   ]
  },
  {
   "cell_type": "code",
   "execution_count": null,
   "metadata": {},
   "outputs": [],
   "source": [
    "import os\n",
    "\n",
    "corePlatformURL     = os.environ.get('corePlatformURL','http://localhost:8080') \n",
    "dataLakePlatformURL = os.environ.get('dataLakePlatformURL','http://localhost:8081') \n",
    "devPlatformURL      = os.environ.get('devPlatformURL','http://localhost:8082')"
   ]
  },
  {
   "cell_type": "markdown",
   "metadata": {},
   "source": [
    "Callie is using the research team's metadata server called `cocoMDS3`. This server is hosted on the Core OMAG Server Platform."
   ]
  },
  {
   "cell_type": "code",
   "execution_count": null,
   "metadata": {},
   "outputs": [],
   "source": [
    "server            = \"cocoMDS3\"\n",
    "serverPlatformURL = corePlatformURL"
   ]
  },
  {
   "cell_type": "markdown",
   "metadata": {},
   "source": [
    "The following request checks that this server is running."
   ]
  },
  {
   "cell_type": "code",
   "execution_count": null,
   "metadata": {},
   "outputs": [],
   "source": [
    "import requests\n",
    "import pprint\n",
    "import json\n",
    "\n",
    "adminUserId = \"garygeeke\"\n",
    "\n",
    "isServerActiveURL = serverPlatformURL + \"/open-metadata/platform-services/users/\" + adminUserId + \"/server-platform/servers/\" + server + \"/status\"\n",
    "\n",
    "print (\" \")\n",
    "print (\"GET \" + isServerActiveURL)\n",
    "print (\" \")\n",
    "\n",
    "response = requests.get(isServerActiveURL)\n",
    "\n",
    "print (\"Returns:\")\n",
    "prettyResponse = json.dumps(response.json(), indent=4)\n",
    "print (prettyResponse)\n",
    "print (\" \")\n",
    "\n",
    "serverStatus = response.json().get('active')\n",
    "if serverStatus == True:\n",
    "    print(\"Server \" + server + \" is active - ready to begin\")\n",
    "else:\n",
    "    print(\"Server \" + server + \" is down - start it before proceeding\")\n"
   ]
  },
  {
   "cell_type": "markdown",
   "metadata": {},
   "source": [
    "----\n",
    "The next set of code sets up the asset - it is subject to change."
   ]
  },
  {
   "cell_type": "code",
   "execution_count": null,
   "metadata": {},
   "outputs": [],
   "source": [
    "assetOwnerURL = serverPlatformURL + '/servers/' + server + '/open-metadata/access-services/asset-owner/users/peterprofile' \n",
    "createAssetURL = assetOwnerURL + '/assets/data-files/csv'\n",
    "print (createAssetURL)\n",
    "\n",
    "jsonHeader = {'content-type':'application/json'}\n",
    "body = {\n",
    "\t\"class\" : \"NewCSVFileAssetRequestBody\",\n",
    "\t\"displayName\" : \"Drop Foot Clinical Trial Patients\",\n",
    "\t\"description\" : \"List of patients registered for the drop foot clinical trial.\",\n",
    "\t\"fullPath\" : \"file://secured/research/clinical-trials/drop-foot/Patients.csv\"\n",
    "}\n",
    "\n",
    "response=requests.post(createAssetURL, json=body, headers=jsonHeader)\n",
    "\n",
    "response.json()"
   ]
  },
  {
   "cell_type": "code",
   "execution_count": null,
   "metadata": {},
   "outputs": [],
   "source": [
    "getAssetsURL = serverAssetOwnerURL + '/assets/by-name?startFrom=0&pageSize=50'\n",
    "searchString=\"*Patient*\"\n",
    "\n",
    "print (\" \")\n",
    "print (\"GET \" + getAssetsURL)\n",
    "print (\"{ \" + searchString + \" }\")\n",
    "print (\" \")\n",
    "\n",
    "response=requests.post(getAssetsURL, data=searchString)\n",
    "\n",
    "print (\"Returns:\")\n",
    "prettyResponse = json.dumps(response.json(), indent=4)\n",
    "print (prettyResponse)\n",
    "print (\" \")\n",
    "\n",
    "if response.json().get('assets'):\n",
    "    if len(response.json().get('assets')) == 1:\n",
    "        print (\"1 asset found\")\n",
    "    else:\n",
    "        print (str(len(response.json().get('assets'))) + \" assets found\")\n",
    "else:\n",
    "    print (\"No assets found\")"
   ]
  },
  {
   "cell_type": "code",
   "execution_count": null,
   "metadata": {},
   "outputs": [],
   "source": []
  }
 ],
 "metadata": {
  "kernelspec": {
   "display_name": "Python 3",
   "language": "python",
   "name": "python3"
  },
  "language_info": {
   "codemirror_mode": {
    "name": "ipython",
    "version": 3
   },
   "file_extension": ".py",
   "mimetype": "text/x-python",
   "name": "python",
   "nbconvert_exporter": "python",
   "pygments_lexer": "ipython3",
   "version": "3.7.4"
  }
 },
 "nbformat": 4,
 "nbformat_minor": 4
}
