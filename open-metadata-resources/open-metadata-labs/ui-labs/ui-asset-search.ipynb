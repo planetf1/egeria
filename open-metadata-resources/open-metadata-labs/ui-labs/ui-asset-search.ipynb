{
 "cells": [
  {
   "cell_type": "markdown",
   "metadata": {},
   "source": [
    "![Egeria Logo](https://raw.githubusercontent.com/odpi/egeria/master/assets/img/ODPi_Egeria_Logo_color.png)\n",
    "\n",
    "### ODPi Egeria Hands-On Lab\n",
    "# Welcome to the UI Asset Search Lab"
   ]
  },
  {
   "cell_type": "markdown",
   "metadata": {},
   "source": [
    "## Introduction\n",
    "\n",
    "ODPi Egeria is an open source project that provides open standards and implementation libraries to connect tools, catalogs and platforms together so they can share information (called metadata) about data and the technology that supports it.\n",
    "\n",
    "In this hands-on lab you will get a chance to have hands-on experience with the UI of Egeria, by searching for assets we add along the way."
   ]
  },
  {
   "cell_type": "markdown",
   "metadata": {},
   "source": [
    "## The Scenario\n",
    "\n",
    "The ODPi Egeria team use the personas and scenarios from the fictitious company called Coco Pharmaceuticals.  (See https://opengovernance.odpi.org/coco-pharmaceuticals/ for more information).\n",
    "\n",
    "As part of the huge business transformation that Coco Pharmaceuticals has embarked on, they\n",
    "have created a data lake for managing data for research, analytics, exchange between their internal organizations and business partners (such as hospitals).  As a result, the data lake has to be\n",
    "designed to handle a wide variety of data, including some highly sensitive and regulated data.\n",
    "\n",
    "In this lab we use first data engine to import pre-defined assets. Afterwards, the UI where we can search for assets is shown. The main character engaged in this lab is the data scientist named Callie Quartile."
   ]
  },
  {
   "cell_type": "markdown",
   "metadata": {},
   "source": [
    "<img style=\"margin-left: 7%;\" src=\"../images/callie-quartile.png\">"
   ]
  },
  {
   "cell_type": "markdown",
   "metadata": {},
   "source": [
    "> **Callie Quartile:** Data Scientist"
   ]
  },
  {
   "cell_type": "markdown",
   "metadata": {},
   "source": [
    "## Setting up\n",
    "\n",
    "Coco Pharmaceuticals make widespread use of ODPi Egeria for tracking and managing their data and related assets.\n",
    "Figure 1 below shows their metadata servers and the Open Metadata and Governance (OMAG) Server Platforms that are hosting them.  Each metadata server supports a department in the organization.  The servers are distributed across the platform to even out the workload.  Servers can be moved to a different platform if needed.\n",
    "\n",
    "![Figure 1](../images/coco-pharmaceuticals-systems-omag-server-platforms.png)\n",
    "> **Figure 1:** Coco Pharmaceuticals' OMAG Server Platforms\n",
    "\n",
    "The code below sets up the network addresses for the three platforms.  This varies depending on whether you are running them locally, through **docker-compose** or on **kubernetes**."
   ]
  },
  {
   "cell_type": "code",
   "execution_count": null,
   "metadata": {},
   "outputs": [],
   "source": [
    "%run ../common/environment-check.ipynb"
   ]
  },
  {
   "cell_type": "markdown",
   "metadata": {},
   "source": [
    "----\n",
    "Callie is using the data lake metadata server called `cocoMDS4`. This server is hosted on the Data Lake OMAG Server Platform. It enables business users and the executive team to access data from the data lake.\n",
    "\n",
    "Check that `cocoMDS4` is running.  \n",
    "\n",
    "If any of the platforms are not running, follow [this link to set up and run the platform](https://egeria.odpi.org/open-metadata-resources/open-metadata-labs/).  If any server is reporting that it is not configured then\n",
    "run the steps in the **[Server Configuration](../egeria-server-config.ipynb)** lab to configure\n",
    "the servers.  Then re-run the previous step to ensure all of the servers are started."
   ]
  },
  {
   "cell_type": "markdown",
   "metadata": {},
   "source": [
    "----\n",
    "## Exercise 1\n",
    "\n",
    "### Importing IGC events\n",
    "\n",
    "IBM InfoSphere Information Governance Catalog (IGC) is a tool that allows you to create, manage and share a common business language, document and enact policies and rules and track data lineage.\n",
    "\n",
    "For this part of the exercises, we have prepared a set of events for Data Engine OMAS in `cocoMDS4` to pick up. The precise process on how these events have been created is more comvoluted, and is out of scope of this lab."
   ]
  },
  {
   "cell_type": "markdown",
   "metadata": {},
   "source": [
    "#### Install kafka-python"
   ]
  },
  {
   "cell_type": "markdown",
   "metadata": {},
   "source": [
    "We will send the IGC events through the kafka bus. The `kafka-python` package allows us to interact with kafka directly with Python."
   ]
  },
  {
   "cell_type": "code",
   "execution_count": null,
   "metadata": {},
   "outputs": [],
   "source": [
    "!pip install kafka-python"
   ]
  },
  {
   "cell_type": "markdown",
   "metadata": {},
   "source": [
    "#### Import IGC events"
   ]
  },
  {
   "cell_type": "markdown",
   "metadata": {},
   "source": [
    "Before importing the events, we first pull the value from an environment variable called `eventBusURLroot` with a default value of `localhost:9092`.  It is used in all of the server configuration documents to connect it to Kafka."
   ]
  },
  {
   "cell_type": "code",
   "execution_count": null,
   "metadata": {},
   "outputs": [],
   "source": [
    "import os\n",
    "\n",
    "eventBusURLroot = os.environ.get('eventBusURLroot', 'localhost:9092')"
   ]
  },
  {
   "cell_type": "markdown",
   "metadata": {},
   "source": [
    "The IGC events to create assets are located in the text file `igc-events.txt`. One line represents one event. The kafka topic we should send these events to is `egeria.omag.openmetadata.repositoryservices.cohort.cocoCohort.OMRSTopic`."
   ]
  },
  {
   "cell_type": "code",
   "execution_count": null,
   "metadata": {},
   "outputs": [],
   "source": [
    "from kafka import KafkaProducer, KafkaClient\n",
    "\n",
    "producer = KafkaProducer(bootstrap_servers=eventBusURLroot)\n",
    "\n",
    "with open('igc-events.txt', 'r') as f:\n",
    "    for line in f:\n",
    "        producer.send(\n",
    "            'egeria.omag.openmetadata.repositoryservices.cohort.cocoCohort.OMRSTopic', \n",
    "            str.encode(line)\n",
    "        )"
   ]
  },
  {
   "cell_type": "markdown",
   "metadata": {},
   "source": [
    "The code above reads one event at a time, and sends it to the `egeria.omag.openmetadata.repositoryservices.cohort.cocoCohort.OMRSTopic` kafka topic. All OMAS servers listening to this topic will attempt to pick up and process these events. Once successful, we can search for the assets in the UI."
   ]
  },
  {
   "cell_type": "markdown",
   "metadata": {},
   "source": [
    "## Exercise 2\n",
    "\n",
    "### Search for assets in the UI"
   ]
  },
  {
   "cell_type": "markdown",
   "metadata": {},
   "source": [
    "Now we can go to the UI, located at:\n",
    "```\n",
    "https://localhost:18443\n",
    "```"
   ]
  },
  {
   "cell_type": "markdown",
   "metadata": {},
   "source": [
    "<img src=\"../images/egeria-ui-login.png\" width=\"800\" height=\"100\" alt=\"Figure 2\" />\n",
    "\n",
    "> **Figure 2:** Egeria UI's login page"
   ]
  },
  {
   "cell_type": "markdown",
   "metadata": {},
   "source": [
    "and login with the credential of Callie Quartile:\n",
    "```\n",
    "Username: calliequartile\n",
    "Password: admin\n",
    "```"
   ]
  },
  {
   "cell_type": "markdown",
   "metadata": {},
   "source": [
    "---\n",
    "After logging in, we should end up at the asset search page:\n",
    "\n",
    "<img src=\"../images/egeria-ui-asset-search.png\" width=\"800\" height=\"100\" alt=\"Figure 3\" />\n",
    "\n",
    "> **Figure 3:** Egeria UI's asset search page"
   ]
  },
  {
   "cell_type": "markdown",
   "metadata": {},
   "source": [
    "---\n",
    "\n",
    "Next, searching for `FNAME` yields the results as follows:\n",
    "\n",
    "<img src=\"../images/egeria-ui-asset-list.png\" width=\"800\" height=\"100\" alt=\"Figure 4\" />\n",
    "\n",
    "> **Figure 4:** Egeria UI's asset search result"
   ]
  },
  {
   "cell_type": "markdown",
   "metadata": {},
   "source": [
    "The following attributes are present:\n",
    "- **Name**: Name of the asset.\n",
    "- **Type**: Asset type.\n",
    "- **Description**: Text description of the asset. In our example this field is empty for all four results.\n",
    "- **QualifiedName**: Unique identifier to differentiate different assets.\n",
    "- **Options**: Additional interactive options to interact with the returned assets. The `Lineage` hyperlink is clickable, but asset lineage is not within the scope of this tutorial."
   ]
  },
  {
   "cell_type": "code",
   "execution_count": null,
   "metadata": {},
   "outputs": [],
   "source": []
  }
 ],
 "metadata": {
  "kernelspec": {
   "display_name": "Python 3",
   "language": "python",
   "name": "python3"
  },
  "language_info": {
   "codemirror_mode": {
    "name": "ipython",
    "version": 3
   },
   "file_extension": ".py",
   "mimetype": "text/x-python",
   "name": "python",
   "nbconvert_exporter": "python",
   "pygments_lexer": "ipython3",
   "version": "3.7.4"
  }
 },
 "nbformat": 4,
 "nbformat_minor": 2
}
